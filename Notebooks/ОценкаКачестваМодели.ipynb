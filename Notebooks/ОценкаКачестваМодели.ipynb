{
  "nbformat": 4,
  "nbformat_minor": 0,
  "metadata": {
    "colab": {
      "provenance": [],
      "collapsed_sections": [
        "r5YCFJK6UnoZ",
        "NF9C2w9SUrub"
      ]
    },
    "kernelspec": {
      "name": "python3",
      "display_name": "Python 3"
    },
    "language_info": {
      "name": "python"
    }
  },
  "cells": [
    {
      "cell_type": "markdown",
      "source": [
        "# Оценка качества модели"
      ],
      "metadata": {
        "id": "qCf6Y4rlEciQ"
      }
    },
    {
      "cell_type": "markdown",
      "source": [
        "## Импорт библиотек"
      ],
      "metadata": {
        "id": "r5YCFJK6UnoZ"
      }
    },
    {
      "cell_type": "code",
      "source": [
        "from transformers import AutoModelForCausalLM, AutoTokenizer\n",
        "import torch\n",
        "\n",
        "import pandas as pd\n",
        "import matplotlib.pyplot as plt\n",
        "import seaborn as sns\n",
        "\n",
        "from sklearn.feature_extraction.text import TfidfVectorizer"
      ],
      "metadata": {
        "id": "fcv3fXczZpr_"
      },
      "execution_count": 1,
      "outputs": []
    },
    {
      "cell_type": "markdown",
      "source": [
        "## Загрузка модели"
      ],
      "metadata": {
        "id": "NF9C2w9SUrub"
      }
    },
    {
      "cell_type": "code",
      "source": [
        "# Загрузка модели\n",
        "model = AutoModelForCausalLM.from_pretrained('/content/drive/MyDrive/Проектный практикум 3/model')\n",
        "\n",
        "# Загрузка токенизатора\n",
        "tokenizer = AutoTokenizer.from_pretrained('/content/drive/MyDrive/Проектный практикум 3/model')"
      ],
      "metadata": {
        "id": "hr0j7rHFgtOW"
      },
      "execution_count": null,
      "outputs": []
    },
    {
      "cell_type": "markdown",
      "source": [
        "## Генерация отзывов\n",
        "\n",
        "Сгенерируем отзывы с рейтингами от 1 до 5 для топ-5 рубрик и ключевых слов из датасета (категории и ключевые слова по ним были извлечены из исходного датасета, на котором проводилось обучение модели), а также вычисленим perplexity для каждого отзыва.\n",
        "\n",
        "\n",
        "При генерации будем использовать следующие параметры:\n",
        "- max_length=150,\n",
        "- num_return_sequences=1,\n",
        "- no_repeat_ngram_size=2,\n",
        "- do_sample=True,\n",
        "- top_p=0.95,\n",
        "- top_k=60,\n",
        "- temperature=1"
      ],
      "metadata": {
        "id": "kYVZMeeUUzi_"
      }
    },
    {
      "cell_type": "code",
      "source": [
        "# Генерация отзыва\n",
        "def gen_review(input_text, model, tokenizer, params):\n",
        "    input_ids = tokenizer.encode(input_text, return_tensors='pt')\n",
        "    output = model.generate(\n",
        "        input_ids,\n",
        "        max_length=params['max_length'],\n",
        "        num_return_sequences=params['num_return_sequences'],\n",
        "        no_repeat_ngram_size=params['no_repeat_ngram_size'],\n",
        "        do_sample=params['do_sample'],\n",
        "        top_p=params['top_p'],\n",
        "        top_k=params['top_k'],\n",
        "        temperature=params['temperature'],\n",
        "        eos_token_id=tokenizer.eos_token_id,\n",
        "    )\n",
        "    return tokenizer.decode(output[0], skip_special_tokens=True)"
      ],
      "metadata": {
        "id": "vUYG5p8EZsiG"
      },
      "execution_count": null,
      "outputs": []
    },
    {
      "cell_type": "code",
      "source": [
        "# Функция для обработки текста отзыва\n",
        "def capitalize_and_punctuate(text):\n",
        "    # Извлекаем часть текста после последнего двоеточия\n",
        "    text = text.split(\":\")[-1].strip()\n",
        "\n",
        "    # Разделяем текст на предложения по общим знакам препинания\n",
        "    sentences = []\n",
        "    current_sentence = []\n",
        "    for char in text:\n",
        "        current_sentence.append(char)\n",
        "        # Если встречаем знак конца предложения, добавляем его в список предложений\n",
        "        if char in '.!?':\n",
        "            sentences.append(''.join(current_sentence).strip())\n",
        "            current_sentence = []\n",
        "\n",
        "    # Если остался текст, добавляем его как последнее предложение\n",
        "    if current_sentence:\n",
        "        sentences.append(''.join(current_sentence).strip())\n",
        "\n",
        "    # Обрабатываем каждое предложение, чтобы сделать первую букву заглавной\n",
        "    corrected_sentences = []\n",
        "    for sentence in sentences:\n",
        "        if sentence:\n",
        "            # Делаем первую букву заглавной и добавляем точку в конце, если её нет\n",
        "            corrected_sentence = sentence[0].upper() + sentence[1:]\n",
        "            if not corrected_sentence.endswith('.'):\n",
        "                corrected_sentence += '.'\n",
        "            corrected_sentences.append(corrected_sentence)\n",
        "\n",
        "    # Объединяем все исправленные предложения в финальный текст\n",
        "    final_text = ' '.join(corrected_sentences)\n",
        "    return final_text"
      ],
      "metadata": {
        "id": "ess96LBQArc9"
      },
      "execution_count": null,
      "outputs": []
    },
    {
      "cell_type": "code",
      "source": [
        "# Функция для вычисления perplexity\n",
        "def calculate_perplexity(text, model, tokenizer):\n",
        "    # Токенизация текста\n",
        "    input_ids = tokenizer.encode(text, return_tensors='pt')\n",
        "\n",
        "    # Вычисление потерь (loss)\n",
        "    with torch.no_grad():\n",
        "        outputs = model(input_ids, labels=input_ids)\n",
        "        loss = outputs.loss\n",
        "\n",
        "    # Вычисление perplexity\n",
        "    perplexity = torch.exp(loss)\n",
        "    return perplexity.item()"
      ],
      "metadata": {
        "id": "ZjGs0Ew5F5pa"
      },
      "execution_count": null,
      "outputs": []
    },
    {
      "cell_type": "code",
      "source": [
        "# Параметры генерации\n",
        "params = {}\n",
        "params['max_length'] = 150\n",
        "params['num_return_sequences'] = 1\n",
        "params['no_repeat_ngram_size'] = 2\n",
        "params['do_sample'] = True\n",
        "params['top_p'] = 0.95\n",
        "params['top_k'] = 60\n",
        "params['temperature'] = 1"
      ],
      "metadata": {
        "id": "DDC5fYK2ZsoA"
      },
      "execution_count": null,
      "outputs": []
    },
    {
      "cell_type": "code",
      "source": [
        "def generate_text(category, rating, key_words):\n",
        "    # Ввод новых параметров\n",
        "    input_text = f\"Категория: {category}; Рейтинг: {rating}; Ключевые слова: {key_words} -> Отзыв:\"\n",
        "\n",
        "    # Генерация отзыва\n",
        "    generated_text = gen_review(input_text, model, tokenizer, params)\n",
        "    generated_text = capitalize_and_punctuate(generated_text)\n",
        "\n",
        "    # Вычисление perplexity\n",
        "    perplexity = calculate_perplexity(generated_text, model, tokenizer)\n",
        "\n",
        "    return generated_text, perplexity"
      ],
      "metadata": {
        "id": "BmLytv_sBRpu"
      },
      "execution_count": null,
      "outputs": []
    },
    {
      "cell_type": "code",
      "source": [
        "# Функция добавления отзыва и perplexityв DataFrame\n",
        "def analyze_and_add_to_dataset(category, rating, key_words, df):\n",
        "    text, perplexity = generate_text(category, rating, key_words)\n",
        "    new_data = {\n",
        "        'text': text,\n",
        "        'category': category,\n",
        "        'rating': rating,\n",
        "        'key_words': key_words,\n",
        "        'perplexity': perplexity,\n",
        "    }\n",
        "    new_row = pd.DataFrame([new_data])\n",
        "    new_row = new_row.dropna(axis=1, how='all')\n",
        "    df = pd.concat([df, new_row], ignore_index=True)\n",
        "    return df"
      ],
      "metadata": {
        "id": "e9097uPkLHS3"
      },
      "execution_count": null,
      "outputs": []
    },
    {
      "cell_type": "code",
      "source": [
        "# Загружаем ключевые слова для каждой рубрики выделенные из датасета\n",
        "tf_idf_aspects = pd.read_csv('/content/drive/MyDrive/Проектный практикум 3/tf_idf_aspects.csv')\n"
      ],
      "metadata": {
        "id": "jEdY_PsDKEwv"
      },
      "execution_count": null,
      "outputs": []
    },
    {
      "cell_type": "code",
      "source": [
        "tf_idf_aspects.info()"
      ],
      "metadata": {
        "colab": {
          "base_uri": "https://localhost:8080/"
        },
        "id": "nECn06USXTFg",
        "outputId": "3ea9c168-6a56-4530-8857-0f6aa9e82616"
      },
      "execution_count": null,
      "outputs": [
        {
          "output_type": "stream",
          "name": "stdout",
          "text": [
            "<class 'pandas.core.frame.DataFrame'>\n",
            "RangeIndex: 1244 entries, 0 to 1243\n",
            "Data columns (total 3 columns):\n",
            " #   Column   Non-Null Count  Dtype \n",
            "---  ------   --------------  ----- \n",
            " 0   rubrics  1244 non-null   object\n",
            " 1   words    1244 non-null   object\n",
            " 2   reviews  1244 non-null   int64 \n",
            "dtypes: int64(1), object(2)\n",
            "memory usage: 29.3+ KB\n"
          ]
        }
      ]
    },
    {
      "cell_type": "code",
      "source": [
        "tf_idf_aspects.head()"
      ],
      "metadata": {
        "colab": {
          "base_uri": "https://localhost:8080/",
          "height": 206
        },
        "id": "47o3aSIXKYF3",
        "outputId": "73bb7488-8c66-4306-8c65-e7db10f996da"
      },
      "execution_count": null,
      "outputs": [
        {
          "output_type": "execute_result",
          "data": {
            "text/plain": [
              "             rubrics                                              words  \\\n",
              "0               Кафе  цена, персонал, обслуживание, место, меню, кух...   \n",
              "1           Ресторан  цена, ресторан, персонал, обслуживание, музыка...   \n",
              "2          Гостиница  этаж, место, вид, вода, гостиница, день, еда, ...   \n",
              "3  Магазин продуктов  цена, товар, продукт, персонал, магазин, касса...   \n",
              "4        Супермаркет  цена, товар, продукт, персонал, очередь, магаз...   \n",
              "\n",
              "   reviews  \n",
              "0    58496  \n",
              "1    56761  \n",
              "2    43133  \n",
              "3    21346  \n",
              "4    19746  "
            ],
            "text/html": [
              "\n",
              "  <div id=\"df-c6aea978-ae6e-418b-a455-46d92c31b1c5\" class=\"colab-df-container\">\n",
              "    <div>\n",
              "<style scoped>\n",
              "    .dataframe tbody tr th:only-of-type {\n",
              "        vertical-align: middle;\n",
              "    }\n",
              "\n",
              "    .dataframe tbody tr th {\n",
              "        vertical-align: top;\n",
              "    }\n",
              "\n",
              "    .dataframe thead th {\n",
              "        text-align: right;\n",
              "    }\n",
              "</style>\n",
              "<table border=\"1\" class=\"dataframe\">\n",
              "  <thead>\n",
              "    <tr style=\"text-align: right;\">\n",
              "      <th></th>\n",
              "      <th>rubrics</th>\n",
              "      <th>words</th>\n",
              "      <th>reviews</th>\n",
              "    </tr>\n",
              "  </thead>\n",
              "  <tbody>\n",
              "    <tr>\n",
              "      <th>0</th>\n",
              "      <td>Кафе</td>\n",
              "      <td>цена, персонал, обслуживание, место, меню, кух...</td>\n",
              "      <td>58496</td>\n",
              "    </tr>\n",
              "    <tr>\n",
              "      <th>1</th>\n",
              "      <td>Ресторан</td>\n",
              "      <td>цена, ресторан, персонал, обслуживание, музыка...</td>\n",
              "      <td>56761</td>\n",
              "    </tr>\n",
              "    <tr>\n",
              "      <th>2</th>\n",
              "      <td>Гостиница</td>\n",
              "      <td>этаж, место, вид, вода, гостиница, день, еда, ...</td>\n",
              "      <td>43133</td>\n",
              "    </tr>\n",
              "    <tr>\n",
              "      <th>3</th>\n",
              "      <td>Магазин продуктов</td>\n",
              "      <td>цена, товар, продукт, персонал, магазин, касса...</td>\n",
              "      <td>21346</td>\n",
              "    </tr>\n",
              "    <tr>\n",
              "      <th>4</th>\n",
              "      <td>Супермаркет</td>\n",
              "      <td>цена, товар, продукт, персонал, очередь, магаз...</td>\n",
              "      <td>19746</td>\n",
              "    </tr>\n",
              "  </tbody>\n",
              "</table>\n",
              "</div>\n",
              "    <div class=\"colab-df-buttons\">\n",
              "\n",
              "  <div class=\"colab-df-container\">\n",
              "    <button class=\"colab-df-convert\" onclick=\"convertToInteractive('df-c6aea978-ae6e-418b-a455-46d92c31b1c5')\"\n",
              "            title=\"Convert this dataframe to an interactive table.\"\n",
              "            style=\"display:none;\">\n",
              "\n",
              "  <svg xmlns=\"http://www.w3.org/2000/svg\" height=\"24px\" viewBox=\"0 -960 960 960\">\n",
              "    <path d=\"M120-120v-720h720v720H120Zm60-500h600v-160H180v160Zm220 220h160v-160H400v160Zm0 220h160v-160H400v160ZM180-400h160v-160H180v160Zm440 0h160v-160H620v160ZM180-180h160v-160H180v160Zm440 0h160v-160H620v160Z\"/>\n",
              "  </svg>\n",
              "    </button>\n",
              "\n",
              "  <style>\n",
              "    .colab-df-container {\n",
              "      display:flex;\n",
              "      gap: 12px;\n",
              "    }\n",
              "\n",
              "    .colab-df-convert {\n",
              "      background-color: #E8F0FE;\n",
              "      border: none;\n",
              "      border-radius: 50%;\n",
              "      cursor: pointer;\n",
              "      display: none;\n",
              "      fill: #1967D2;\n",
              "      height: 32px;\n",
              "      padding: 0 0 0 0;\n",
              "      width: 32px;\n",
              "    }\n",
              "\n",
              "    .colab-df-convert:hover {\n",
              "      background-color: #E2EBFA;\n",
              "      box-shadow: 0px 1px 2px rgba(60, 64, 67, 0.3), 0px 1px 3px 1px rgba(60, 64, 67, 0.15);\n",
              "      fill: #174EA6;\n",
              "    }\n",
              "\n",
              "    .colab-df-buttons div {\n",
              "      margin-bottom: 4px;\n",
              "    }\n",
              "\n",
              "    [theme=dark] .colab-df-convert {\n",
              "      background-color: #3B4455;\n",
              "      fill: #D2E3FC;\n",
              "    }\n",
              "\n",
              "    [theme=dark] .colab-df-convert:hover {\n",
              "      background-color: #434B5C;\n",
              "      box-shadow: 0px 1px 3px 1px rgba(0, 0, 0, 0.15);\n",
              "      filter: drop-shadow(0px 1px 2px rgba(0, 0, 0, 0.3));\n",
              "      fill: #FFFFFF;\n",
              "    }\n",
              "  </style>\n",
              "\n",
              "    <script>\n",
              "      const buttonEl =\n",
              "        document.querySelector('#df-c6aea978-ae6e-418b-a455-46d92c31b1c5 button.colab-df-convert');\n",
              "      buttonEl.style.display =\n",
              "        google.colab.kernel.accessAllowed ? 'block' : 'none';\n",
              "\n",
              "      async function convertToInteractive(key) {\n",
              "        const element = document.querySelector('#df-c6aea978-ae6e-418b-a455-46d92c31b1c5');\n",
              "        const dataTable =\n",
              "          await google.colab.kernel.invokeFunction('convertToInteractive',\n",
              "                                                    [key], {});\n",
              "        if (!dataTable) return;\n",
              "\n",
              "        const docLinkHtml = 'Like what you see? Visit the ' +\n",
              "          '<a target=\"_blank\" href=https://colab.research.google.com/notebooks/data_table.ipynb>data table notebook</a>'\n",
              "          + ' to learn more about interactive tables.';\n",
              "        element.innerHTML = '';\n",
              "        dataTable['output_type'] = 'display_data';\n",
              "        await google.colab.output.renderOutput(dataTable, element);\n",
              "        const docLink = document.createElement('div');\n",
              "        docLink.innerHTML = docLinkHtml;\n",
              "        element.appendChild(docLink);\n",
              "      }\n",
              "    </script>\n",
              "  </div>\n",
              "\n",
              "\n",
              "<div id=\"df-4b9ef7da-78e2-4ada-8261-35c75ceb70fc\">\n",
              "  <button class=\"colab-df-quickchart\" onclick=\"quickchart('df-4b9ef7da-78e2-4ada-8261-35c75ceb70fc')\"\n",
              "            title=\"Suggest charts\"\n",
              "            style=\"display:none;\">\n",
              "\n",
              "<svg xmlns=\"http://www.w3.org/2000/svg\" height=\"24px\"viewBox=\"0 0 24 24\"\n",
              "     width=\"24px\">\n",
              "    <g>\n",
              "        <path d=\"M19 3H5c-1.1 0-2 .9-2 2v14c0 1.1.9 2 2 2h14c1.1 0 2-.9 2-2V5c0-1.1-.9-2-2-2zM9 17H7v-7h2v7zm4 0h-2V7h2v10zm4 0h-2v-4h2v4z\"/>\n",
              "    </g>\n",
              "</svg>\n",
              "  </button>\n",
              "\n",
              "<style>\n",
              "  .colab-df-quickchart {\n",
              "      --bg-color: #E8F0FE;\n",
              "      --fill-color: #1967D2;\n",
              "      --hover-bg-color: #E2EBFA;\n",
              "      --hover-fill-color: #174EA6;\n",
              "      --disabled-fill-color: #AAA;\n",
              "      --disabled-bg-color: #DDD;\n",
              "  }\n",
              "\n",
              "  [theme=dark] .colab-df-quickchart {\n",
              "      --bg-color: #3B4455;\n",
              "      --fill-color: #D2E3FC;\n",
              "      --hover-bg-color: #434B5C;\n",
              "      --hover-fill-color: #FFFFFF;\n",
              "      --disabled-bg-color: #3B4455;\n",
              "      --disabled-fill-color: #666;\n",
              "  }\n",
              "\n",
              "  .colab-df-quickchart {\n",
              "    background-color: var(--bg-color);\n",
              "    border: none;\n",
              "    border-radius: 50%;\n",
              "    cursor: pointer;\n",
              "    display: none;\n",
              "    fill: var(--fill-color);\n",
              "    height: 32px;\n",
              "    padding: 0;\n",
              "    width: 32px;\n",
              "  }\n",
              "\n",
              "  .colab-df-quickchart:hover {\n",
              "    background-color: var(--hover-bg-color);\n",
              "    box-shadow: 0 1px 2px rgba(60, 64, 67, 0.3), 0 1px 3px 1px rgba(60, 64, 67, 0.15);\n",
              "    fill: var(--button-hover-fill-color);\n",
              "  }\n",
              "\n",
              "  .colab-df-quickchart-complete:disabled,\n",
              "  .colab-df-quickchart-complete:disabled:hover {\n",
              "    background-color: var(--disabled-bg-color);\n",
              "    fill: var(--disabled-fill-color);\n",
              "    box-shadow: none;\n",
              "  }\n",
              "\n",
              "  .colab-df-spinner {\n",
              "    border: 2px solid var(--fill-color);\n",
              "    border-color: transparent;\n",
              "    border-bottom-color: var(--fill-color);\n",
              "    animation:\n",
              "      spin 1s steps(1) infinite;\n",
              "  }\n",
              "\n",
              "  @keyframes spin {\n",
              "    0% {\n",
              "      border-color: transparent;\n",
              "      border-bottom-color: var(--fill-color);\n",
              "      border-left-color: var(--fill-color);\n",
              "    }\n",
              "    20% {\n",
              "      border-color: transparent;\n",
              "      border-left-color: var(--fill-color);\n",
              "      border-top-color: var(--fill-color);\n",
              "    }\n",
              "    30% {\n",
              "      border-color: transparent;\n",
              "      border-left-color: var(--fill-color);\n",
              "      border-top-color: var(--fill-color);\n",
              "      border-right-color: var(--fill-color);\n",
              "    }\n",
              "    40% {\n",
              "      border-color: transparent;\n",
              "      border-right-color: var(--fill-color);\n",
              "      border-top-color: var(--fill-color);\n",
              "    }\n",
              "    60% {\n",
              "      border-color: transparent;\n",
              "      border-right-color: var(--fill-color);\n",
              "    }\n",
              "    80% {\n",
              "      border-color: transparent;\n",
              "      border-right-color: var(--fill-color);\n",
              "      border-bottom-color: var(--fill-color);\n",
              "    }\n",
              "    90% {\n",
              "      border-color: transparent;\n",
              "      border-bottom-color: var(--fill-color);\n",
              "    }\n",
              "  }\n",
              "</style>\n",
              "\n",
              "  <script>\n",
              "    async function quickchart(key) {\n",
              "      const quickchartButtonEl =\n",
              "        document.querySelector('#' + key + ' button');\n",
              "      quickchartButtonEl.disabled = true;  // To prevent multiple clicks.\n",
              "      quickchartButtonEl.classList.add('colab-df-spinner');\n",
              "      try {\n",
              "        const charts = await google.colab.kernel.invokeFunction(\n",
              "            'suggestCharts', [key], {});\n",
              "      } catch (error) {\n",
              "        console.error('Error during call to suggestCharts:', error);\n",
              "      }\n",
              "      quickchartButtonEl.classList.remove('colab-df-spinner');\n",
              "      quickchartButtonEl.classList.add('colab-df-quickchart-complete');\n",
              "    }\n",
              "    (() => {\n",
              "      let quickchartButtonEl =\n",
              "        document.querySelector('#df-4b9ef7da-78e2-4ada-8261-35c75ceb70fc button');\n",
              "      quickchartButtonEl.style.display =\n",
              "        google.colab.kernel.accessAllowed ? 'block' : 'none';\n",
              "    })();\n",
              "  </script>\n",
              "</div>\n",
              "    </div>\n",
              "  </div>\n"
            ],
            "application/vnd.google.colaboratory.intrinsic+json": {
              "type": "dataframe",
              "variable_name": "tf_idf_aspects",
              "summary": "{\n  \"name\": \"tf_idf_aspects\",\n  \"rows\": 1244,\n  \"fields\": [\n    {\n      \"column\": \"rubrics\",\n      \"properties\": {\n        \"dtype\": \"string\",\n        \"num_unique_values\": 1244,\n        \"samples\": [\n          \"\\u0422\\u0435\\u043b\\u0435\\u043a\\u043e\\u043c\\u043c\\u0443\\u043d\\u0438\\u043a\\u0430\\u0446\\u0438\\u043e\\u043d\\u043d\\u043e\\u0435 \\u043e\\u0431\\u043e\\u0440\\u0443\\u0434\\u043e\\u0432\\u0430\\u043d\\u0438\\u0435\",\n          \"\\u042d\\u043b\\u0435\\u043a\\u0442\\u0440\\u043e\\u043d\\u043d\\u0430\\u044f \\u043f\\u043b\\u0430\\u0442\\u0451\\u0436\\u043d\\u0430\\u044f \\u0441\\u0438\\u0441\\u0442\\u0435\\u043c\\u0430\",\n          \"\\u0424\\u043b\\u043e\\u0430\\u0442\\u0438\\u043d\\u0433\"\n        ],\n        \"semantic_type\": \"\",\n        \"description\": \"\"\n      }\n    },\n    {\n      \"column\": \"words\",\n      \"properties\": {\n        \"dtype\": \"string\",\n        \"num_unique_values\": 1238,\n        \"samples\": [\n          \"\\u0446\\u0435\\u043d\\u0430, \\u0443\\u0441\\u043b\\u0443\\u0433\\u0430, \\u0443\\u0431\\u043e\\u0440\\u043a\\u0430, \\u0442\\u0430\\u0440\\u0430\\u043a\\u0430\\u043d, \\u0440\\u0435\\u0437\\u0443\\u043b\\u044c\\u0442\\u0430\\u0442, \\u0440\\u0430\\u0431\\u043e\\u0442\\u0430, \\u043a\\u043e\\u043c\\u043f\\u0430\\u043d\\u0438\\u044f, \\u043a\\u0432\\u0430\\u0440\\u0442\\u0438\\u0440\\u0430, \\u0434\\u043e\\u043c, \\u043e\\u0431\\u0440\\u0430\\u0431\\u043e\\u0442\\u043a\\u0430, \\u0432\\u043e\\u043f\\u0440\\u043e\\u0441, \\u0432\\u0440\\u0435\\u043c\\u044f, \\u0434\\u0435\\u043d\\u044c, \\u043f\\u0440\\u043e\\u0431\\u043b\\u0435\\u043c\\u0430\",\n          \"\\u044d\\u043a\\u0437\\u0430\\u043c\\u0435\\u043d, \\u0448\\u043a\\u043e\\u043b\\u0430, \\u0431\\u043b\\u0430\\u0433\\u043e\\u0434\\u0430\\u0440\\u043d\\u043e\\u0441\\u0442\\u044c, \\u0432\\u043e\\u0436\\u0434\\u0435\\u043d\\u0438\\u0435, \\u0432\\u0440\\u0435\\u043c\\u044f, \\u0434\\u0435\\u043b\\u043e, \\u0437\\u0430\\u043d\\u044f\\u0442\\u0438\\u0435, \\u0438\\u043d\\u0441\\u0442\\u0440\\u0443\\u043a\\u0442\\u043e\\u0440, \\u043e\\u0431\\u0443\\u0447\\u0435\\u043d\\u0438\\u0435, \\u043f\\u0440\\u0430\\u0432\\u043e, \\u043f\\u0440\\u0430\\u043a\\u0442\\u0438\\u043a\\u0430, \\u043f\\u0440\\u0435\\u043f\\u043e\\u0434\\u0430\\u0432\\u0430\\u0442\\u0435\\u043b\\u044c, \\u0430\\u0432\\u0442\\u043e\\u0448\\u043a\\u043e\\u043b\\u0430, \\u0434\\u043e\\u0440\\u043e\\u0433\\u0430, \\u0442\\u0435\\u0440\\u043f\\u0435\\u043d\\u0438\\u0435, \\u0432\\u043e\\u043f\\u0440\\u043e\\u0441, \\u0442\\u0435\\u043e\\u0440\\u0438\\u044f\",\n          \"\\u0440\\u0435\\u0431\\u0451\\u043d\\u043e\\u043a, \\u043f\\u0440\\u043e\\u0434\\u0443\\u043a\\u0446\\u0438\\u044f, \\u043f\\u043e\\u043b\\u0438\\u043a\\u043b\\u0438\\u043d\\u0438\\u043a\\u0430, \\u043f\\u0438\\u0442\\u0430\\u043d\\u0438\\u0435, \\u043f\\u0435\\u0440\\u0441\\u043e\\u043d\\u0430\\u043b, \\u043a\\u0443\\u0445\\u043d\\u044f, \\u0434\\u0435\\u043d\\u044c, \\u0432\\u0440\\u0430\\u0447, \\u043f\\u0443\\u043d\\u043a\\u0442, \\u0440\\u0435\\u043c\\u043e\\u043d\\u0442, \\u043c\\u0435\\u0441\\u0442\\u043e\"\n        ],\n        \"semantic_type\": \"\",\n        \"description\": \"\"\n      }\n    },\n    {\n      \"column\": \"reviews\",\n      \"properties\": {\n        \"dtype\": \"number\",\n        \"std\": 3120,\n        \"min\": 5,\n        \"max\": 58496,\n        \"num_unique_values\": 579,\n        \"samples\": [\n          538,\n          61,\n          23\n        ],\n        \"semantic_type\": \"\",\n        \"description\": \"\"\n      }\n    }\n  ]\n}"
            }
          },
          "metadata": {},
          "execution_count": 64
        }
      ]
    },
    {
      "cell_type": "markdown",
      "source": [
        "Сгенерируем отзывы с рейтингам от 1 до 5 для топ-5 рубрик и ключевых слов из датасета (категории и ключевые слова по ним были извлечены из исходного датасета, на котором проводилось обучение модели), а также вычисленим perplexity для каждого отзыва."
      ],
      "metadata": {
        "id": "qh91j4e1K4De"
      }
    },
    {
      "cell_type": "code",
      "source": [
        "# Создаем пустой DataFrame\n",
        "df_eval = pd.DataFrame(columns=['text', 'category', 'rating', 'key_words', 'perplexity'])"
      ],
      "metadata": {
        "id": "E5du3L2VLCJU"
      },
      "execution_count": null,
      "outputs": []
    },
    {
      "cell_type": "code",
      "source": [
        "# Генерируем и анализируем отзывы\n",
        "for idx in range(5):\n",
        "    for rating in range(1, 6):\n",
        "        df_eval = analyze_and_add_to_dataset(tf_idf_aspects['rubrics'][idx],\n",
        "                                        rating,\n",
        "                                        tf_idf_aspects['words'][idx],\n",
        "                                        df_eval)"
      ],
      "metadata": {
        "colab": {
          "base_uri": "https://localhost:8080/"
        },
        "id": "bcjpsUPZLy1g",
        "outputId": "67e76dde-3668-480b-e408-6f74875550f6"
      },
      "execution_count": null,
      "outputs": [
        {
          "output_type": "stream",
          "name": "stderr",
          "text": [
            "<ipython-input-89-a267200341a7>:13: FutureWarning: The behavior of DataFrame concatenation with empty or all-NA entries is deprecated. In a future version, this will no longer exclude empty or all-NA columns when determining the result dtypes. To retain the old behavior, exclude the relevant entries before the concat operation.\n",
            "  df = pd.concat([df, new_row], ignore_index=True)\n"
          ]
        }
      ]
    },
    {
      "cell_type": "code",
      "source": [
        "df_eval"
      ],
      "metadata": {
        "colab": {
          "base_uri": "https://localhost:8080/",
          "height": 833
        },
        "id": "m4P-RTRIRoui",
        "outputId": "65149288-c8d7-40d5-ccd6-300a131641e7"
      },
      "execution_count": 3,
      "outputs": [
        {
          "output_type": "execute_result",
          "data": {
            "text/plain": [
              "                                                 text           category  \\\n",
              "0   Были с мужем проездом в г. В челябинск. Посети...               Кафе   \n",
              "1   Был проездом в москве посетили это заведение. ...               Кафе   \n",
              "2   Если хотите чтобы вас накормили разнообразно и...               Кафе   \n",
              "3   Сегодня был свидетелем этой свадьбы. Это завед...               Кафе   \n",
              "4   В основном это кафе на первом этаже. Мы остана...               Кафе   \n",
              "5   Еда. . На улице жара а в доме - жара. - были в...           Ресторан   \n",
              "6   Были в ресторане очень понравилось заведение н...           Ресторан   \n",
              "7   Первый раз я здесь были в кафе с детьми в конц...           Ресторан   \n",
              "8   Решили отпраздновать день рождения в этом заве...           Ресторан   \n",
              "9   Были проездом в казани. На завтрак взяли хачап...           Ресторан   \n",
              "10  Останавливались семьей на сутки. Остановились ...          Гостиница   \n",
              "11  Останавливались в данном отеле с по февраля го...          Гостиница   \n",
              "12  Здравствуйте были в г. Измайлово февраля. В ит...          Гостиница   \n",
              "13  Были здесь в первые и не разочаровались. Очень...          Гостиница   \n",
              "14  Мы с подругой решили провести свой отпуск в ап...          Гостиница   \n",
              "15  Были в магазине вчера купили кингстайл молочны...  Магазин продуктов   \n",
              "16  Магазин как магазин. Продавцы в магазине ничег...  Магазин продуктов   \n",
              "17  В целом место приличное. Очень большой ассорти...  Магазин продуктов   \n",
              "18  В этом году была проездом в ростове-на-дону. З...  Магазин продуктов   \n",
              "19  Хороший выбор продуктов. В выходные всегда выб...  Магазин продуктов   \n",
              "20  Я бы хотела поделиться отзывом об этом магазин...        Супермаркет   \n",
              "21  Это просто ужас какой-то. Как на похоронах был...        Супермаркет   \n",
              "22  Если бы можно было поставить четыре звезды мне...        Супермаркет   \n",
              "23  Хороший магазин если хочешь что то приобрести ...        Супермаркет   \n",
              "24  Мне нравиться магазин по моему мнению. Здесь я...        Супермаркет   \n",
              "\n",
              "    rating                                          key_words  perplexity  \n",
              "0        1  цена, персонал, обслуживание, место, меню, кух...   29.638271  \n",
              "1        2  цена, персонал, обслуживание, место, меню, кух...   31.554161  \n",
              "2        3  цена, персонал, обслуживание, место, меню, кух...   22.850021  \n",
              "3        4  цена, персонал, обслуживание, место, меню, кух...   30.676085  \n",
              "4        5  цена, персонал, обслуживание, место, меню, кух...   33.650982  \n",
              "5        1  цена, ресторан, персонал, обслуживание, музыка...   30.906738  \n",
              "6        2  цена, ресторан, персонал, обслуживание, музыка...   41.778538  \n",
              "7        3  цена, ресторан, персонал, обслуживание, музыка...   34.690510  \n",
              "8        4  цена, ресторан, персонал, обслуживание, музыка...   29.401497  \n",
              "9        5  цена, ресторан, персонал, обслуживание, музыка...   33.054794  \n",
              "10       1  этаж, место, вид, вода, гостиница, день, еда, ...   22.986706  \n",
              "11       2  этаж, место, вид, вода, гостиница, день, еда, ...   33.021946  \n",
              "12       3  этаж, место, вид, вода, гостиница, день, еда, ...   29.859682  \n",
              "13       4  этаж, место, вид, вода, гостиница, день, еда, ...   23.772610  \n",
              "14       5  этаж, место, вид, вода, гостиница, день, еда, ...   27.241255  \n",
              "15       1  цена, товар, продукт, персонал, магазин, касса...   30.111855  \n",
              "16       2  цена, товар, продукт, персонал, магазин, касса...   40.366596  \n",
              "17       3  цена, товар, продукт, персонал, магазин, касса...   30.038219  \n",
              "18       4  цена, товар, продукт, персонал, магазин, касса...   27.260767  \n",
              "19       5  цена, товар, продукт, персонал, магазин, касса...   34.251244  \n",
              "20       1  цена, товар, продукт, персонал, очередь, магаз...   26.560778  \n",
              "21       2  цена, товар, продукт, персонал, очередь, магаз...   36.983761  \n",
              "22       3  цена, товар, продукт, персонал, очередь, магаз...   32.534519  \n",
              "23       4  цена, товар, продукт, персонал, очередь, магаз...   34.927048  \n",
              "24       5  цена, товар, продукт, персонал, очередь, магаз...   33.082073  "
            ],
            "text/html": [
              "\n",
              "  <div id=\"df-826d73ad-c388-469b-8a71-049c0b9c75ef\" class=\"colab-df-container\">\n",
              "    <div>\n",
              "<style scoped>\n",
              "    .dataframe tbody tr th:only-of-type {\n",
              "        vertical-align: middle;\n",
              "    }\n",
              "\n",
              "    .dataframe tbody tr th {\n",
              "        vertical-align: top;\n",
              "    }\n",
              "\n",
              "    .dataframe thead th {\n",
              "        text-align: right;\n",
              "    }\n",
              "</style>\n",
              "<table border=\"1\" class=\"dataframe\">\n",
              "  <thead>\n",
              "    <tr style=\"text-align: right;\">\n",
              "      <th></th>\n",
              "      <th>text</th>\n",
              "      <th>category</th>\n",
              "      <th>rating</th>\n",
              "      <th>key_words</th>\n",
              "      <th>perplexity</th>\n",
              "    </tr>\n",
              "  </thead>\n",
              "  <tbody>\n",
              "    <tr>\n",
              "      <th>0</th>\n",
              "      <td>Были с мужем проездом в г. В челябинск. Посети...</td>\n",
              "      <td>Кафе</td>\n",
              "      <td>1</td>\n",
              "      <td>цена, персонал, обслуживание, место, меню, кух...</td>\n",
              "      <td>29.638271</td>\n",
              "    </tr>\n",
              "    <tr>\n",
              "      <th>1</th>\n",
              "      <td>Был проездом в москве посетили это заведение. ...</td>\n",
              "      <td>Кафе</td>\n",
              "      <td>2</td>\n",
              "      <td>цена, персонал, обслуживание, место, меню, кух...</td>\n",
              "      <td>31.554161</td>\n",
              "    </tr>\n",
              "    <tr>\n",
              "      <th>2</th>\n",
              "      <td>Если хотите чтобы вас накормили разнообразно и...</td>\n",
              "      <td>Кафе</td>\n",
              "      <td>3</td>\n",
              "      <td>цена, персонал, обслуживание, место, меню, кух...</td>\n",
              "      <td>22.850021</td>\n",
              "    </tr>\n",
              "    <tr>\n",
              "      <th>3</th>\n",
              "      <td>Сегодня был свидетелем этой свадьбы. Это завед...</td>\n",
              "      <td>Кафе</td>\n",
              "      <td>4</td>\n",
              "      <td>цена, персонал, обслуживание, место, меню, кух...</td>\n",
              "      <td>30.676085</td>\n",
              "    </tr>\n",
              "    <tr>\n",
              "      <th>4</th>\n",
              "      <td>В основном это кафе на первом этаже. Мы остана...</td>\n",
              "      <td>Кафе</td>\n",
              "      <td>5</td>\n",
              "      <td>цена, персонал, обслуживание, место, меню, кух...</td>\n",
              "      <td>33.650982</td>\n",
              "    </tr>\n",
              "    <tr>\n",
              "      <th>5</th>\n",
              "      <td>Еда. . На улице жара а в доме - жара. - были в...</td>\n",
              "      <td>Ресторан</td>\n",
              "      <td>1</td>\n",
              "      <td>цена, ресторан, персонал, обслуживание, музыка...</td>\n",
              "      <td>30.906738</td>\n",
              "    </tr>\n",
              "    <tr>\n",
              "      <th>6</th>\n",
              "      <td>Были в ресторане очень понравилось заведение н...</td>\n",
              "      <td>Ресторан</td>\n",
              "      <td>2</td>\n",
              "      <td>цена, ресторан, персонал, обслуживание, музыка...</td>\n",
              "      <td>41.778538</td>\n",
              "    </tr>\n",
              "    <tr>\n",
              "      <th>7</th>\n",
              "      <td>Первый раз я здесь были в кафе с детьми в конц...</td>\n",
              "      <td>Ресторан</td>\n",
              "      <td>3</td>\n",
              "      <td>цена, ресторан, персонал, обслуживание, музыка...</td>\n",
              "      <td>34.690510</td>\n",
              "    </tr>\n",
              "    <tr>\n",
              "      <th>8</th>\n",
              "      <td>Решили отпраздновать день рождения в этом заве...</td>\n",
              "      <td>Ресторан</td>\n",
              "      <td>4</td>\n",
              "      <td>цена, ресторан, персонал, обслуживание, музыка...</td>\n",
              "      <td>29.401497</td>\n",
              "    </tr>\n",
              "    <tr>\n",
              "      <th>9</th>\n",
              "      <td>Были проездом в казани. На завтрак взяли хачап...</td>\n",
              "      <td>Ресторан</td>\n",
              "      <td>5</td>\n",
              "      <td>цена, ресторан, персонал, обслуживание, музыка...</td>\n",
              "      <td>33.054794</td>\n",
              "    </tr>\n",
              "    <tr>\n",
              "      <th>10</th>\n",
              "      <td>Останавливались семьей на сутки. Остановились ...</td>\n",
              "      <td>Гостиница</td>\n",
              "      <td>1</td>\n",
              "      <td>этаж, место, вид, вода, гостиница, день, еда, ...</td>\n",
              "      <td>22.986706</td>\n",
              "    </tr>\n",
              "    <tr>\n",
              "      <th>11</th>\n",
              "      <td>Останавливались в данном отеле с по февраля го...</td>\n",
              "      <td>Гостиница</td>\n",
              "      <td>2</td>\n",
              "      <td>этаж, место, вид, вода, гостиница, день, еда, ...</td>\n",
              "      <td>33.021946</td>\n",
              "    </tr>\n",
              "    <tr>\n",
              "      <th>12</th>\n",
              "      <td>Здравствуйте были в г. Измайлово февраля. В ит...</td>\n",
              "      <td>Гостиница</td>\n",
              "      <td>3</td>\n",
              "      <td>этаж, место, вид, вода, гостиница, день, еда, ...</td>\n",
              "      <td>29.859682</td>\n",
              "    </tr>\n",
              "    <tr>\n",
              "      <th>13</th>\n",
              "      <td>Были здесь в первые и не разочаровались. Очень...</td>\n",
              "      <td>Гостиница</td>\n",
              "      <td>4</td>\n",
              "      <td>этаж, место, вид, вода, гостиница, день, еда, ...</td>\n",
              "      <td>23.772610</td>\n",
              "    </tr>\n",
              "    <tr>\n",
              "      <th>14</th>\n",
              "      <td>Мы с подругой решили провести свой отпуск в ап...</td>\n",
              "      <td>Гостиница</td>\n",
              "      <td>5</td>\n",
              "      <td>этаж, место, вид, вода, гостиница, день, еда, ...</td>\n",
              "      <td>27.241255</td>\n",
              "    </tr>\n",
              "    <tr>\n",
              "      <th>15</th>\n",
              "      <td>Были в магазине вчера купили кингстайл молочны...</td>\n",
              "      <td>Магазин продуктов</td>\n",
              "      <td>1</td>\n",
              "      <td>цена, товар, продукт, персонал, магазин, касса...</td>\n",
              "      <td>30.111855</td>\n",
              "    </tr>\n",
              "    <tr>\n",
              "      <th>16</th>\n",
              "      <td>Магазин как магазин. Продавцы в магазине ничег...</td>\n",
              "      <td>Магазин продуктов</td>\n",
              "      <td>2</td>\n",
              "      <td>цена, товар, продукт, персонал, магазин, касса...</td>\n",
              "      <td>40.366596</td>\n",
              "    </tr>\n",
              "    <tr>\n",
              "      <th>17</th>\n",
              "      <td>В целом место приличное. Очень большой ассорти...</td>\n",
              "      <td>Магазин продуктов</td>\n",
              "      <td>3</td>\n",
              "      <td>цена, товар, продукт, персонал, магазин, касса...</td>\n",
              "      <td>30.038219</td>\n",
              "    </tr>\n",
              "    <tr>\n",
              "      <th>18</th>\n",
              "      <td>В этом году была проездом в ростове-на-дону. З...</td>\n",
              "      <td>Магазин продуктов</td>\n",
              "      <td>4</td>\n",
              "      <td>цена, товар, продукт, персонал, магазин, касса...</td>\n",
              "      <td>27.260767</td>\n",
              "    </tr>\n",
              "    <tr>\n",
              "      <th>19</th>\n",
              "      <td>Хороший выбор продуктов. В выходные всегда выб...</td>\n",
              "      <td>Магазин продуктов</td>\n",
              "      <td>5</td>\n",
              "      <td>цена, товар, продукт, персонал, магазин, касса...</td>\n",
              "      <td>34.251244</td>\n",
              "    </tr>\n",
              "    <tr>\n",
              "      <th>20</th>\n",
              "      <td>Я бы хотела поделиться отзывом об этом магазин...</td>\n",
              "      <td>Супермаркет</td>\n",
              "      <td>1</td>\n",
              "      <td>цена, товар, продукт, персонал, очередь, магаз...</td>\n",
              "      <td>26.560778</td>\n",
              "    </tr>\n",
              "    <tr>\n",
              "      <th>21</th>\n",
              "      <td>Это просто ужас какой-то. Как на похоронах был...</td>\n",
              "      <td>Супермаркет</td>\n",
              "      <td>2</td>\n",
              "      <td>цена, товар, продукт, персонал, очередь, магаз...</td>\n",
              "      <td>36.983761</td>\n",
              "    </tr>\n",
              "    <tr>\n",
              "      <th>22</th>\n",
              "      <td>Если бы можно было поставить четыре звезды мне...</td>\n",
              "      <td>Супермаркет</td>\n",
              "      <td>3</td>\n",
              "      <td>цена, товар, продукт, персонал, очередь, магаз...</td>\n",
              "      <td>32.534519</td>\n",
              "    </tr>\n",
              "    <tr>\n",
              "      <th>23</th>\n",
              "      <td>Хороший магазин если хочешь что то приобрести ...</td>\n",
              "      <td>Супермаркет</td>\n",
              "      <td>4</td>\n",
              "      <td>цена, товар, продукт, персонал, очередь, магаз...</td>\n",
              "      <td>34.927048</td>\n",
              "    </tr>\n",
              "    <tr>\n",
              "      <th>24</th>\n",
              "      <td>Мне нравиться магазин по моему мнению. Здесь я...</td>\n",
              "      <td>Супермаркет</td>\n",
              "      <td>5</td>\n",
              "      <td>цена, товар, продукт, персонал, очередь, магаз...</td>\n",
              "      <td>33.082073</td>\n",
              "    </tr>\n",
              "  </tbody>\n",
              "</table>\n",
              "</div>\n",
              "    <div class=\"colab-df-buttons\">\n",
              "\n",
              "  <div class=\"colab-df-container\">\n",
              "    <button class=\"colab-df-convert\" onclick=\"convertToInteractive('df-826d73ad-c388-469b-8a71-049c0b9c75ef')\"\n",
              "            title=\"Convert this dataframe to an interactive table.\"\n",
              "            style=\"display:none;\">\n",
              "\n",
              "  <svg xmlns=\"http://www.w3.org/2000/svg\" height=\"24px\" viewBox=\"0 -960 960 960\">\n",
              "    <path d=\"M120-120v-720h720v720H120Zm60-500h600v-160H180v160Zm220 220h160v-160H400v160Zm0 220h160v-160H400v160ZM180-400h160v-160H180v160Zm440 0h160v-160H620v160ZM180-180h160v-160H180v160Zm440 0h160v-160H620v160Z\"/>\n",
              "  </svg>\n",
              "    </button>\n",
              "\n",
              "  <style>\n",
              "    .colab-df-container {\n",
              "      display:flex;\n",
              "      gap: 12px;\n",
              "    }\n",
              "\n",
              "    .colab-df-convert {\n",
              "      background-color: #E8F0FE;\n",
              "      border: none;\n",
              "      border-radius: 50%;\n",
              "      cursor: pointer;\n",
              "      display: none;\n",
              "      fill: #1967D2;\n",
              "      height: 32px;\n",
              "      padding: 0 0 0 0;\n",
              "      width: 32px;\n",
              "    }\n",
              "\n",
              "    .colab-df-convert:hover {\n",
              "      background-color: #E2EBFA;\n",
              "      box-shadow: 0px 1px 2px rgba(60, 64, 67, 0.3), 0px 1px 3px 1px rgba(60, 64, 67, 0.15);\n",
              "      fill: #174EA6;\n",
              "    }\n",
              "\n",
              "    .colab-df-buttons div {\n",
              "      margin-bottom: 4px;\n",
              "    }\n",
              "\n",
              "    [theme=dark] .colab-df-convert {\n",
              "      background-color: #3B4455;\n",
              "      fill: #D2E3FC;\n",
              "    }\n",
              "\n",
              "    [theme=dark] .colab-df-convert:hover {\n",
              "      background-color: #434B5C;\n",
              "      box-shadow: 0px 1px 3px 1px rgba(0, 0, 0, 0.15);\n",
              "      filter: drop-shadow(0px 1px 2px rgba(0, 0, 0, 0.3));\n",
              "      fill: #FFFFFF;\n",
              "    }\n",
              "  </style>\n",
              "\n",
              "    <script>\n",
              "      const buttonEl =\n",
              "        document.querySelector('#df-826d73ad-c388-469b-8a71-049c0b9c75ef button.colab-df-convert');\n",
              "      buttonEl.style.display =\n",
              "        google.colab.kernel.accessAllowed ? 'block' : 'none';\n",
              "\n",
              "      async function convertToInteractive(key) {\n",
              "        const element = document.querySelector('#df-826d73ad-c388-469b-8a71-049c0b9c75ef');\n",
              "        const dataTable =\n",
              "          await google.colab.kernel.invokeFunction('convertToInteractive',\n",
              "                                                    [key], {});\n",
              "        if (!dataTable) return;\n",
              "\n",
              "        const docLinkHtml = 'Like what you see? Visit the ' +\n",
              "          '<a target=\"_blank\" href=https://colab.research.google.com/notebooks/data_table.ipynb>data table notebook</a>'\n",
              "          + ' to learn more about interactive tables.';\n",
              "        element.innerHTML = '';\n",
              "        dataTable['output_type'] = 'display_data';\n",
              "        await google.colab.output.renderOutput(dataTable, element);\n",
              "        const docLink = document.createElement('div');\n",
              "        docLink.innerHTML = docLinkHtml;\n",
              "        element.appendChild(docLink);\n",
              "      }\n",
              "    </script>\n",
              "  </div>\n",
              "\n",
              "\n",
              "<div id=\"df-d34eb103-8d67-433c-94af-cb3fb7c944fe\">\n",
              "  <button class=\"colab-df-quickchart\" onclick=\"quickchart('df-d34eb103-8d67-433c-94af-cb3fb7c944fe')\"\n",
              "            title=\"Suggest charts\"\n",
              "            style=\"display:none;\">\n",
              "\n",
              "<svg xmlns=\"http://www.w3.org/2000/svg\" height=\"24px\"viewBox=\"0 0 24 24\"\n",
              "     width=\"24px\">\n",
              "    <g>\n",
              "        <path d=\"M19 3H5c-1.1 0-2 .9-2 2v14c0 1.1.9 2 2 2h14c1.1 0 2-.9 2-2V5c0-1.1-.9-2-2-2zM9 17H7v-7h2v7zm4 0h-2V7h2v10zm4 0h-2v-4h2v4z\"/>\n",
              "    </g>\n",
              "</svg>\n",
              "  </button>\n",
              "\n",
              "<style>\n",
              "  .colab-df-quickchart {\n",
              "      --bg-color: #E8F0FE;\n",
              "      --fill-color: #1967D2;\n",
              "      --hover-bg-color: #E2EBFA;\n",
              "      --hover-fill-color: #174EA6;\n",
              "      --disabled-fill-color: #AAA;\n",
              "      --disabled-bg-color: #DDD;\n",
              "  }\n",
              "\n",
              "  [theme=dark] .colab-df-quickchart {\n",
              "      --bg-color: #3B4455;\n",
              "      --fill-color: #D2E3FC;\n",
              "      --hover-bg-color: #434B5C;\n",
              "      --hover-fill-color: #FFFFFF;\n",
              "      --disabled-bg-color: #3B4455;\n",
              "      --disabled-fill-color: #666;\n",
              "  }\n",
              "\n",
              "  .colab-df-quickchart {\n",
              "    background-color: var(--bg-color);\n",
              "    border: none;\n",
              "    border-radius: 50%;\n",
              "    cursor: pointer;\n",
              "    display: none;\n",
              "    fill: var(--fill-color);\n",
              "    height: 32px;\n",
              "    padding: 0;\n",
              "    width: 32px;\n",
              "  }\n",
              "\n",
              "  .colab-df-quickchart:hover {\n",
              "    background-color: var(--hover-bg-color);\n",
              "    box-shadow: 0 1px 2px rgba(60, 64, 67, 0.3), 0 1px 3px 1px rgba(60, 64, 67, 0.15);\n",
              "    fill: var(--button-hover-fill-color);\n",
              "  }\n",
              "\n",
              "  .colab-df-quickchart-complete:disabled,\n",
              "  .colab-df-quickchart-complete:disabled:hover {\n",
              "    background-color: var(--disabled-bg-color);\n",
              "    fill: var(--disabled-fill-color);\n",
              "    box-shadow: none;\n",
              "  }\n",
              "\n",
              "  .colab-df-spinner {\n",
              "    border: 2px solid var(--fill-color);\n",
              "    border-color: transparent;\n",
              "    border-bottom-color: var(--fill-color);\n",
              "    animation:\n",
              "      spin 1s steps(1) infinite;\n",
              "  }\n",
              "\n",
              "  @keyframes spin {\n",
              "    0% {\n",
              "      border-color: transparent;\n",
              "      border-bottom-color: var(--fill-color);\n",
              "      border-left-color: var(--fill-color);\n",
              "    }\n",
              "    20% {\n",
              "      border-color: transparent;\n",
              "      border-left-color: var(--fill-color);\n",
              "      border-top-color: var(--fill-color);\n",
              "    }\n",
              "    30% {\n",
              "      border-color: transparent;\n",
              "      border-left-color: var(--fill-color);\n",
              "      border-top-color: var(--fill-color);\n",
              "      border-right-color: var(--fill-color);\n",
              "    }\n",
              "    40% {\n",
              "      border-color: transparent;\n",
              "      border-right-color: var(--fill-color);\n",
              "      border-top-color: var(--fill-color);\n",
              "    }\n",
              "    60% {\n",
              "      border-color: transparent;\n",
              "      border-right-color: var(--fill-color);\n",
              "    }\n",
              "    80% {\n",
              "      border-color: transparent;\n",
              "      border-right-color: var(--fill-color);\n",
              "      border-bottom-color: var(--fill-color);\n",
              "    }\n",
              "    90% {\n",
              "      border-color: transparent;\n",
              "      border-bottom-color: var(--fill-color);\n",
              "    }\n",
              "  }\n",
              "</style>\n",
              "\n",
              "  <script>\n",
              "    async function quickchart(key) {\n",
              "      const quickchartButtonEl =\n",
              "        document.querySelector('#' + key + ' button');\n",
              "      quickchartButtonEl.disabled = true;  // To prevent multiple clicks.\n",
              "      quickchartButtonEl.classList.add('colab-df-spinner');\n",
              "      try {\n",
              "        const charts = await google.colab.kernel.invokeFunction(\n",
              "            'suggestCharts', [key], {});\n",
              "      } catch (error) {\n",
              "        console.error('Error during call to suggestCharts:', error);\n",
              "      }\n",
              "      quickchartButtonEl.classList.remove('colab-df-spinner');\n",
              "      quickchartButtonEl.classList.add('colab-df-quickchart-complete');\n",
              "    }\n",
              "    (() => {\n",
              "      let quickchartButtonEl =\n",
              "        document.querySelector('#df-d34eb103-8d67-433c-94af-cb3fb7c944fe button');\n",
              "      quickchartButtonEl.style.display =\n",
              "        google.colab.kernel.accessAllowed ? 'block' : 'none';\n",
              "    })();\n",
              "  </script>\n",
              "</div>\n",
              "    </div>\n",
              "  </div>\n"
            ],
            "application/vnd.google.colaboratory.intrinsic+json": {
              "type": "dataframe",
              "variable_name": "df_eval",
              "summary": "{\n  \"name\": \"df_eval\",\n  \"rows\": 25,\n  \"fields\": [\n    {\n      \"column\": \"text\",\n      \"properties\": {\n        \"dtype\": \"string\",\n        \"num_unique_values\": 25,\n        \"samples\": [\n          \"\\u0420\\u0435\\u0448\\u0438\\u043b\\u0438 \\u043e\\u0442\\u043f\\u0440\\u0430\\u0437\\u0434\\u043d\\u043e\\u0432\\u0430\\u0442\\u044c \\u0434\\u0435\\u043d\\u044c \\u0440\\u043e\\u0436\\u0434\\u0435\\u043d\\u0438\\u044f \\u0432 \\u044d\\u0442\\u043e\\u043c \\u0437\\u0430\\u0432\\u0435\\u0434\\u0435\\u043d\\u0438\\u0438. \\u0423 \\u043f\\u043e\\u0434\\u0440\\u0443\\u0433\\u0438 \\u043e\\u0441\\u0442\\u0430\\u043b\\u0438\\u0441\\u044c \\u0441\\u0430\\u043c\\u044b\\u0435 \\u0432\\u043e\\u0441\\u0442\\u043e\\u0440\\u0436\\u0435\\u043d\\u043d\\u044b\\u0435 \\u044d\\u043c\\u043e\\u0446\\u0438\\u0438. \\u0417\\u0430\\u043a\\u0430\\u0437\\u0430\\u043b\\u0438 \\u0445\\u0438\\u043d\\u043a\\u0430\\u043b\\u0438 \\u0445\\u0430\\u0447\\u0430\\u043f\\u0443\\u0440\\u0438 \\u043f\\u043e-\\u0430\\u0434\\u0436\\u0430\\u0440\\u0441\\u043a\\u0438 \\u0441 \\u043e\\u0432\\u043e\\u0449\\u0430\\u043c\\u0438 \\u0438 \\u043a\\u0443\\u0440\\u0438\\u0446\\u0435\\u0439 \\u0432 \\u0431\\u043e\\u043b\\u044c\\u0448\\u043e\\u043c \\u043a\\u043e\\u043b\\u0438\\u0447\\u0435\\u0441\\u0442\\u0432\\u0435. \\u0425\\u0438\\u043d\\u043a\\u0430\\u043b\\u044c\\u043d\\u0430\\u044f - \\u044d\\u0442\\u043e \\u0443\\u0436\\u0435 \\u043e\\u0442\\u0434\\u0435\\u043b\\u044c\\u043d\\u0430\\u044f \\u0442\\u0435\\u043c\\u0430. \\u0425\\u0430\\u0447\\u043f\\u0443\\u0440 \\u0433\\u043e\\u0442\\u043e\\u0432\\u0438\\u043b\\u0438 \\u0447\\u0430\\u0441\\u0430. \\u0418 \\u0445\\u0430\\u0447\\u0438\\u043f\\u0443\\u0440\\u0438\\u0434\\u043e\\u0441 - \\u0445\\u0430\\u0447\\u043e \\u043e\\u0447\\u0435\\u043d\\u044c \\u0434\\u0430\\u0436\\u0435 \\u043d\\u0438\\u0447\\u0435\\u0433\\u043e. \\u0421\\u0443\\u043f\\u044b \\u0442\\u043e\\u0436\\u0435 \\u043f\\u043e\\u0440\\u0430\\u0434\\u043e\\u0432\\u0430\\u043b\\u0438. \\u0421\\u0430\\u043b\\u0430\\u0442 \\u0441 \\u0433\\u0440\\u0438\\u0431\\u0430\\u043c\\u0438 \\u043f\\u0440\\u0438\\u043d\\u0435\\u0441\\u043b\\u0438 \\u043a\\u0430\\u043a \\u0438 \\u043e\\u0431\\u0435\\u0449\\u0430\\u043b\\u0438. \\u0411\\u043e\\u0440\\u0449 - \\u0432\\u043a\\u0443\\u0441\\u043d\\u043e. \\u0428\\u0430\\u0448\\u043b\\u044b\\u043a \\u0438\\u0437 \\u0433\\u043e\\u0432\\u044f\\u0434\\u0438\\u043d\\u044b \\u0431\\u044b\\u043b \\u043d\\u0435 \\u043e\\u0447\\u0435\\u043d\\u044c - \\u043d\\u0435 \\u0441\\u043a\\u0430\\u0437\\u0430\\u0442\\u044c \\u0447\\u0442\\u043e \\u043e\\u0447\\u0435\\u043d\\u044c \\u0432\\u043a\\u0443\\u0441\\u043d\\u043e \\u043d\\u043e.\",\n          \"\\u041c\\u0430\\u0433\\u0430\\u0437\\u0438\\u043d \\u043a\\u0430\\u043a \\u043c\\u0430\\u0433\\u0430\\u0437\\u0438\\u043d. \\u041f\\u0440\\u043e\\u0434\\u0430\\u0432\\u0446\\u044b \\u0432 \\u043c\\u0430\\u0433\\u0430\\u0437\\u0438\\u043d\\u0435 \\u043d\\u0438\\u0447\\u0435\\u0433\\u043e \\u043e\\u0441\\u043e\\u0431\\u0435\\u043d\\u043d\\u043e\\u0433\\u043e \\u043d\\u0435 \\u0437\\u043d\\u0430\\u044e\\u0442 \\u043d\\u043e \\u044d\\u0442\\u043e \\u0432 \\u043f\\u0440\\u0438\\u043d\\u0446\\u0438\\u043f\\u0435 \\u043f\\u043e\\u043d\\u044f\\u0442\\u043d\\u043e \\u043f\\u043e \\u0442\\u043e\\u043c\\u0443 \\u0447\\u0442\\u043e \\u0446\\u0435\\u043d\\u044b \\u0435\\u0441\\u0442\\u044c \\u0430 \\u0432\\u043e\\u0442 \\u043a\\u0430\\u0447\\u0435\\u0441\\u0442\\u0432\\u043e \\u043f\\u0440\\u043e\\u0434\\u0443\\u043a\\u0442\\u043e\\u0432 \\u043d\\u0435 \\u043e\\u0447\\u0435\\u043d\\u044c. \\u0420\\u0430\\u043d\\u044c\\u0448\\u0435 \\u043a\\u043e\\u0433\\u0434\\u0430 \\u0446\\u0435\\u043d\\u044b \\u0432\\u044b\\u0440\\u043e\\u0441\\u043b\\u0438 \\u043a\\u0430\\u0447\\u0435\\u0441\\u0442\\u0432\\u043e \\u0443\\u043f\\u0430\\u043b\\u043e \\u0438 \\u0441\\u0442\\u0430\\u043b\\u043e \\u043e\\u0447\\u0435\\u043d\\u044c \\u043d\\u0435 \\u0438\\u043d\\u0442\\u0435\\u0440\\u0435\\u0441\\u043d\\u043e \\u043f\\u043e\\u043a\\u0443\\u043f\\u0430\\u0442\\u044c. \\u041d\\u0443 \\u0442\\u0430\\u043a \\u0438 \\u043a\\u0430\\u043a \\u043e\\u043a\\u0430\\u0437\\u0430\\u043b\\u043e\\u0441\\u044c \\u043f\\u043e\\u0441\\u043b\\u0435 \\u0441\\u043c\\u0435\\u043d\\u044b \\u043f\\u0435\\u0440\\u0441\\u043e\\u043d\\u0430\\u043b\\u0430 \\u044f \\u043c\\u043e\\u0433\\u0443 \\u0441\\u0435\\u0431\\u0435 \\u043f\\u0440\\u0435\\u0434\\u0441\\u0442\\u0430\\u0432\\u0438\\u0442\\u044c \\u0447\\u0442\\u043e \\u0432 \\u044d\\u0442\\u043e\\u043c \\u043c\\u0430\\u0433\\u0430\\u0437\\u0438\\u043d\\u0435 \\u0435\\u0441\\u0442\\u044c \\u0445\\u043e\\u0440\\u043e\\u0448\\u0438\\u0435 \\u043f\\u0440\\u043e\\u0434\\u0443\\u043a\\u0442\\u044b \\u0432 \\u043a\\u043e\\u0442\\u043e\\u0440\\u044b\\u0445 \\u0446\\u0435\\u043d\\u0430 \\u0437\\u0430\\u0432\\u044b\\u0448\\u0435\\u043d\\u0430. \\u042f \\u043a\\u0430\\u043a \\u0431\\u044b \\u0432 \\u0441\\u0442\\u043e\\u0440\\u043e\\u043d\\u0435 \\u043e\\u0442 \\u044d\\u0442\\u043e\\u0433\\u043e \\u0438 \\u043d\\u0435 \\u0445\\u043e\\u0442\\u0435\\u043b. \\u041d\\u043e \\u043a\\u043e\\u0433\\u0434\\u0430 \\u0443\\u0432\\u0438\\u0434\\u0435\\u043b \\u044d\\u0442\\u043e\\u0442 \\u043c\\u0430\\u0433\\u0430\\u0437\\u0438\\u043d \\u043f\\u043e\\u043d\\u044f\\u043b \\u0447\\u0442\\u043e \\u043d\\u0435 \\u043d\\u0430\\u0434\\u043e \\u0435\\u043c\\u0443 \\u043f\\u0440\\u043e\\u0434\\u0430\\u0432\\u0430\\u0442\\u044c. \\u0418 \\u044d\\u0442\\u043e \\u043d\\u0435 \\u0443\\u0434\\u0438\\u0432\\u0438\\u0442\\u0435\\u043b\\u044c\\u043d\\u043e. \\u041d\\u0430 \\u044d\\u0442\\u043e\\u043c \\u0432\\u0441\\u0451. \\u0412 \\u043e\\u0431\\u0449\\u0435\\u043c \\u0432\\u043f\\u0435\\u0447\\u0430\\u0442\\u043b\\u0435\\u043d\\u0438\\u044f \\u043e\\u0442 \\u043f\\u043e\\u0441\\u0435\\u0449\\u0435\\u043d\\u0438\\u044f \\u043c\\u0430\\u0433\\u0430\\u0437\\u0438\\u043d\\u0430 \\u043f\\u043e\\u043b\\u043e\\u0436\\u0438\\u0442\\u0435\\u043b\\u044c\\u043d\\u044b\\u0435 \\u0442\\u0430\\u043a \\u043a\\u0430\\u043a \\u043a\\u0430\\u0447\\u0435\\u0441\\u0442\\u0432\\u043e \\u043f\\u0440\\u043e\\u0434\\u0443\\u043a\\u0442\\u044b \\u043d\\u0430\\u043c\\u043d\\u043e\\u0433\\u043e \\u043b\\u0443\\u0447\\u0448\\u0435 \\u0447\\u0435\\u043c \\u0432.\",\n          \"\\u0411\\u044b\\u043b\\u0438 \\u0441 \\u043c\\u0443\\u0436\\u0435\\u043c \\u043f\\u0440\\u043e\\u0435\\u0437\\u0434\\u043e\\u043c \\u0432 \\u0433. \\u0412 \\u0447\\u0435\\u043b\\u044f\\u0431\\u0438\\u043d\\u0441\\u043a. \\u041f\\u043e\\u0441\\u0435\\u0442\\u0438\\u043b\\u0438 \\u043a\\u0430\\u0444\\u0435 \\u0443\\u0440\\u0430\\u043b \\u0438 \\u0432\\u044b\\u0431\\u0440\\u0430\\u043b\\u0438 \\u044d\\u0442\\u043e \\u043a\\u0430\\u0444\\u0435 \\u043f\\u043e \\u043e\\u0442\\u0437\\u044b\\u0432\\u0430\\u043c. \\u0417\\u0430\\u043a\\u0430\\u0437\\u0430\\u043b\\u0438 \\u043f\\u043b\\u043e\\u0432. \\u041f\\u043b\\u043e\\u0432 \\u0431\\u044b\\u043b \\u0438\\u0437 \\u0433\\u043e\\u0432\\u044f\\u0434\\u0438\\u043d\\u044b \\u0438 \\u0441\\u0432\\u0438\\u043d\\u0438\\u043d\\u044b. \\u041d\\u043e \\u043e\\u043d \\u0431\\u044b\\u043b \\u043d\\u0435 \\u0442\\u043e\\u0442 \\u043a \\u043a\\u043e\\u0442\\u043e\\u0440\\u043e\\u043c\\u0443 \\u043f\\u0440\\u0438\\u0432\\u044b\\u043a\\u043b\\u0438 \\u0441 \\u043c\\u043e\\u043c\\u0435\\u043d\\u0442\\u0430 \\u043e\\u0442\\u043a\\u0440\\u044b\\u0442\\u0438\\u044f. \\u041d\\u0430\\u043c \\u0434\\u0430\\u043b\\u0438 \\u043f\\u043b\\u043e\\u0432 \\u043d\\u0430 \\u0447\\u0442\\u043e \\u0430\\u0434\\u043c\\u0438\\u043d\\u0438\\u0441\\u0442\\u0440\\u0430\\u0442\\u043e\\u0440 \\u0441\\u043a\\u0430\\u0437\\u0430\\u043b\\u0430 \\u0447\\u0442\\u043e \\u0442\\u0430\\u043a\\u043e\\u0433\\u043e \\u043d\\u0435\\u0442 \\u043c\\u043e\\u0436\\u0435\\u0442 \\u043f\\u0440\\u043e\\u0441\\u0442\\u043e \\u043f\\u043b\\u043e\\u0432 \\u043d\\u0435 \\u0431\\u0440\\u0430\\u043b\\u0438 \\u043d\\u0435 \\u043f\\u0440\\u0435\\u0434\\u0443\\u043f\\u0440\\u0435\\u0434\\u0438\\u043b\\u0438. \\u0423 \\u043d\\u0430\\u0441 \\u0431\\u044b\\u043b \\u0441\\u0432\\u043e\\u0439 \\u043c\\u0430\\u043b\\u0435\\u043d\\u044c\\u043a\\u0438\\u0439 \\u0440\\u0435\\u0431\\u0435\\u043d\\u043e\\u043a \\u043a\\u043e\\u0442\\u043e\\u0440\\u043e\\u043c\\u0443 \\u043e\\u0447\\u0435\\u043d\\u044c \\u043d\\u0435 \\u0445\\u0432\\u0430\\u0442\\u0430\\u043b\\u043e \\u043c\\u044f\\u0441\\u0430 \\u043d\\u043e \\u043d\\u0430\\u0448 \\u043e\\u0444\\u0438\\u0446\\u0438\\u0430\\u043d\\u0442 \\u0441\\u043a\\u0430\\u0437\\u0430\\u043b \\u0447\\u0442\\u043e \\u043e\\u043d \\u043d\\u0435 \\u0435\\u0441\\u0442 \\u043f\\u043b\\u043e\\u0432 \\u0441 \\u0433\\u043e\\u0432\\u044f\\u0434\\u0438\\u043d\\u043e\\u0439. \\u041c\\u044b \\u043f\\u043e\\u043f\\u0440\\u043e\\u0441\\u0438\\u043b\\u0438 \\u0435\\u0433\\u043e \\u0432\\u0437\\u044f\\u0442\\u044c \\u043d\\u0430\\u043c \\u0431\\u044b\\u043b\\u043e \\u0441\\u043a\\u0430\\u0437\\u0430\\u043d\\u043e \\u0447\\u0442\\u043e \\u0442\\u0430\\u043a\\u043e\\u0439 \\u043d\\u0435 \\u0431\\u044b\\u0432\\u0430\\u0435\\u0442. \\u041d\\u0430 \\u043d\\u0430\\u0448\\u0443 \\u043f\\u0440\\u043e\\u0441\\u044c\\u0431\\u0443 \\u043f\\u0440\\u0438\\u043d\\u0435\\u0441\\u0442\\u0438.\"\n        ],\n        \"semantic_type\": \"\",\n        \"description\": \"\"\n      }\n    },\n    {\n      \"column\": \"category\",\n      \"properties\": {\n        \"dtype\": \"category\",\n        \"num_unique_values\": 5,\n        \"samples\": [\n          \"\\u0420\\u0435\\u0441\\u0442\\u043e\\u0440\\u0430\\u043d\",\n          \"\\u0421\\u0443\\u043f\\u0435\\u0440\\u043c\\u0430\\u0440\\u043a\\u0435\\u0442\",\n          \"\\u0413\\u043e\\u0441\\u0442\\u0438\\u043d\\u0438\\u0446\\u0430\"\n        ],\n        \"semantic_type\": \"\",\n        \"description\": \"\"\n      }\n    },\n    {\n      \"column\": \"rating\",\n      \"properties\": {\n        \"dtype\": \"number\",\n        \"std\": 1,\n        \"min\": 1,\n        \"max\": 5,\n        \"num_unique_values\": 5,\n        \"samples\": [\n          2,\n          5,\n          3\n        ],\n        \"semantic_type\": \"\",\n        \"description\": \"\"\n      }\n    },\n    {\n      \"column\": \"key_words\",\n      \"properties\": {\n        \"dtype\": \"category\",\n        \"num_unique_values\": 5,\n        \"samples\": [\n          \"\\u0446\\u0435\\u043d\\u0430, \\u0440\\u0435\\u0441\\u0442\\u043e\\u0440\\u0430\\u043d, \\u043f\\u0435\\u0440\\u0441\\u043e\\u043d\\u0430\\u043b, \\u043e\\u0431\\u0441\\u043b\\u0443\\u0436\\u0438\\u0432\\u0430\\u043d\\u0438\\u0435, \\u043c\\u0443\\u0437\\u044b\\u043a\\u0430, \\u043c\\u0435\\u0441\\u0442\\u043e, \\u043c\\u0435\\u043d\\u044e, \\u043a\\u0443\\u0445\\u043d\\u044f, \\u0438\\u043d\\u0442\\u0435\\u0440\\u044c\\u0435\\u0440, \\u0437\\u0430\\u0432\\u0435\\u0434\\u0435\\u043d\\u0438\\u0435, \\u0435\\u0434\\u0430, \\u0431\\u043b\\u044e\\u0434\\u043e, \\u0430\\u0442\\u043c\\u043e\\u0441\\u0444\\u0435\\u0440\\u0430\",\n          \"\\u0446\\u0435\\u043d\\u0430, \\u0442\\u043e\\u0432\\u0430\\u0440, \\u043f\\u0440\\u043e\\u0434\\u0443\\u043a\\u0442, \\u043f\\u0435\\u0440\\u0441\\u043e\\u043d\\u0430\\u043b, \\u043e\\u0447\\u0435\\u0440\\u0435\\u0434\\u044c, \\u043c\\u0430\\u0433\\u0430\\u0437\\u0438\\u043d, \\u043a\\u0430\\u0447\\u0435\\u0441\\u0442\\u0432\\u043e, \\u043a\\u0430\\u0441\\u0441\\u0430, \\u0432\\u044b\\u0431\\u043e\\u0440, \\u0430\\u0441\\u0441\\u043e\\u0440\\u0442\\u0438\\u043c\\u0435\\u043d\\u0442\",\n          \"\\u044d\\u0442\\u0430\\u0436, \\u043c\\u0435\\u0441\\u0442\\u043e, \\u0432\\u0438\\u0434, \\u0432\\u043e\\u0434\\u0430, \\u0433\\u043e\\u0441\\u0442\\u0438\\u043d\\u0438\\u0446\\u0430, \\u0434\\u0435\\u043d\\u044c, \\u0435\\u0434\\u0430, \\u0437\\u0430\\u0432\\u0442\\u0440\\u0430\\u043a, \\u043a\\u0440\\u043e\\u0432\\u0430\\u0442\\u044c, \\u043a\\u0443\\u0445\\u043d\\u044f, \\u043d\\u043e\\u043c\\u0435\\u0440, \\u0446\\u0435\\u043d\\u0442\\u0440, \\u043e\\u0442\\u0434\\u044b\\u0445, \\u043e\\u0442\\u0435\\u043b\\u044c, \\u043f\\u0435\\u0440\\u0441\\u043e\\u043d\\u0430\\u043b, \\u0440\\u0430\\u0441\\u043f\\u043e\\u043b\\u043e\\u0436\\u0435\\u043d\\u0438\\u0435, \\u0440\\u0435\\u0431\\u0451\\u043d\\u043e\\u043a, \\u0440\\u0435\\u0441\\u0442\\u043e\\u0440\\u0430\\u043d, \\u0442\\u0435\\u0440\\u0440\\u0438\\u0442\\u043e\\u0440\\u0438\\u044f, \\u0446\\u0435\\u043d\\u0430\"\n        ],\n        \"semantic_type\": \"\",\n        \"description\": \"\"\n      }\n    },\n    {\n      \"column\": \"perplexity\",\n      \"properties\": {\n        \"dtype\": \"number\",\n        \"std\": 4.736159041814386,\n        \"min\": 22.850021362304688,\n        \"max\": 41.77853775024414,\n        \"num_unique_values\": 25,\n        \"samples\": [\n          29.40149688720703,\n          40.36659622192383,\n          29.63827133178711\n        ],\n        \"semantic_type\": \"\",\n        \"description\": \"\"\n      }\n    }\n  ]\n}"
            }
          },
          "metadata": {},
          "execution_count": 3
        }
      ]
    },
    {
      "cell_type": "markdown",
      "source": [
        "## Оцениваем качество отзывов"
      ],
      "metadata": {
        "id": "oTEBzHNCsvVr"
      }
    },
    {
      "cell_type": "markdown",
      "source": [
        "Можно визуально оценить соответствие текста отзыва категории, рейтингу и ключевым словам. И посмотреть perplexity."
      ],
      "metadata": {
        "id": "wG6YTSV9rr1n"
      }
    },
    {
      "cell_type": "code",
      "source": [
        "for idx in range(5):\n",
        "    display(f\"Отзыв: {df_eval['text'][idx]}\")\n",
        "    display(f\"Категория: {df_eval['category'][idx]}\")\n",
        "    display(f\"Рейтинг: {df_eval['rating'][idx]}\")\n",
        "    display(f\"Ключевые слова: {df_eval['key_words'][idx]}\")\n",
        "    display(f\"Perplexity: {df_eval['perplexity'][idx]}\")\n",
        "    display(\"************************************\")"
      ],
      "metadata": {
        "colab": {
          "base_uri": "https://localhost:8080/",
          "height": 766
        },
        "id": "Rrmp18FCqqrQ",
        "outputId": "d3ae4081-7b9a-4857-bd7c-04130d335ec3"
      },
      "execution_count": 6,
      "outputs": [
        {
          "output_type": "display_data",
          "data": {
            "text/plain": [
              "'Отзыв: Были с мужем проездом в г. В челябинск. Посетили кафе урал и выбрали это кафе по отзывам. Заказали плов. Плов был из говядины и свинины. Но он был не тот к которому привыкли с момента открытия. Нам дали плов на что администратор сказала что такого нет может просто плов не брали не предупредили. У нас был свой маленький ребенок которому очень не хватало мяса но наш официант сказал что он не ест плов с говядиной. Мы попросили его взять нам было сказано что такой не бывает. На нашу просьбу принести.'"
            ],
            "application/vnd.google.colaboratory.intrinsic+json": {
              "type": "string"
            }
          },
          "metadata": {}
        },
        {
          "output_type": "display_data",
          "data": {
            "text/plain": [
              "'Категория: Кафе'"
            ],
            "application/vnd.google.colaboratory.intrinsic+json": {
              "type": "string"
            }
          },
          "metadata": {}
        },
        {
          "output_type": "display_data",
          "data": {
            "text/plain": [
              "'Рейтинг: 1'"
            ],
            "application/vnd.google.colaboratory.intrinsic+json": {
              "type": "string"
            }
          },
          "metadata": {}
        },
        {
          "output_type": "display_data",
          "data": {
            "text/plain": [
              "'Ключевые слова: цена, персонал, обслуживание, место, меню, кухня, кафе, заведение, еда, блюдо, атмосфера'"
            ],
            "application/vnd.google.colaboratory.intrinsic+json": {
              "type": "string"
            }
          },
          "metadata": {}
        },
        {
          "output_type": "display_data",
          "data": {
            "text/plain": [
              "'Perplexity: 29.63827133178711'"
            ],
            "application/vnd.google.colaboratory.intrinsic+json": {
              "type": "string"
            }
          },
          "metadata": {}
        },
        {
          "output_type": "display_data",
          "data": {
            "text/plain": [
              "'************************************'"
            ],
            "application/vnd.google.colaboratory.intrinsic+json": {
              "type": "string"
            }
          },
          "metadata": {}
        },
        {
          "output_type": "display_data",
          "data": {
            "text/plain": [
              "'Отзыв: Был проездом в москве посетили это заведение. Мы с супругой и тремя детьми. Очень понравился интерьер обстановка и обстановка заведения все очень красиво и качественно сервированные столы. Все блюда очень вкусные как домашние так и привычные для нас супы салаты. Порции довольно большие очень сытно и вкусно. Из минусов при выборе блюда нужно учитывать что у нас был один большой стол и маленький ребенок с маленьким столиком. Было крайне некомфортно в детской комнате на улице тем не менее ребёнок начал кушать и сразу начали кушать. По приходу к нам официант был уже.'"
            ],
            "application/vnd.google.colaboratory.intrinsic+json": {
              "type": "string"
            }
          },
          "metadata": {}
        },
        {
          "output_type": "display_data",
          "data": {
            "text/plain": [
              "'Категория: Кафе'"
            ],
            "application/vnd.google.colaboratory.intrinsic+json": {
              "type": "string"
            }
          },
          "metadata": {}
        },
        {
          "output_type": "display_data",
          "data": {
            "text/plain": [
              "'Рейтинг: 2'"
            ],
            "application/vnd.google.colaboratory.intrinsic+json": {
              "type": "string"
            }
          },
          "metadata": {}
        },
        {
          "output_type": "display_data",
          "data": {
            "text/plain": [
              "'Ключевые слова: цена, персонал, обслуживание, место, меню, кухня, кафе, заведение, еда, блюдо, атмосфера'"
            ],
            "application/vnd.google.colaboratory.intrinsic+json": {
              "type": "string"
            }
          },
          "metadata": {}
        },
        {
          "output_type": "display_data",
          "data": {
            "text/plain": [
              "'Perplexity: 31.554161071777344'"
            ],
            "application/vnd.google.colaboratory.intrinsic+json": {
              "type": "string"
            }
          },
          "metadata": {}
        },
        {
          "output_type": "display_data",
          "data": {
            "text/plain": [
              "'************************************'"
            ],
            "application/vnd.google.colaboratory.intrinsic+json": {
              "type": "string"
            }
          },
          "metadata": {}
        },
        {
          "output_type": "display_data",
          "data": {
            "text/plain": [
              "'Отзыв: Если хотите чтобы вас накормили разнообразно и вкусно - это не сюда. Меню. Первое. Шашлык овощи и помидоры - только в одном месте. Второе. Супы из баранины овощи в супе и пюре из картошки фри. Все - порция большая. Пельмени из куриной печени очень не плохие. Бульон куриный с сыром - тоже. Котлетки котлеты с говядиной - очень вкусные. Люля кебаб - огонь. Но вот люлю с курицей - разочаровало. Картошка фри на.'"
            ],
            "application/vnd.google.colaboratory.intrinsic+json": {
              "type": "string"
            }
          },
          "metadata": {}
        },
        {
          "output_type": "display_data",
          "data": {
            "text/plain": [
              "'Категория: Кафе'"
            ],
            "application/vnd.google.colaboratory.intrinsic+json": {
              "type": "string"
            }
          },
          "metadata": {}
        },
        {
          "output_type": "display_data",
          "data": {
            "text/plain": [
              "'Рейтинг: 3'"
            ],
            "application/vnd.google.colaboratory.intrinsic+json": {
              "type": "string"
            }
          },
          "metadata": {}
        },
        {
          "output_type": "display_data",
          "data": {
            "text/plain": [
              "'Ключевые слова: цена, персонал, обслуживание, место, меню, кухня, кафе, заведение, еда, блюдо, атмосфера'"
            ],
            "application/vnd.google.colaboratory.intrinsic+json": {
              "type": "string"
            }
          },
          "metadata": {}
        },
        {
          "output_type": "display_data",
          "data": {
            "text/plain": [
              "'Perplexity: 22.850021362304688'"
            ],
            "application/vnd.google.colaboratory.intrinsic+json": {
              "type": "string"
            }
          },
          "metadata": {}
        },
        {
          "output_type": "display_data",
          "data": {
            "text/plain": [
              "'************************************'"
            ],
            "application/vnd.google.colaboratory.intrinsic+json": {
              "type": "string"
            }
          },
          "metadata": {}
        },
        {
          "output_type": "display_data",
          "data": {
            "text/plain": [
              "'Отзыв: Сегодня был свидетелем этой свадьбы. Это заведение - огонь. Когда в мае я был на масленицу и был не один раз то всегда захаживал сюда с женой и друзьями. Там прекрасно всё начиная от подачи блюд и заканчивая обслуживанием. Кухня шикарна все блюда которые я пробовал вкусны и красиво оформлены. По сравнению с другими местами в других местах в меню есть что то непонятное и непонятное я там был впервые и это было неприятно и огорчило. Еда конечно хороша но не скажу что она настолько разнообразна в её порции. Но я.'"
            ],
            "application/vnd.google.colaboratory.intrinsic+json": {
              "type": "string"
            }
          },
          "metadata": {}
        },
        {
          "output_type": "display_data",
          "data": {
            "text/plain": [
              "'Категория: Кафе'"
            ],
            "application/vnd.google.colaboratory.intrinsic+json": {
              "type": "string"
            }
          },
          "metadata": {}
        },
        {
          "output_type": "display_data",
          "data": {
            "text/plain": [
              "'Рейтинг: 4'"
            ],
            "application/vnd.google.colaboratory.intrinsic+json": {
              "type": "string"
            }
          },
          "metadata": {}
        },
        {
          "output_type": "display_data",
          "data": {
            "text/plain": [
              "'Ключевые слова: цена, персонал, обслуживание, место, меню, кухня, кафе, заведение, еда, блюдо, атмосфера'"
            ],
            "application/vnd.google.colaboratory.intrinsic+json": {
              "type": "string"
            }
          },
          "metadata": {}
        },
        {
          "output_type": "display_data",
          "data": {
            "text/plain": [
              "'Perplexity: 30.676084518432617'"
            ],
            "application/vnd.google.colaboratory.intrinsic+json": {
              "type": "string"
            }
          },
          "metadata": {}
        },
        {
          "output_type": "display_data",
          "data": {
            "text/plain": [
              "'************************************'"
            ],
            "application/vnd.google.colaboratory.intrinsic+json": {
              "type": "string"
            }
          },
          "metadata": {}
        },
        {
          "output_type": "display_data",
          "data": {
            "text/plain": [
              "'Отзыв: В основном это кафе на первом этаже. Мы останавливались на одну ночь в этом отеле. Место удобное недалеко от набережной. По кухне и обслуживанию всё хорошо. Порции достаточные есть что выбрать на свой вкус. Из минусов то что для детей есть детская комната где им можно покачаться в гамаке. Также у кафе грязно. В детской комнате очень много детей. Дети все в одном - месте. И на столе и в шкафу. К самому кафе претензий нет все чисто и аккуратно есть даже вода чай и печенье в качестве подарков на выбор. Интерьер.'"
            ],
            "application/vnd.google.colaboratory.intrinsic+json": {
              "type": "string"
            }
          },
          "metadata": {}
        },
        {
          "output_type": "display_data",
          "data": {
            "text/plain": [
              "'Категория: Кафе'"
            ],
            "application/vnd.google.colaboratory.intrinsic+json": {
              "type": "string"
            }
          },
          "metadata": {}
        },
        {
          "output_type": "display_data",
          "data": {
            "text/plain": [
              "'Рейтинг: 5'"
            ],
            "application/vnd.google.colaboratory.intrinsic+json": {
              "type": "string"
            }
          },
          "metadata": {}
        },
        {
          "output_type": "display_data",
          "data": {
            "text/plain": [
              "'Ключевые слова: цена, персонал, обслуживание, место, меню, кухня, кафе, заведение, еда, блюдо, атмосфера'"
            ],
            "application/vnd.google.colaboratory.intrinsic+json": {
              "type": "string"
            }
          },
          "metadata": {}
        },
        {
          "output_type": "display_data",
          "data": {
            "text/plain": [
              "'Perplexity: 33.65098190307617'"
            ],
            "application/vnd.google.colaboratory.intrinsic+json": {
              "type": "string"
            }
          },
          "metadata": {}
        },
        {
          "output_type": "display_data",
          "data": {
            "text/plain": [
              "'************************************'"
            ],
            "application/vnd.google.colaboratory.intrinsic+json": {
              "type": "string"
            }
          },
          "metadata": {}
        }
      ]
    },
    {
      "cell_type": "markdown",
      "source": [
        "В целом, данные отзывы можно оценить как среднего качества. Среди них встречаются как хорошо структурированные и информативные тексты, так и те, которые нуждаются в улучшении."
      ],
      "metadata": {
        "id": "17_fQW8qzxq_"
      }
    },
    {
      "cell_type": "code",
      "source": [
        "# Сохраняем результат\n",
        "df_eval.to_csv('/content/drive/MyDrive/Проектный практикум 3/df_eval.csv', index=False)"
      ],
      "metadata": {
        "id": "OCx29K56Zdlc"
      },
      "execution_count": null,
      "outputs": []
    },
    {
      "cell_type": "markdown",
      "source": [
        "Теперь количественно оценим, сколько ключевых слов из эталонного списка присутствует в тексте отзыва."
      ],
      "metadata": {
        "id": "skizDBi3rcG5"
      }
    },
    {
      "cell_type": "markdown",
      "source": [
        "Для количественной оценки качества модели, сгруппируем данные по категориям и для каждой категории объединяем тексты отзывов. Вычисляем среднее значение perplexity для оценки языковой связности и грамотности текста. Используя набор ключевых слов для каждой категории, рассчитываем процент присутствия этих ключевых слов в объединённом тексте относительно общего их количества, чтобы измерить тематическую релевантность. Комбинируя показатели perplexity и покрытие ключевых слов, получаем комплексную оценку качества модели, учитывающую как языковую точность, так и соответствие содержанию заданным категориям."
      ],
      "metadata": {
        "id": "0Vco4dSm32os"
      }
    },
    {
      "cell_type": "code",
      "source": [
        "# Группировка по категориям, объединение текстов и вычисление среднего perplexity\n",
        "grouped = df_eval.groupby('category').agg(\n",
        "    combined_text=('text', ' '.join),\n",
        "    average_perplexity=('perplexity', 'mean'),\n",
        "    key_words=('key_words', lambda x: ', '.join(set(x)))\n",
        ").reset_index()"
      ],
      "metadata": {
        "id": "gYIwGMgZj6NQ"
      },
      "execution_count": null,
      "outputs": []
    },
    {
      "cell_type": "code",
      "source": [
        "grouped"
      ],
      "metadata": {
        "colab": {
          "base_uri": "https://localhost:8080/",
          "height": 206
        },
        "id": "cv0xPbJ0p6js",
        "outputId": "fe2cd06e-e0e1-4d65-db64-9bb4f042b287"
      },
      "execution_count": null,
      "outputs": [
        {
          "output_type": "execute_result",
          "data": {
            "text/plain": [
              "            category                                      combined_text  average_perplexity                                          key_words\n",
              "0          Гостиница  Останавливались семьей на сутки. Остановились ...           27.376440  этаж, место, вид, вода, гостиница, день, еда, ...\n",
              "1               Кафе  Были с мужем проездом в г. В челябинск. Посети...           29.673904  цена, персонал, обслуживание, место, меню, кух...\n",
              "2  Магазин продуктов  Были в магазине вчера купили кингстайл молочны...           32.405736  цена, товар, продукт, персонал, магазин, касса...\n",
              "3           Ресторан  Еда. . На улице жара а в доме - жара. - были в...           33.966415  цена, ресторан, персонал, обслуживание, музыка...\n",
              "4        Супермаркет  Я бы хотела поделиться отзывом об этом магазин...           32.817636  цена, товар, продукт, персонал, очередь, магаз..."
            ],
            "text/html": [
              "\n",
              "  <div id=\"df-ec59c686-c31e-41b1-a254-12ba071782d4\" class=\"colab-df-container\">\n",
              "    <div>\n",
              "<style scoped>\n",
              "    .dataframe tbody tr th:only-of-type {\n",
              "        vertical-align: middle;\n",
              "    }\n",
              "\n",
              "    .dataframe tbody tr th {\n",
              "        vertical-align: top;\n",
              "    }\n",
              "\n",
              "    .dataframe thead th {\n",
              "        text-align: right;\n",
              "    }\n",
              "</style>\n",
              "<table border=\"1\" class=\"dataframe\">\n",
              "  <thead>\n",
              "    <tr style=\"text-align: right;\">\n",
              "      <th></th>\n",
              "      <th>category</th>\n",
              "      <th>combined_text</th>\n",
              "      <th>average_perplexity</th>\n",
              "      <th>key_words</th>\n",
              "    </tr>\n",
              "  </thead>\n",
              "  <tbody>\n",
              "    <tr>\n",
              "      <th>0</th>\n",
              "      <td>Гостиница</td>\n",
              "      <td>Останавливались семьей на сутки. Остановились ...</td>\n",
              "      <td>27.376440</td>\n",
              "      <td>этаж, место, вид, вода, гостиница, день, еда, ...</td>\n",
              "    </tr>\n",
              "    <tr>\n",
              "      <th>1</th>\n",
              "      <td>Кафе</td>\n",
              "      <td>Были с мужем проездом в г. В челябинск. Посети...</td>\n",
              "      <td>29.673904</td>\n",
              "      <td>цена, персонал, обслуживание, место, меню, кух...</td>\n",
              "    </tr>\n",
              "    <tr>\n",
              "      <th>2</th>\n",
              "      <td>Магазин продуктов</td>\n",
              "      <td>Были в магазине вчера купили кингстайл молочны...</td>\n",
              "      <td>32.405736</td>\n",
              "      <td>цена, товар, продукт, персонал, магазин, касса...</td>\n",
              "    </tr>\n",
              "    <tr>\n",
              "      <th>3</th>\n",
              "      <td>Ресторан</td>\n",
              "      <td>Еда. . На улице жара а в доме - жара. - были в...</td>\n",
              "      <td>33.966415</td>\n",
              "      <td>цена, ресторан, персонал, обслуживание, музыка...</td>\n",
              "    </tr>\n",
              "    <tr>\n",
              "      <th>4</th>\n",
              "      <td>Супермаркет</td>\n",
              "      <td>Я бы хотела поделиться отзывом об этом магазин...</td>\n",
              "      <td>32.817636</td>\n",
              "      <td>цена, товар, продукт, персонал, очередь, магаз...</td>\n",
              "    </tr>\n",
              "  </tbody>\n",
              "</table>\n",
              "</div>\n",
              "    <div class=\"colab-df-buttons\">\n",
              "\n",
              "  <div class=\"colab-df-container\">\n",
              "    <button class=\"colab-df-convert\" onclick=\"convertToInteractive('df-ec59c686-c31e-41b1-a254-12ba071782d4')\"\n",
              "            title=\"Convert this dataframe to an interactive table.\"\n",
              "            style=\"display:none;\">\n",
              "\n",
              "  <svg xmlns=\"http://www.w3.org/2000/svg\" height=\"24px\" viewBox=\"0 -960 960 960\">\n",
              "    <path d=\"M120-120v-720h720v720H120Zm60-500h600v-160H180v160Zm220 220h160v-160H400v160Zm0 220h160v-160H400v160ZM180-400h160v-160H180v160Zm440 0h160v-160H620v160ZM180-180h160v-160H180v160Zm440 0h160v-160H620v160Z\"/>\n",
              "  </svg>\n",
              "    </button>\n",
              "\n",
              "  <style>\n",
              "    .colab-df-container {\n",
              "      display:flex;\n",
              "      gap: 12px;\n",
              "    }\n",
              "\n",
              "    .colab-df-convert {\n",
              "      background-color: #E8F0FE;\n",
              "      border: none;\n",
              "      border-radius: 50%;\n",
              "      cursor: pointer;\n",
              "      display: none;\n",
              "      fill: #1967D2;\n",
              "      height: 32px;\n",
              "      padding: 0 0 0 0;\n",
              "      width: 32px;\n",
              "    }\n",
              "\n",
              "    .colab-df-convert:hover {\n",
              "      background-color: #E2EBFA;\n",
              "      box-shadow: 0px 1px 2px rgba(60, 64, 67, 0.3), 0px 1px 3px 1px rgba(60, 64, 67, 0.15);\n",
              "      fill: #174EA6;\n",
              "    }\n",
              "\n",
              "    .colab-df-buttons div {\n",
              "      margin-bottom: 4px;\n",
              "    }\n",
              "\n",
              "    [theme=dark] .colab-df-convert {\n",
              "      background-color: #3B4455;\n",
              "      fill: #D2E3FC;\n",
              "    }\n",
              "\n",
              "    [theme=dark] .colab-df-convert:hover {\n",
              "      background-color: #434B5C;\n",
              "      box-shadow: 0px 1px 3px 1px rgba(0, 0, 0, 0.15);\n",
              "      filter: drop-shadow(0px 1px 2px rgba(0, 0, 0, 0.3));\n",
              "      fill: #FFFFFF;\n",
              "    }\n",
              "  </style>\n",
              "\n",
              "    <script>\n",
              "      const buttonEl =\n",
              "        document.querySelector('#df-ec59c686-c31e-41b1-a254-12ba071782d4 button.colab-df-convert');\n",
              "      buttonEl.style.display =\n",
              "        google.colab.kernel.accessAllowed ? 'block' : 'none';\n",
              "\n",
              "      async function convertToInteractive(key) {\n",
              "        const element = document.querySelector('#df-ec59c686-c31e-41b1-a254-12ba071782d4');\n",
              "        const dataTable =\n",
              "          await google.colab.kernel.invokeFunction('convertToInteractive',\n",
              "                                                    [key], {});\n",
              "        if (!dataTable) return;\n",
              "\n",
              "        const docLinkHtml = 'Like what you see? Visit the ' +\n",
              "          '<a target=\"_blank\" href=https://colab.research.google.com/notebooks/data_table.ipynb>data table notebook</a>'\n",
              "          + ' to learn more about interactive tables.';\n",
              "        element.innerHTML = '';\n",
              "        dataTable['output_type'] = 'display_data';\n",
              "        await google.colab.output.renderOutput(dataTable, element);\n",
              "        const docLink = document.createElement('div');\n",
              "        docLink.innerHTML = docLinkHtml;\n",
              "        element.appendChild(docLink);\n",
              "      }\n",
              "    </script>\n",
              "  </div>\n",
              "\n",
              "\n",
              "<div id=\"df-375cc379-7186-4b75-928a-03f677ae6345\">\n",
              "  <button class=\"colab-df-quickchart\" onclick=\"quickchart('df-375cc379-7186-4b75-928a-03f677ae6345')\"\n",
              "            title=\"Suggest charts\"\n",
              "            style=\"display:none;\">\n",
              "\n",
              "<svg xmlns=\"http://www.w3.org/2000/svg\" height=\"24px\"viewBox=\"0 0 24 24\"\n",
              "     width=\"24px\">\n",
              "    <g>\n",
              "        <path d=\"M19 3H5c-1.1 0-2 .9-2 2v14c0 1.1.9 2 2 2h14c1.1 0 2-.9 2-2V5c0-1.1-.9-2-2-2zM9 17H7v-7h2v7zm4 0h-2V7h2v10zm4 0h-2v-4h2v4z\"/>\n",
              "    </g>\n",
              "</svg>\n",
              "  </button>\n",
              "\n",
              "<style>\n",
              "  .colab-df-quickchart {\n",
              "      --bg-color: #E8F0FE;\n",
              "      --fill-color: #1967D2;\n",
              "      --hover-bg-color: #E2EBFA;\n",
              "      --hover-fill-color: #174EA6;\n",
              "      --disabled-fill-color: #AAA;\n",
              "      --disabled-bg-color: #DDD;\n",
              "  }\n",
              "\n",
              "  [theme=dark] .colab-df-quickchart {\n",
              "      --bg-color: #3B4455;\n",
              "      --fill-color: #D2E3FC;\n",
              "      --hover-bg-color: #434B5C;\n",
              "      --hover-fill-color: #FFFFFF;\n",
              "      --disabled-bg-color: #3B4455;\n",
              "      --disabled-fill-color: #666;\n",
              "  }\n",
              "\n",
              "  .colab-df-quickchart {\n",
              "    background-color: var(--bg-color);\n",
              "    border: none;\n",
              "    border-radius: 50%;\n",
              "    cursor: pointer;\n",
              "    display: none;\n",
              "    fill: var(--fill-color);\n",
              "    height: 32px;\n",
              "    padding: 0;\n",
              "    width: 32px;\n",
              "  }\n",
              "\n",
              "  .colab-df-quickchart:hover {\n",
              "    background-color: var(--hover-bg-color);\n",
              "    box-shadow: 0 1px 2px rgba(60, 64, 67, 0.3), 0 1px 3px 1px rgba(60, 64, 67, 0.15);\n",
              "    fill: var(--button-hover-fill-color);\n",
              "  }\n",
              "\n",
              "  .colab-df-quickchart-complete:disabled,\n",
              "  .colab-df-quickchart-complete:disabled:hover {\n",
              "    background-color: var(--disabled-bg-color);\n",
              "    fill: var(--disabled-fill-color);\n",
              "    box-shadow: none;\n",
              "  }\n",
              "\n",
              "  .colab-df-spinner {\n",
              "    border: 2px solid var(--fill-color);\n",
              "    border-color: transparent;\n",
              "    border-bottom-color: var(--fill-color);\n",
              "    animation:\n",
              "      spin 1s steps(1) infinite;\n",
              "  }\n",
              "\n",
              "  @keyframes spin {\n",
              "    0% {\n",
              "      border-color: transparent;\n",
              "      border-bottom-color: var(--fill-color);\n",
              "      border-left-color: var(--fill-color);\n",
              "    }\n",
              "    20% {\n",
              "      border-color: transparent;\n",
              "      border-left-color: var(--fill-color);\n",
              "      border-top-color: var(--fill-color);\n",
              "    }\n",
              "    30% {\n",
              "      border-color: transparent;\n",
              "      border-left-color: var(--fill-color);\n",
              "      border-top-color: var(--fill-color);\n",
              "      border-right-color: var(--fill-color);\n",
              "    }\n",
              "    40% {\n",
              "      border-color: transparent;\n",
              "      border-right-color: var(--fill-color);\n",
              "      border-top-color: var(--fill-color);\n",
              "    }\n",
              "    60% {\n",
              "      border-color: transparent;\n",
              "      border-right-color: var(--fill-color);\n",
              "    }\n",
              "    80% {\n",
              "      border-color: transparent;\n",
              "      border-right-color: var(--fill-color);\n",
              "      border-bottom-color: var(--fill-color);\n",
              "    }\n",
              "    90% {\n",
              "      border-color: transparent;\n",
              "      border-bottom-color: var(--fill-color);\n",
              "    }\n",
              "  }\n",
              "</style>\n",
              "\n",
              "  <script>\n",
              "    async function quickchart(key) {\n",
              "      const quickchartButtonEl =\n",
              "        document.querySelector('#' + key + ' button');\n",
              "      quickchartButtonEl.disabled = true;  // To prevent multiple clicks.\n",
              "      quickchartButtonEl.classList.add('colab-df-spinner');\n",
              "      try {\n",
              "        const charts = await google.colab.kernel.invokeFunction(\n",
              "            'suggestCharts', [key], {});\n",
              "      } catch (error) {\n",
              "        console.error('Error during call to suggestCharts:', error);\n",
              "      }\n",
              "      quickchartButtonEl.classList.remove('colab-df-spinner');\n",
              "      quickchartButtonEl.classList.add('colab-df-quickchart-complete');\n",
              "    }\n",
              "    (() => {\n",
              "      let quickchartButtonEl =\n",
              "        document.querySelector('#df-375cc379-7186-4b75-928a-03f677ae6345 button');\n",
              "      quickchartButtonEl.style.display =\n",
              "        google.colab.kernel.accessAllowed ? 'block' : 'none';\n",
              "    })();\n",
              "  </script>\n",
              "</div>\n",
              "    </div>\n",
              "  </div>\n"
            ],
            "application/vnd.google.colaboratory.intrinsic+json": {
              "type": "dataframe",
              "variable_name": "grouped",
              "summary": "{\n  \"name\": \"grouped\",\n  \"rows\": 5,\n  \"fields\": [\n    {\n      \"column\": \"category\",\n      \"properties\": {\n        \"dtype\": \"string\",\n        \"num_unique_values\": 5,\n        \"samples\": [\n          \"\\u041a\\u0430\\u0444\\u0435\",\n          \"\\u0421\\u0443\\u043f\\u0435\\u0440\\u043c\\u0430\\u0440\\u043a\\u0435\\u0442\",\n          \"\\u041c\\u0430\\u0433\\u0430\\u0437\\u0438\\u043d \\u043f\\u0440\\u043e\\u0434\\u0443\\u043a\\u0442\\u043e\\u0432\"\n        ],\n        \"semantic_type\": \"\",\n        \"description\": \"\"\n      }\n    },\n    {\n      \"column\": \"combined_text\",\n      \"properties\": {\n        \"dtype\": \"string\",\n        \"num_unique_values\": 5,\n        \"samples\": [\n          \"\\u0411\\u044b\\u043b\\u0438 \\u0441 \\u043c\\u0443\\u0436\\u0435\\u043c \\u043f\\u0440\\u043e\\u0435\\u0437\\u0434\\u043e\\u043c \\u0432 \\u0433. \\u0412 \\u0447\\u0435\\u043b\\u044f\\u0431\\u0438\\u043d\\u0441\\u043a. \\u041f\\u043e\\u0441\\u0435\\u0442\\u0438\\u043b\\u0438 \\u043a\\u0430\\u0444\\u0435 \\u0443\\u0440\\u0430\\u043b \\u0438 \\u0432\\u044b\\u0431\\u0440\\u0430\\u043b\\u0438 \\u044d\\u0442\\u043e \\u043a\\u0430\\u0444\\u0435 \\u043f\\u043e \\u043e\\u0442\\u0437\\u044b\\u0432\\u0430\\u043c. \\u0417\\u0430\\u043a\\u0430\\u0437\\u0430\\u043b\\u0438 \\u043f\\u043b\\u043e\\u0432. \\u041f\\u043b\\u043e\\u0432 \\u0431\\u044b\\u043b \\u0438\\u0437 \\u0433\\u043e\\u0432\\u044f\\u0434\\u0438\\u043d\\u044b \\u0438 \\u0441\\u0432\\u0438\\u043d\\u0438\\u043d\\u044b. \\u041d\\u043e \\u043e\\u043d \\u0431\\u044b\\u043b \\u043d\\u0435 \\u0442\\u043e\\u0442 \\u043a \\u043a\\u043e\\u0442\\u043e\\u0440\\u043e\\u043c\\u0443 \\u043f\\u0440\\u0438\\u0432\\u044b\\u043a\\u043b\\u0438 \\u0441 \\u043c\\u043e\\u043c\\u0435\\u043d\\u0442\\u0430 \\u043e\\u0442\\u043a\\u0440\\u044b\\u0442\\u0438\\u044f. \\u041d\\u0430\\u043c \\u0434\\u0430\\u043b\\u0438 \\u043f\\u043b\\u043e\\u0432 \\u043d\\u0430 \\u0447\\u0442\\u043e \\u0430\\u0434\\u043c\\u0438\\u043d\\u0438\\u0441\\u0442\\u0440\\u0430\\u0442\\u043e\\u0440 \\u0441\\u043a\\u0430\\u0437\\u0430\\u043b\\u0430 \\u0447\\u0442\\u043e \\u0442\\u0430\\u043a\\u043e\\u0433\\u043e \\u043d\\u0435\\u0442 \\u043c\\u043e\\u0436\\u0435\\u0442 \\u043f\\u0440\\u043e\\u0441\\u0442\\u043e \\u043f\\u043b\\u043e\\u0432 \\u043d\\u0435 \\u0431\\u0440\\u0430\\u043b\\u0438 \\u043d\\u0435 \\u043f\\u0440\\u0435\\u0434\\u0443\\u043f\\u0440\\u0435\\u0434\\u0438\\u043b\\u0438. \\u0423 \\u043d\\u0430\\u0441 \\u0431\\u044b\\u043b \\u0441\\u0432\\u043e\\u0439 \\u043c\\u0430\\u043b\\u0435\\u043d\\u044c\\u043a\\u0438\\u0439 \\u0440\\u0435\\u0431\\u0435\\u043d\\u043e\\u043a \\u043a\\u043e\\u0442\\u043e\\u0440\\u043e\\u043c\\u0443 \\u043e\\u0447\\u0435\\u043d\\u044c \\u043d\\u0435 \\u0445\\u0432\\u0430\\u0442\\u0430\\u043b\\u043e \\u043c\\u044f\\u0441\\u0430 \\u043d\\u043e \\u043d\\u0430\\u0448 \\u043e\\u0444\\u0438\\u0446\\u0438\\u0430\\u043d\\u0442 \\u0441\\u043a\\u0430\\u0437\\u0430\\u043b \\u0447\\u0442\\u043e \\u043e\\u043d \\u043d\\u0435 \\u0435\\u0441\\u0442 \\u043f\\u043b\\u043e\\u0432 \\u0441 \\u0433\\u043e\\u0432\\u044f\\u0434\\u0438\\u043d\\u043e\\u0439. \\u041c\\u044b \\u043f\\u043e\\u043f\\u0440\\u043e\\u0441\\u0438\\u043b\\u0438 \\u0435\\u0433\\u043e \\u0432\\u0437\\u044f\\u0442\\u044c \\u043d\\u0430\\u043c \\u0431\\u044b\\u043b\\u043e \\u0441\\u043a\\u0430\\u0437\\u0430\\u043d\\u043e \\u0447\\u0442\\u043e \\u0442\\u0430\\u043a\\u043e\\u0439 \\u043d\\u0435 \\u0431\\u044b\\u0432\\u0430\\u0435\\u0442. \\u041d\\u0430 \\u043d\\u0430\\u0448\\u0443 \\u043f\\u0440\\u043e\\u0441\\u044c\\u0431\\u0443 \\u043f\\u0440\\u0438\\u043d\\u0435\\u0441\\u0442\\u0438. \\u0411\\u044b\\u043b \\u043f\\u0440\\u043e\\u0435\\u0437\\u0434\\u043e\\u043c \\u0432 \\u043c\\u043e\\u0441\\u043a\\u0432\\u0435 \\u043f\\u043e\\u0441\\u0435\\u0442\\u0438\\u043b\\u0438 \\u044d\\u0442\\u043e \\u0437\\u0430\\u0432\\u0435\\u0434\\u0435\\u043d\\u0438\\u0435. \\u041c\\u044b \\u0441 \\u0441\\u0443\\u043f\\u0440\\u0443\\u0433\\u043e\\u0439 \\u0438 \\u0442\\u0440\\u0435\\u043c\\u044f \\u0434\\u0435\\u0442\\u044c\\u043c\\u0438. \\u041e\\u0447\\u0435\\u043d\\u044c \\u043f\\u043e\\u043d\\u0440\\u0430\\u0432\\u0438\\u043b\\u0441\\u044f \\u0438\\u043d\\u0442\\u0435\\u0440\\u044c\\u0435\\u0440 \\u043e\\u0431\\u0441\\u0442\\u0430\\u043d\\u043e\\u0432\\u043a\\u0430 \\u0438 \\u043e\\u0431\\u0441\\u0442\\u0430\\u043d\\u043e\\u0432\\u043a\\u0430 \\u0437\\u0430\\u0432\\u0435\\u0434\\u0435\\u043d\\u0438\\u044f \\u0432\\u0441\\u0435 \\u043e\\u0447\\u0435\\u043d\\u044c \\u043a\\u0440\\u0430\\u0441\\u0438\\u0432\\u043e \\u0438 \\u043a\\u0430\\u0447\\u0435\\u0441\\u0442\\u0432\\u0435\\u043d\\u043d\\u043e \\u0441\\u0435\\u0440\\u0432\\u0438\\u0440\\u043e\\u0432\\u0430\\u043d\\u043d\\u044b\\u0435 \\u0441\\u0442\\u043e\\u043b\\u044b. \\u0412\\u0441\\u0435 \\u0431\\u043b\\u044e\\u0434\\u0430 \\u043e\\u0447\\u0435\\u043d\\u044c \\u0432\\u043a\\u0443\\u0441\\u043d\\u044b\\u0435 \\u043a\\u0430\\u043a \\u0434\\u043e\\u043c\\u0430\\u0448\\u043d\\u0438\\u0435 \\u0442\\u0430\\u043a \\u0438 \\u043f\\u0440\\u0438\\u0432\\u044b\\u0447\\u043d\\u044b\\u0435 \\u0434\\u043b\\u044f \\u043d\\u0430\\u0441 \\u0441\\u0443\\u043f\\u044b \\u0441\\u0430\\u043b\\u0430\\u0442\\u044b. \\u041f\\u043e\\u0440\\u0446\\u0438\\u0438 \\u0434\\u043e\\u0432\\u043e\\u043b\\u044c\\u043d\\u043e \\u0431\\u043e\\u043b\\u044c\\u0448\\u0438\\u0435 \\u043e\\u0447\\u0435\\u043d\\u044c \\u0441\\u044b\\u0442\\u043d\\u043e \\u0438 \\u0432\\u043a\\u0443\\u0441\\u043d\\u043e. \\u0418\\u0437 \\u043c\\u0438\\u043d\\u0443\\u0441\\u043e\\u0432 \\u043f\\u0440\\u0438 \\u0432\\u044b\\u0431\\u043e\\u0440\\u0435 \\u0431\\u043b\\u044e\\u0434\\u0430 \\u043d\\u0443\\u0436\\u043d\\u043e \\u0443\\u0447\\u0438\\u0442\\u044b\\u0432\\u0430\\u0442\\u044c \\u0447\\u0442\\u043e \\u0443 \\u043d\\u0430\\u0441 \\u0431\\u044b\\u043b \\u043e\\u0434\\u0438\\u043d \\u0431\\u043e\\u043b\\u044c\\u0448\\u043e\\u0439 \\u0441\\u0442\\u043e\\u043b \\u0438 \\u043c\\u0430\\u043b\\u0435\\u043d\\u044c\\u043a\\u0438\\u0439 \\u0440\\u0435\\u0431\\u0435\\u043d\\u043e\\u043a \\u0441 \\u043c\\u0430\\u043b\\u0435\\u043d\\u044c\\u043a\\u0438\\u043c \\u0441\\u0442\\u043e\\u043b\\u0438\\u043a\\u043e\\u043c. \\u0411\\u044b\\u043b\\u043e \\u043a\\u0440\\u0430\\u0439\\u043d\\u0435 \\u043d\\u0435\\u043a\\u043e\\u043c\\u0444\\u043e\\u0440\\u0442\\u043d\\u043e \\u0432 \\u0434\\u0435\\u0442\\u0441\\u043a\\u043e\\u0439 \\u043a\\u043e\\u043c\\u043d\\u0430\\u0442\\u0435 \\u043d\\u0430 \\u0443\\u043b\\u0438\\u0446\\u0435 \\u0442\\u0435\\u043c \\u043d\\u0435 \\u043c\\u0435\\u043d\\u0435\\u0435 \\u0440\\u0435\\u0431\\u0451\\u043d\\u043e\\u043a \\u043d\\u0430\\u0447\\u0430\\u043b \\u043a\\u0443\\u0448\\u0430\\u0442\\u044c \\u0438 \\u0441\\u0440\\u0430\\u0437\\u0443 \\u043d\\u0430\\u0447\\u0430\\u043b\\u0438 \\u043a\\u0443\\u0448\\u0430\\u0442\\u044c. \\u041f\\u043e \\u043f\\u0440\\u0438\\u0445\\u043e\\u0434\\u0443 \\u043a \\u043d\\u0430\\u043c \\u043e\\u0444\\u0438\\u0446\\u0438\\u0430\\u043d\\u0442 \\u0431\\u044b\\u043b \\u0443\\u0436\\u0435. \\u0415\\u0441\\u043b\\u0438 \\u0445\\u043e\\u0442\\u0438\\u0442\\u0435 \\u0447\\u0442\\u043e\\u0431\\u044b \\u0432\\u0430\\u0441 \\u043d\\u0430\\u043a\\u043e\\u0440\\u043c\\u0438\\u043b\\u0438 \\u0440\\u0430\\u0437\\u043d\\u043e\\u043e\\u0431\\u0440\\u0430\\u0437\\u043d\\u043e \\u0438 \\u0432\\u043a\\u0443\\u0441\\u043d\\u043e - \\u044d\\u0442\\u043e \\u043d\\u0435 \\u0441\\u044e\\u0434\\u0430. \\u041c\\u0435\\u043d\\u044e. \\u041f\\u0435\\u0440\\u0432\\u043e\\u0435. \\u0428\\u0430\\u0448\\u043b\\u044b\\u043a \\u043e\\u0432\\u043e\\u0449\\u0438 \\u0438 \\u043f\\u043e\\u043c\\u0438\\u0434\\u043e\\u0440\\u044b - \\u0442\\u043e\\u043b\\u044c\\u043a\\u043e \\u0432 \\u043e\\u0434\\u043d\\u043e\\u043c \\u043c\\u0435\\u0441\\u0442\\u0435. \\u0412\\u0442\\u043e\\u0440\\u043e\\u0435. \\u0421\\u0443\\u043f\\u044b \\u0438\\u0437 \\u0431\\u0430\\u0440\\u0430\\u043d\\u0438\\u043d\\u044b \\u043e\\u0432\\u043e\\u0449\\u0438 \\u0432 \\u0441\\u0443\\u043f\\u0435 \\u0438 \\u043f\\u044e\\u0440\\u0435 \\u0438\\u0437 \\u043a\\u0430\\u0440\\u0442\\u043e\\u0448\\u043a\\u0438 \\u0444\\u0440\\u0438. \\u0412\\u0441\\u0435 - \\u043f\\u043e\\u0440\\u0446\\u0438\\u044f \\u0431\\u043e\\u043b\\u044c\\u0448\\u0430\\u044f. \\u041f\\u0435\\u043b\\u044c\\u043c\\u0435\\u043d\\u0438 \\u0438\\u0437 \\u043a\\u0443\\u0440\\u0438\\u043d\\u043e\\u0439 \\u043f\\u0435\\u0447\\u0435\\u043d\\u0438 \\u043e\\u0447\\u0435\\u043d\\u044c \\u043d\\u0435 \\u043f\\u043b\\u043e\\u0445\\u0438\\u0435. \\u0411\\u0443\\u043b\\u044c\\u043e\\u043d \\u043a\\u0443\\u0440\\u0438\\u043d\\u044b\\u0439 \\u0441 \\u0441\\u044b\\u0440\\u043e\\u043c - \\u0442\\u043e\\u0436\\u0435. \\u041a\\u043e\\u0442\\u043b\\u0435\\u0442\\u043a\\u0438 \\u043a\\u043e\\u0442\\u043b\\u0435\\u0442\\u044b \\u0441 \\u0433\\u043e\\u0432\\u044f\\u0434\\u0438\\u043d\\u043e\\u0439 - \\u043e\\u0447\\u0435\\u043d\\u044c \\u0432\\u043a\\u0443\\u0441\\u043d\\u044b\\u0435. \\u041b\\u044e\\u043b\\u044f \\u043a\\u0435\\u0431\\u0430\\u0431 - \\u043e\\u0433\\u043e\\u043d\\u044c. \\u041d\\u043e \\u0432\\u043e\\u0442 \\u043b\\u044e\\u043b\\u044e \\u0441 \\u043a\\u0443\\u0440\\u0438\\u0446\\u0435\\u0439 - \\u0440\\u0430\\u0437\\u043e\\u0447\\u0430\\u0440\\u043e\\u0432\\u0430\\u043b\\u043e. \\u041a\\u0430\\u0440\\u0442\\u043e\\u0448\\u043a\\u0430 \\u0444\\u0440\\u0438 \\u043d\\u0430. \\u0421\\u0435\\u0433\\u043e\\u0434\\u043d\\u044f \\u0431\\u044b\\u043b \\u0441\\u0432\\u0438\\u0434\\u0435\\u0442\\u0435\\u043b\\u0435\\u043c \\u044d\\u0442\\u043e\\u0439 \\u0441\\u0432\\u0430\\u0434\\u044c\\u0431\\u044b. \\u042d\\u0442\\u043e \\u0437\\u0430\\u0432\\u0435\\u0434\\u0435\\u043d\\u0438\\u0435 - \\u043e\\u0433\\u043e\\u043d\\u044c. \\u041a\\u043e\\u0433\\u0434\\u0430 \\u0432 \\u043c\\u0430\\u0435 \\u044f \\u0431\\u044b\\u043b \\u043d\\u0430 \\u043c\\u0430\\u0441\\u043b\\u0435\\u043d\\u0438\\u0446\\u0443 \\u0438 \\u0431\\u044b\\u043b \\u043d\\u0435 \\u043e\\u0434\\u0438\\u043d \\u0440\\u0430\\u0437 \\u0442\\u043e \\u0432\\u0441\\u0435\\u0433\\u0434\\u0430 \\u0437\\u0430\\u0445\\u0430\\u0436\\u0438\\u0432\\u0430\\u043b \\u0441\\u044e\\u0434\\u0430 \\u0441 \\u0436\\u0435\\u043d\\u043e\\u0439 \\u0438 \\u0434\\u0440\\u0443\\u0437\\u044c\\u044f\\u043c\\u0438. \\u0422\\u0430\\u043c \\u043f\\u0440\\u0435\\u043a\\u0440\\u0430\\u0441\\u043d\\u043e \\u0432\\u0441\\u0451 \\u043d\\u0430\\u0447\\u0438\\u043d\\u0430\\u044f \\u043e\\u0442 \\u043f\\u043e\\u0434\\u0430\\u0447\\u0438 \\u0431\\u043b\\u044e\\u0434 \\u0438 \\u0437\\u0430\\u043a\\u0430\\u043d\\u0447\\u0438\\u0432\\u0430\\u044f \\u043e\\u0431\\u0441\\u043b\\u0443\\u0436\\u0438\\u0432\\u0430\\u043d\\u0438\\u0435\\u043c. \\u041a\\u0443\\u0445\\u043d\\u044f \\u0448\\u0438\\u043a\\u0430\\u0440\\u043d\\u0430 \\u0432\\u0441\\u0435 \\u0431\\u043b\\u044e\\u0434\\u0430 \\u043a\\u043e\\u0442\\u043e\\u0440\\u044b\\u0435 \\u044f \\u043f\\u0440\\u043e\\u0431\\u043e\\u0432\\u0430\\u043b \\u0432\\u043a\\u0443\\u0441\\u043d\\u044b \\u0438 \\u043a\\u0440\\u0430\\u0441\\u0438\\u0432\\u043e \\u043e\\u0444\\u043e\\u0440\\u043c\\u043b\\u0435\\u043d\\u044b. \\u041f\\u043e \\u0441\\u0440\\u0430\\u0432\\u043d\\u0435\\u043d\\u0438\\u044e \\u0441 \\u0434\\u0440\\u0443\\u0433\\u0438\\u043c\\u0438 \\u043c\\u0435\\u0441\\u0442\\u0430\\u043c\\u0438 \\u0432 \\u0434\\u0440\\u0443\\u0433\\u0438\\u0445 \\u043c\\u0435\\u0441\\u0442\\u0430\\u0445 \\u0432 \\u043c\\u0435\\u043d\\u044e \\u0435\\u0441\\u0442\\u044c \\u0447\\u0442\\u043e \\u0442\\u043e \\u043d\\u0435\\u043f\\u043e\\u043d\\u044f\\u0442\\u043d\\u043e\\u0435 \\u0438 \\u043d\\u0435\\u043f\\u043e\\u043d\\u044f\\u0442\\u043d\\u043e\\u0435 \\u044f \\u0442\\u0430\\u043c \\u0431\\u044b\\u043b \\u0432\\u043f\\u0435\\u0440\\u0432\\u044b\\u0435 \\u0438 \\u044d\\u0442\\u043e \\u0431\\u044b\\u043b\\u043e \\u043d\\u0435\\u043f\\u0440\\u0438\\u044f\\u0442\\u043d\\u043e \\u0438 \\u043e\\u0433\\u043e\\u0440\\u0447\\u0438\\u043b\\u043e. \\u0415\\u0434\\u0430 \\u043a\\u043e\\u043d\\u0435\\u0447\\u043d\\u043e \\u0445\\u043e\\u0440\\u043e\\u0448\\u0430 \\u043d\\u043e \\u043d\\u0435 \\u0441\\u043a\\u0430\\u0436\\u0443 \\u0447\\u0442\\u043e \\u043e\\u043d\\u0430 \\u043d\\u0430\\u0441\\u0442\\u043e\\u043b\\u044c\\u043a\\u043e \\u0440\\u0430\\u0437\\u043d\\u043e\\u043e\\u0431\\u0440\\u0430\\u0437\\u043d\\u0430 \\u0432 \\u0435\\u0451 \\u043f\\u043e\\u0440\\u0446\\u0438\\u0438. \\u041d\\u043e \\u044f. \\u0412 \\u043e\\u0441\\u043d\\u043e\\u0432\\u043d\\u043e\\u043c \\u044d\\u0442\\u043e \\u043a\\u0430\\u0444\\u0435 \\u043d\\u0430 \\u043f\\u0435\\u0440\\u0432\\u043e\\u043c \\u044d\\u0442\\u0430\\u0436\\u0435. \\u041c\\u044b \\u043e\\u0441\\u0442\\u0430\\u043d\\u0430\\u0432\\u043b\\u0438\\u0432\\u0430\\u043b\\u0438\\u0441\\u044c \\u043d\\u0430 \\u043e\\u0434\\u043d\\u0443 \\u043d\\u043e\\u0447\\u044c \\u0432 \\u044d\\u0442\\u043e\\u043c \\u043e\\u0442\\u0435\\u043b\\u0435. \\u041c\\u0435\\u0441\\u0442\\u043e \\u0443\\u0434\\u043e\\u0431\\u043d\\u043e\\u0435 \\u043d\\u0435\\u0434\\u0430\\u043b\\u0435\\u043a\\u043e \\u043e\\u0442 \\u043d\\u0430\\u0431\\u0435\\u0440\\u0435\\u0436\\u043d\\u043e\\u0439. \\u041f\\u043e \\u043a\\u0443\\u0445\\u043d\\u0435 \\u0438 \\u043e\\u0431\\u0441\\u043b\\u0443\\u0436\\u0438\\u0432\\u0430\\u043d\\u0438\\u044e \\u0432\\u0441\\u0451 \\u0445\\u043e\\u0440\\u043e\\u0448\\u043e. \\u041f\\u043e\\u0440\\u0446\\u0438\\u0438 \\u0434\\u043e\\u0441\\u0442\\u0430\\u0442\\u043e\\u0447\\u043d\\u044b\\u0435 \\u0435\\u0441\\u0442\\u044c \\u0447\\u0442\\u043e \\u0432\\u044b\\u0431\\u0440\\u0430\\u0442\\u044c \\u043d\\u0430 \\u0441\\u0432\\u043e\\u0439 \\u0432\\u043a\\u0443\\u0441. \\u0418\\u0437 \\u043c\\u0438\\u043d\\u0443\\u0441\\u043e\\u0432 \\u0442\\u043e \\u0447\\u0442\\u043e \\u0434\\u043b\\u044f \\u0434\\u0435\\u0442\\u0435\\u0439 \\u0435\\u0441\\u0442\\u044c \\u0434\\u0435\\u0442\\u0441\\u043a\\u0430\\u044f \\u043a\\u043e\\u043c\\u043d\\u0430\\u0442\\u0430 \\u0433\\u0434\\u0435 \\u0438\\u043c \\u043c\\u043e\\u0436\\u043d\\u043e \\u043f\\u043e\\u043a\\u0430\\u0447\\u0430\\u0442\\u044c\\u0441\\u044f \\u0432 \\u0433\\u0430\\u043c\\u0430\\u043a\\u0435. \\u0422\\u0430\\u043a\\u0436\\u0435 \\u0443 \\u043a\\u0430\\u0444\\u0435 \\u0433\\u0440\\u044f\\u0437\\u043d\\u043e. \\u0412 \\u0434\\u0435\\u0442\\u0441\\u043a\\u043e\\u0439 \\u043a\\u043e\\u043c\\u043d\\u0430\\u0442\\u0435 \\u043e\\u0447\\u0435\\u043d\\u044c \\u043c\\u043d\\u043e\\u0433\\u043e \\u0434\\u0435\\u0442\\u0435\\u0439. \\u0414\\u0435\\u0442\\u0438 \\u0432\\u0441\\u0435 \\u0432 \\u043e\\u0434\\u043d\\u043e\\u043c - \\u043c\\u0435\\u0441\\u0442\\u0435. \\u0418 \\u043d\\u0430 \\u0441\\u0442\\u043e\\u043b\\u0435 \\u0438 \\u0432 \\u0448\\u043a\\u0430\\u0444\\u0443. \\u041a \\u0441\\u0430\\u043c\\u043e\\u043c\\u0443 \\u043a\\u0430\\u0444\\u0435 \\u043f\\u0440\\u0435\\u0442\\u0435\\u043d\\u0437\\u0438\\u0439 \\u043d\\u0435\\u0442 \\u0432\\u0441\\u0435 \\u0447\\u0438\\u0441\\u0442\\u043e \\u0438 \\u0430\\u043a\\u043a\\u0443\\u0440\\u0430\\u0442\\u043d\\u043e \\u0435\\u0441\\u0442\\u044c \\u0434\\u0430\\u0436\\u0435 \\u0432\\u043e\\u0434\\u0430 \\u0447\\u0430\\u0439 \\u0438 \\u043f\\u0435\\u0447\\u0435\\u043d\\u044c\\u0435 \\u0432 \\u043a\\u0430\\u0447\\u0435\\u0441\\u0442\\u0432\\u0435 \\u043f\\u043e\\u0434\\u0430\\u0440\\u043a\\u043e\\u0432 \\u043d\\u0430 \\u0432\\u044b\\u0431\\u043e\\u0440. \\u0418\\u043d\\u0442\\u0435\\u0440\\u044c\\u0435\\u0440.\",\n          \"\\u042f \\u0431\\u044b \\u0445\\u043e\\u0442\\u0435\\u043b\\u0430 \\u043f\\u043e\\u0434\\u0435\\u043b\\u0438\\u0442\\u044c\\u0441\\u044f \\u043e\\u0442\\u0437\\u044b\\u0432\\u043e\\u043c \\u043e\\u0431 \\u044d\\u0442\\u043e\\u043c \\u043c\\u0430\\u0433\\u0430\\u0437\\u0438\\u043d\\u0435. \\u0412\\u043e-\\u043f\\u0435\\u0440\\u0432\\u044b\\u0445 \\u044f \\u0434\\u0430\\u0432\\u043d\\u043e \\u0445\\u043e\\u0442\\u0435\\u043b\\u0430 \\u0441\\u044e\\u0434\\u0430 \\u0437\\u0430\\u0439\\u0442\\u0438 \\u0447\\u0442\\u043e\\u0431\\u044b \\u043a\\u0443\\u043f\\u0438\\u0442\\u044c \\u0432\\u043a\\u0443\\u0441\\u043d\\u044b\\u0435 \\u0444\\u0440\\u0443\\u043a\\u0442\\u044b \\u0438 \\u043e\\u0432\\u043e\\u0449\\u0438. \\u0418 \\u0432\\u043e\\u0442 \\u0441\\u0435\\u0433\\u043e\\u0434\\u043d\\u044f \\u043a\\u0443\\u043f\\u0438\\u043b\\u0430. \\u041d\\u0435 \\u043e\\u0436\\u0438\\u0434\\u0430\\u043b\\u0430. \\u041e\\u0447\\u0435\\u043d\\u044c \\u0432\\u043a\\u0443\\u0441\\u043d\\u043e \\u0438 \\u043d\\u0435 \\u0442\\u043e\\u043b\\u044c\\u043a\\u043e \\u044f. \\u041d\\u043e \\u0441\\u0430\\u043c\\u043e\\u0435 \\u0438\\u043d\\u0442\\u0435\\u0440\\u0435\\u0441\\u043d\\u043e\\u0435 \\u0447\\u0442\\u043e \\u043f\\u0440\\u043e\\u0434\\u0430\\u0432\\u0435\\u0446 \\u043d\\u0430 \\u043a\\u0430\\u0441\\u0441\\u0435 \\u0431\\u044b\\u043b \\u0441\\u043e\\u0432\\u0435\\u0440\\u0448\\u0435\\u043d\\u043d\\u043e \\u043d\\u0435 \\u043e\\u0441\\u0432\\u0435\\u0434\\u043e\\u043c\\u043b\\u0451\\u043d \\u0432 \\u0430\\u0441\\u0441\\u043e\\u0440\\u0442\\u0438\\u043c\\u0435\\u043d\\u0442\\u0435 \\u0442\\u043e\\u0432\\u0430\\u0440\\u043e\\u0432. \\u0410 \\u043a\\u043e\\u0433\\u0434\\u0430 \\u044f \\u0441\\u043f\\u0440\\u043e\\u0441\\u0438\\u043b\\u0430 \\u0433\\u0434\\u0435 \\u043c\\u043e\\u0439 \\u0442\\u043e\\u0432\\u0430\\u0440 \\u043e\\u043d \\u043f\\u043e\\u043a\\u0430\\u0437\\u0430\\u043b \\u043c\\u043d\\u0435 \\u0447\\u0442\\u043e \\u0435\\u0433\\u043e \\u043d\\u0435 \\u0434\\u043e\\u0441\\u0442\\u0430\\u0451\\u0442. \\u041e\\u043d \\u043f\\u0440\\u043e\\u0441\\u0442\\u043e \\u0434\\u043e\\u0441\\u0442\\u0430\\u043b \\u0441\\u0432\\u043e\\u0439 \\u0442\\u043e\\u0432\\u0430\\u0440 \\u0432 \\u043a\\u043e\\u043d\\u0446\\u0435 \\u0440\\u0430\\u0431\\u043e\\u0447\\u0435\\u0433\\u043e \\u0434\\u043d\\u044f. \\u042f \\u0443\\u0436\\u0435 \\u0431\\u044b\\u043b\\u0430 \\u043f\\u043e\\u0434\\u0433\\u043e\\u0442\\u043e\\u0432\\u043b\\u0435\\u043d\\u0430 \\u043a \\u0442\\u043e\\u043c\\u0443 \\u0447\\u0442\\u043e\\u0431\\u044b \\u043d\\u0430 \\u043c\\u0435\\u043d\\u044f \\u043d\\u0430\\u043b\\u0435\\u0442\\u0435\\u043b\\u043e \\u0442\\u0430\\u043a\\u043e\\u0435 \\u043e\\u0442\\u043d\\u043e\\u0448\\u0435\\u043d\\u0438\\u0435 \\u0438 \\u0432 \\u0438\\u0442\\u043e\\u0433\\u0435 \\u044f \\u043f\\u0440\\u043e\\u0441\\u0442\\u043e \\u0440\\u0430\\u0437\\u0432\\u0435\\u0440\\u043d\\u0443\\u043b\\u0430\\u0441\\u044c \\u0438 \\u0443\\u0448\\u043b\\u0430. \\u0414\\u0430 \\u0438 \\u043b\\u0430\\u0434\\u043d\\u043e. \\u0422\\u0430\\u043a. \\u042d\\u0442\\u043e \\u043f\\u0440\\u043e\\u0441\\u0442\\u043e \\u0443\\u0436\\u0430\\u0441 \\u043a\\u0430\\u043a\\u043e\\u0439-\\u0442\\u043e. \\u041a\\u0430\\u043a \\u043d\\u0430 \\u043f\\u043e\\u0445\\u043e\\u0440\\u043e\\u043d\\u0430\\u0445 \\u0431\\u044b\\u043b\\u0438 \\u0432\\u0441\\u0435\\u0433\\u0434\\u0430 \\u0441 \\u0440\\u0435\\u0431\\u0451\\u043d\\u043a\\u043e\\u043c \\u0438 \\u0442\\u0430\\u043a \\u0432\\u0441\\u0435 \\u0438 \\u0434\\u043e \\u043c\\u0435\\u043b\\u043e\\u0447\\u0435\\u0439. \\u041d\\u043e \\u0441\\u0435\\u0433\\u043e\\u0434\\u043d\\u044f \\u0440\\u0435\\u0448\\u0438\\u043b\\u0430 \\u043a\\u0443\\u043f\\u0438\\u0442\\u044c \\u0440\\u0435\\u0431\\u0435\\u043d\\u043a\\u0443 \\u043d\\u0430\\u0431\\u043e\\u0440 \\u043f\\u043e \\u0440\\u0435\\u043a\\u043e\\u043c\\u0435\\u043d\\u0434\\u0430\\u0446\\u0438\\u0438. \\u0412 \\u043e\\u0434\\u043d\\u043e\\u043c \\u0438\\u0437 \\u043c\\u0430\\u0433\\u0430\\u0437\\u0438\\u043d\\u0447\\u0438\\u043a\\u043e\\u0432 \\u0437\\u0430\\u0431\\u0435\\u0436\\u0430\\u043b\\u0430 \\u0432 \\u044d\\u0442\\u043e\\u0442 \\u043c\\u0430\\u0433\\u0430\\u0437\\u0438\\u043d \\u0441 \\u043f\\u043e\\u043a\\u0443\\u043f\\u043a\\u043e\\u0439 \\u043f\\u0440\\u043e\\u0434\\u0443\\u043a\\u0442\\u043e\\u0432. \\u0412\\u044b\\u0431\\u043e\\u0440 \\u0442\\u043e\\u0432\\u0430\\u0440\\u0430 \\u0431\\u044b\\u043b \\u043e\\u0447\\u0435\\u043d\\u044c \\u0438 \\u043e\\u0447\\u0435\\u043d\\u044c \\u0431\\u043e\\u043b\\u044c\\u0448\\u043e\\u0439. \\u0410 \\u0446\\u0435\\u043d\\u0430 \\u043a\\u0430\\u043a \\u0440\\u0430\\u0437 \\u0432 \\u0440\\u0430\\u0437 \\u043e\\u0447\\u0435\\u043d\\u044c \\u0432\\u044b\\u0441\\u043e\\u043a\\u0430\\u044f. \\u041a\\u0443\\u043f\\u0438\\u043b\\u0430 \\u0434\\u043b\\u044f \\u0441\\u0435\\u0431\\u044f \\u0432 \\u044d\\u0442\\u043e\\u043c \\u043c\\u0430\\u0433\\u0430\\u0437\\u0438\\u043d\\u0435 \\u0432\\u0441\\u0435 \\u0447\\u0442\\u043e \\u043f\\u043e\\u043f\\u0440\\u043e\\u0441\\u0438\\u043b\\u0430. \\u0418 \\u044d\\u0442\\u043e \\u0443\\u0436\\u0435 \\u043d\\u0435 \\u043f\\u0435\\u0440\\u0432\\u044b\\u0439 \\u0440\\u0430\\u0437. \\u041f\\u043e \\u043f\\u0443\\u0442\\u0438 \\u0434\\u043e\\u043c\\u043e\\u0439 \\u0432 \\u0434\\u0440\\u0443\\u0433\\u043e\\u0439 \\u0440\\u0430\\u0439\\u043e\\u043d \\u0437\\u0430\\u0448\\u043b\\u0430 \\u0432 \\u043f\\u0440\\u043e\\u0434\\u0443\\u043a\\u0442\\u043e\\u0432\\u044b\\u0439. \\u0423\\u0432\\u0438\\u0434\\u0435\\u043b\\u0430 \\u0447\\u0442\\u043e \\u0432 \\u0434\\u0440\\u0443\\u0433\\u043e\\u043c \\u043c\\u0430\\u0433\\u0430\\u0437\\u0438\\u043d\\u0435 \\u044d\\u0442\\u043e\\u0442 \\u0436\\u0435 \\u043c\\u0430\\u0433\\u0430\\u0437\\u0438\\u043d\\u0447\\u0438\\u043a \\u0433\\u0434\\u0435 \\u044f \\u043f\\u043e\\u043a\\u0443\\u043f\\u0430\\u043b\\u0430 \\u043c\\u044f\\u0441\\u043e. \\u0421\\u043f\\u0440\\u043e\\u0441\\u0438\\u043b\\u0430 \\u0443 \\u043f\\u0440\\u043e\\u0434\\u0430\\u0432\\u0446\\u0430 \\u0447\\u0442\\u043e \\u043c\\u043d\\u0435. \\u0415\\u0441\\u043b\\u0438 \\u0431\\u044b \\u043c\\u043e\\u0436\\u043d\\u043e \\u0431\\u044b\\u043b\\u043e \\u043f\\u043e\\u0441\\u0442\\u0430\\u0432\\u0438\\u0442\\u044c \\u0447\\u0435\\u0442\\u044b\\u0440\\u0435 \\u0437\\u0432\\u0435\\u0437\\u0434\\u044b \\u043c\\u043d\\u0435 \\u043d\\u0435 \\u0441\\u043a\\u0430\\u0437\\u0430\\u043b\\u0430 \\u0431\\u044b \\u043d\\u0438\\u043a\\u043e\\u0433\\u0434\\u0430 \\u0432 \\u044d\\u0442\\u043e\\u043c \\u043c\\u0430\\u0433\\u0430\\u0437\\u0438\\u043d\\u0435. \\u0422\\u0430\\u043c \\u043e\\u0447\\u0435\\u043d\\u044c \\u0447\\u0438\\u0441\\u0442\\u043e \\u043f\\u0440\\u043e\\u0441\\u0442\\u043e\\u0440\\u043d\\u043e \\u0446\\u0435\\u043d\\u044b \\u043d\\u0438\\u0436\\u0435 \\u0447\\u0435\\u043c \\u0432 \\u043f\\u044f\\u0442\\u0435\\u0440\\u043e\\u0447\\u043a\\u0435. \\u0418 \\u0432\\u0441\\u0435\\u0433\\u0434\\u0430 \\u0435\\u0441\\u0442\\u044c \\u043e\\u0447\\u0435\\u0440\\u0435\\u0434\\u0438 \\u0447\\u0442\\u043e \\u043a\\u0430\\u0441\\u0430\\u0435\\u0442\\u0441\\u044f \\u0446\\u0435\\u043d\\u043e\\u0432\\u043e\\u0433\\u043e \\u0441\\u0435\\u0433\\u043c\\u0435\\u043d\\u0442\\u0430. \\u041d\\u0430 \\u043d\\u0435\\u043a\\u043e\\u0442\\u043e\\u0440\\u044b\\u0435 \\u0442\\u043e\\u0432\\u0430\\u0440\\u044b \\u0446\\u0435\\u043d\\u044b \\u043d\\u0435 \\u0441\\u043e\\u0432\\u043f\\u0430\\u0434\\u0430\\u044e\\u0442 \\u0430 \\u0437\\u0430\\u0447\\u0430\\u0441\\u0442\\u0443\\u044e \\u0435\\u0441\\u0442\\u044c \\u043a\\u0430\\u043a\\u0438\\u0435-\\u0442\\u043e \\u0441\\u044e\\u0440\\u043f\\u0440\\u0438\\u0437\\u044b. \\u041d\\u0435\\u043a\\u043e\\u0442\\u043e\\u0440\\u044b\\u0435 \\u0431\\u043b\\u044e\\u0434\\u0430 \\u0431\\u044b\\u0432\\u0430\\u044e\\u0442 \\u0434\\u0430\\u0436\\u0435 \\u0441\\u043b\\u0438\\u0448\\u043a\\u043e\\u043c \\u0441\\u043b\\u0430\\u0434\\u043a\\u0438\\u043c\\u0438 \\u043f\\u043e\\u0442\\u043e\\u043c\\u0443 \\u0447\\u0442\\u043e \\u0432 \\u044d\\u0442\\u043e\\u0439 \\u0441\\u0435\\u0442\\u0438 \\u0447\\u0430\\u0441\\u0442\\u043e \\u043d\\u0435 \\u0432\\u043a\\u0443\\u0441\\u043d\\u043e \\u043f\\u043e \\u0441\\u0443\\u0442\\u0438. \\u0426\\u0435\\u043d\\u044b \\u043d\\u0430 \\u0440\\u044f\\u0434 \\u043f\\u0440\\u043e\\u0434\\u0443\\u043a\\u0442\\u043e\\u0432 \\u043d\\u0438\\u0436\\u0435 \\u0438 \\u0438\\u043d\\u043e\\u0433\\u0434\\u0430 \\u0434\\u0430\\u0436\\u0435 \\u0432\\u044b\\u0448\\u0435 \\u0447\\u0435\\u043c \\u043d\\u0430 \\u043a\\u0430\\u0441\\u0441\\u0435 \\u043f\\u044f\\u0442\\u0451\\u0440\\u043e\\u0447\\u043a\\u0438. \\u041d\\u0443 \\u0438 \\u0435\\u0449\\u0451 \\u043c\\u043d\\u0435 \\u043a\\u0430\\u0436\\u0435\\u0442\\u0441\\u044f \\u0447\\u0442\\u043e \\u0434\\u0430\\u0436\\u0435 \\u0435\\u0441\\u043b\\u0438 \\u0437\\u0430\\u0441\\u0442\\u0430\\u0442\\u044c \\u0441\\u0432\\u043e\\u0439 \\u0432\\u044b\\u0431\\u043e\\u0440 \\u043d\\u0430 \\u043e\\u0434\\u043d\\u043e\\u043c \\u0442\\u043e\\u0432\\u0430\\u0440\\u0435 - \\u0442\\u043e \\u043c\\u043e\\u0436\\u043d\\u043e \\u0432\\u044b\\u0431\\u0440\\u0430\\u0442\\u044c \\u0438 \\u0442\\u043e \\u0447\\u0442\\u043e. \\u0425\\u043e\\u0440\\u043e\\u0448\\u0438\\u0439 \\u043c\\u0430\\u0433\\u0430\\u0437\\u0438\\u043d \\u0435\\u0441\\u043b\\u0438 \\u0445\\u043e\\u0447\\u0435\\u0448\\u044c \\u0447\\u0442\\u043e \\u0442\\u043e \\u043f\\u0440\\u0438\\u043e\\u0431\\u0440\\u0435\\u0441\\u0442\\u0438 \\u0432\\u0441\\u0435\\u0433\\u0434\\u0430 \\u043c\\u043e\\u0436\\u043d\\u043e \\u043a\\u0443\\u043f\\u0438\\u0442\\u044c. \\u041d\\u043e \\u043d\\u0435 \\u0432\\u0441\\u0435\\u0433\\u0434\\u0430 \\u0435\\u0441\\u0442\\u044c \\u043d\\u0435\\u043e\\u0431\\u0445\\u043e\\u0434\\u0438\\u043c\\u043e\\u0435 \\u043d\\u0430 \\u043a\\u0430\\u0441\\u0441\\u0435 \\u0438 \\u0430\\u0441\\u0441\\u043e\\u0440\\u0442\\u0438\\u043c\\u0435\\u043d\\u0442 \\u043d\\u0435 \\u043e\\u0447\\u0435\\u043d\\u044c. \\u041a \\u0441\\u043e\\u0436\\u0430\\u043b\\u0435\\u043d\\u0438\\u044e \\u043f\\u0440\\u0438\\u0445\\u043e\\u0434\\u0438\\u0442\\u0441\\u044f \\u0436\\u0434\\u0430\\u0442\\u044c. \\u042f \\u043d\\u0435 \\u0445\\u043e\\u0447\\u0443 \\u0440\\u0443\\u0433\\u0430\\u0442\\u044c\\u0441\\u044f \\u0437\\u0430 \\u043a\\u0430\\u0447\\u0435\\u0441\\u0442\\u0432\\u043e \\u043f\\u0440\\u043e\\u0434\\u0443\\u043a\\u0442\\u043e\\u0432 \\u043d\\u043e \\u0441 \\u043a\\u0430\\u0436\\u0434\\u044b\\u043c \\u0440\\u0430\\u0437\\u043e\\u043c \\u0432 \\u043b\\u0443\\u0447\\u0448\\u0443\\u044e \\u0441\\u0442\\u043e\\u0440\\u043e\\u043d\\u0443. \\u0412 \\u043f\\u043e\\u0441\\u043b\\u0435\\u0434\\u043d\\u0438\\u0439 \\u0440\\u0430\\u0437 \\u043c\\u043d\\u0435 \\u043d\\u0435 \\u043f\\u043e\\u043d\\u0440\\u0430\\u0432\\u0438\\u043b\\u043e\\u0441\\u044c. \\u041d\\u0435 \\u0431\\u044b\\u043b\\u043e \\u0446\\u0435\\u043d\\u043d\\u0438\\u043a\\u0430 \\u043d\\u0430 \\u043f\\u0440\\u043e\\u0434\\u0443\\u043a\\u0442\\u044b \\u043f\\u0440\\u0438 \\u043c\\u043d\\u0435 \\u043f\\u0440\\u043e\\u0434\\u0430\\u0432\\u0435\\u0446 \\u043d\\u0435 \\u0432\\u0437\\u044f\\u043b\\u0430 \\u0434\\u0430\\u0436\\u0435 \\u043f\\u0440\\u043e\\u0431\\u0443 \\u0430 \\u043f\\u0440\\u0438\\u043d\\u0435\\u0441\\u043b\\u0430 \\u043f\\u0440\\u043e\\u0431\\u043d\\u0443\\u044e \\u0442\\u043e \\u0435\\u0441\\u0442\\u044c \\u0432 \\u0438\\u0442\\u043e\\u0433\\u0435 \\u043f\\u0440\\u0438\\u0448\\u043b\\u043e\\u0441\\u044c \\u0435\\u0439 \\u0433\\u043e\\u0432\\u043e\\u0440\\u0438\\u0442\\u044c \\u0447\\u0442\\u043e \\u0431\\u044b \\u043e\\u043d\\u0430 \\u043d\\u0430\\u043c \\u043f\\u0440\\u043e\\u0431\\u0438\\u043b\\u0430 \\u0430 \\u044f \\u0432\\u0441\\u0435 \\u0440\\u0430\\u0432\\u043d\\u043e \\u0432\\u0437\\u044f\\u043b\\u0430 \\u0430 \\u043e\\u043d\\u0430 \\u043f\\u0440\\u043e\\u0431\\u0438\\u0432\\u0430\\u0435\\u0442 \\u0430 \\u043f\\u043e \\u043f\\u0440\\u0438\\u0445\\u043e\\u0434\\u0443 \\u0432\\u0441\\u0435 \\u0434\\u043e\\u0440\\u043e\\u0436\\u0435 \\u043f\\u043e \\u0446\\u0435\\u043d\\u0435. \\u042d\\u0442\\u043e \\u043a\\u043e\\u0433\\u0434\\u0430 \\u043c\\u044b \\u0432 \\u043c\\u0430\\u0433\\u0430\\u0437\\u0438\\u043d\\u0435 \\u043f\\u043e\\u043a\\u0443\\u043f\\u0430\\u043b\\u0438 \\u0432 \\u043e\\u0434\\u043d\\u043e\\u043c \\u0446\\u0435\\u043d\\u043d\\u0438\\u043a\\u0435. \\u041c\\u043d\\u0435 \\u043d\\u0440\\u0430\\u0432\\u0438\\u0442\\u044c\\u0441\\u044f \\u043c\\u0430\\u0433\\u0430\\u0437\\u0438\\u043d \\u043f\\u043e \\u043c\\u043e\\u0435\\u043c\\u0443 \\u043c\\u043d\\u0435\\u043d\\u0438\\u044e. \\u0417\\u0434\\u0435\\u0441\\u044c \\u044f \\u043a\\u0443\\u043f\\u0438\\u043b\\u0430 \\u043f\\u043e \\u0440\\u0430\\u0437\\u043d\\u044b\\u043c \\u043f\\u0440\\u0438\\u0447\\u0438\\u043d\\u0430\\u043c \\u043d\\u0435\\u0441\\u043a\\u043e\\u043b\\u044c\\u043a\\u043e \\u0432\\u0430\\u0440\\u0438\\u0430\\u043d\\u0442\\u043e\\u0432 \\u0445\\u043e\\u0437\\u0442\\u043e\\u0432\\u0430\\u0440\\u043e\\u0432 \\u043d\\u0430 \\u043b\\u044e\\u0431\\u043e\\u0439 \\u0432\\u043a\\u0443\\u0441 \\u0438 \\u043a\\u043e\\u0448\\u0435\\u043b\\u0451\\u043a. \\u0425\\u043e\\u0447\\u0443 \\u043e\\u0441\\u0442\\u0430\\u0432\\u0438\\u0442\\u044c \\u043f\\u043e\\u043b\\u043e\\u0436\\u0438\\u0442\\u0435\\u043b\\u044c\\u043d\\u044b\\u0439 \\u043e\\u0442\\u0437\\u044b\\u0432 \\u043e\\u0431 \\u044d\\u0442\\u043e\\u043c \\u043c\\u0430\\u0433\\u0430\\u0437\\u0438\\u043d\\u0447\\u0438\\u043a\\u0435. \\u0422\\u0430\\u043a \\u043a\\u0430\\u043a \\u0431\\u044b\\u043b\\u0430 \\u043f\\u0440\\u043e\\u0435\\u0437\\u0434\\u043e\\u043c \\u0432 \\u0442\\u0432\\u0435\\u0440\\u0438. \\u042d\\u0442\\u043e\\u0442 \\u043c\\u0430\\u0433\\u0430\\u0437\\u0438\\u043d\\u0447\\u0438\\u043a \\u0443 \\u043c\\u0435\\u043d\\u044f \\u0441\\u0442\\u0430\\u043b \\u043b\\u044e\\u0431\\u0438\\u043c\\u044b\\u043c \\u0438 \\u0440\\u043e\\u0434\\u043d\\u044b\\u043c. \\u042f \\u043f\\u043e\\u043a\\u0443\\u043f\\u0430\\u044e \\u0442\\u0430\\u043c \\u0438 \\u043f\\u0440\\u043e\\u0434\\u0443\\u043a\\u0442\\u044b \\u0438 \\u043e\\u0434\\u0435\\u0436\\u0434\\u0443. \\u0412\\u0441\\u0435\\u0433\\u0434\\u0430 \\u0447\\u0438\\u0441\\u0442\\u043e \\u0430\\u043a\\u043a\\u0443\\u0440\\u0430\\u0442\\u043d\\u043e \\u0438 \\u0430\\u043a\\u043a\\u0443\\u0440\\u0430\\u0442\\u043d\\u043e. \\u041f\\u0440\\u043e\\u0434\\u0430\\u0432\\u0446\\u044b \\u0432\\u0441\\u0435\\u0433\\u0434\\u0430 \\u0437\\u0434\\u043e\\u0440\\u043e\\u0432\\u0430\\u044e\\u0442\\u0441\\u044f \\u0432\\u0435\\u0436\\u043b\\u0438\\u0432\\u043e \\u0438 \\u0432\\u043d\\u0438\\u043c\\u0430\\u0442\\u0435\\u043b\\u044c\\u043d\\u043e. \\u041a \\u0441\\u043e\\u0436\\u0430\\u043b\\u0435\\u043d\\u0438\\u044e \\u043c\\u0430\\u0433\\u0430\\u0437\\u0438\\u043d \\u043c\\u043d\\u0435 \\u043d\\u0435 \\u043d\\u0440\\u0430\\u0432\\u0438\\u0442\\u0441\\u044f \\u044f \\u0432 \\u043d\\u0435\\u043c \\u0440\\u0430\\u0431\\u043e\\u0442\\u0430\\u044e \\u043f\\u043e\\u0447\\u0442\\u0438 \\u043f\\u043e\\u0441\\u0442\\u043e\\u044f\\u043d\\u043d\\u043e \\u0430 \\u0431\\u044b\\u0432\\u0430\\u0435\\u0442 \\u0438 \\u0440\\u0430\\u043d\\u044c\\u0448\\u0435 \\u043f\\u0440\\u0438\\u0445\\u043e\\u0434\\u0438\\u043b\\u043e\\u0441\\u044c \\u0437\\u0430\\u0434\\u0435\\u0440\\u0436\\u0438\\u0432\\u0430\\u0442\\u044c\\u0441\\u044f \\u043d\\u0430 \\u0440\\u0430\\u0431\\u043e\\u0442\\u0435 \\u0442. \\u0415. \\u041d\\u0430 \\u043d\\u0435\\u0441\\u043a\\u043e\\u043b\\u044c\\u043a\\u043e \\u0434\\u043d\\u0435\\u0439 \\u0430 \\u044d\\u0442\\u043e \\u043e\\u0447\\u0435\\u043d\\u044c \\u043f\\u0440\\u0438\\u044f\\u0442\\u043d\\u043e.\",\n          \"\\u0411\\u044b\\u043b\\u0438 \\u0432 \\u043c\\u0430\\u0433\\u0430\\u0437\\u0438\\u043d\\u0435 \\u0432\\u0447\\u0435\\u0440\\u0430 \\u043a\\u0443\\u043f\\u0438\\u043b\\u0438 \\u043a\\u0438\\u043d\\u0433\\u0441\\u0442\\u0430\\u0439\\u043b \\u043c\\u043e\\u043b\\u043e\\u0447\\u043d\\u044b\\u0439 \\u043a\\u043e\\u043a\\u0442\\u0435\\u0439\\u043b\\u044c \\u043d\\u0430 \\u0440\\u0443\\u0431 \\u0434\\u0435\\u0448\\u0435\\u0432\\u043b\\u0435 \\u0447\\u0435\\u043c \\u0432 \\u0441\\u043e\\u0441\\u0435\\u0434\\u043d\\u0438\\u0445 \\u043c\\u0430\\u0433\\u0430\\u0437\\u0438\\u043d\\u0447\\u0438\\u043a\\u0430\\u0445. \\u042f \\u0443\\u0442\\u043e\\u0447\\u043d\\u0438\\u043b\\u0430 \\u0446\\u0435\\u043d\\u0443 \\u043d\\u0430 \\u043a\\u0438\\u043c\\u0447\\u0438 \\u043d\\u043e \\u043e\\u043d \\u043e\\u043a\\u0430\\u0437\\u0430\\u043b\\u0441\\u044f \\u0434\\u043e\\u0440\\u043e\\u0436\\u0435 \\u0447\\u0435\\u043c \\u0443 \\u043a\\u043e\\u043d\\u043a\\u0443\\u0440\\u0435\\u043d\\u0442\\u043e\\u0432 \\u043d\\u0435 \\u043f\\u043e \\u043a\\u0430\\u0447\\u0435\\u0441\\u0442\\u0432\\u0443 \\u0438 \\u043d\\u0435 \\u0432\\u043a\\u0443\\u0441\\u0443. \\u0421\\u043f\\u0440\\u043e\\u0441\\u0438\\u043b\\u0430 \\u0446\\u0435\\u043d\\u0443 \\u0432 \\u0438\\u043d\\u0442\\u0435\\u0440\\u043d\\u0435\\u0442 \\u043c\\u0430\\u0433\\u0430\\u0437\\u0438\\u043d\\u0435 \\u0442\\u0430\\u043a \\u043a\\u0430\\u043a \\u044d\\u0442\\u043e \\u0434\\u0435\\u0439\\u0441\\u0442\\u0432\\u0438\\u0442\\u0435\\u043b\\u044c\\u043d\\u043e \\u0431\\u044b\\u043b \\u043a\\u0435\\u043d\\u0441\\u0442\\u043e\\u043d \\u043c\\u043e\\u043b\\u043e\\u0447\\u043d\\u044b\\u0435 \\u043a\\u043e\\u043a\\u0442\\u0435\\u0439\\u043b\\u0438 \\u043e\\u0442 \\u0444\\u0438\\u0440\\u043c\\u044b \\u0447\\u0442\\u043e \\u043c\\u043d\\u0435 \\u0441\\u0434\\u0435\\u043b\\u0430\\u043b\\u0438 \\u0441\\u043a\\u0438\\u0434\\u043a\\u0443 \\u0432 \\u043a\\u0430\\u0447\\u0435\\u0441\\u0442\\u0432\\u0435 \\u043a\\u043e\\u043c\\u043f\\u043b\\u0438\\u043c\\u0435\\u043d\\u0442\\u0430. \\u041a\\u0430\\u043a \\u043e\\u043a\\u0430\\u0437\\u0430\\u043b\\u043e\\u0441\\u044c \\u0441\\u043a\\u0438\\u0434\\u043a\\u0443 \\u0441\\u0434\\u0435\\u043b\\u0430\\u043b\\u0438 \\u0437\\u0430 \\u0434\\u043e\\u0441\\u0442\\u0430\\u0432\\u043a\\u0443 \\u043e\\u0442 \\u043a\\u0438\\u043d\\u0433\\u0430 \\u043c\\u043e\\u043b\\u043e\\u0447\\u043d\\u043e\\u0433\\u043e \\u043a\\u043e\\u043a\\u0442\\u0435\\u0439\\u043b\\u044f \\u0432 \\u0434\\u0440\\u0443\\u0433\\u043e\\u0439 \\u043c\\u0430\\u0433\\u0430\\u0437\\u0438\\u043d \\u0438 \\u0437\\u0430 \\u0442\\u043e\\u0432\\u0430\\u0440 \\u043a\\u043e\\u0442\\u043e\\u0440\\u044b\\u0439 \\u044f \\u043d\\u0435 \\u0437\\u0430\\u043a\\u0430\\u0437\\u044b\\u0432\\u0430\\u043b\\u0430. \\u041c\\u0430\\u0433\\u0430\\u0437\\u0438\\u043d \\u0433\\u0434\\u0435 \\u044f \\u0435\\u0433\\u043e \\u043a\\u0443\\u043f\\u0438\\u043b\\u0430 \\u0440\\u0430\\u0431\\u043e\\u0442\\u0430\\u0435\\u0442 \\u043d\\u0435 \\u0432 \\u044d\\u0442\\u043e\\u043c \\u043c\\u0430\\u0433\\u0430\\u0437\\u0438\\u043d\\u0435 \\u0430 \\u0432 \\u0441\\u043d\\u0442. \\u0410 \\u043a\\u044d\\u043c\\u043f. \\u041c\\u0430\\u0433\\u0430\\u0437\\u0438\\u043d \\u043a\\u0430\\u043a \\u043c\\u0430\\u0433\\u0430\\u0437\\u0438\\u043d. \\u041f\\u0440\\u043e\\u0434\\u0430\\u0432\\u0446\\u044b \\u0432 \\u043c\\u0430\\u0433\\u0430\\u0437\\u0438\\u043d\\u0435 \\u043d\\u0438\\u0447\\u0435\\u0433\\u043e \\u043e\\u0441\\u043e\\u0431\\u0435\\u043d\\u043d\\u043e\\u0433\\u043e \\u043d\\u0435 \\u0437\\u043d\\u0430\\u044e\\u0442 \\u043d\\u043e \\u044d\\u0442\\u043e \\u0432 \\u043f\\u0440\\u0438\\u043d\\u0446\\u0438\\u043f\\u0435 \\u043f\\u043e\\u043d\\u044f\\u0442\\u043d\\u043e \\u043f\\u043e \\u0442\\u043e\\u043c\\u0443 \\u0447\\u0442\\u043e \\u0446\\u0435\\u043d\\u044b \\u0435\\u0441\\u0442\\u044c \\u0430 \\u0432\\u043e\\u0442 \\u043a\\u0430\\u0447\\u0435\\u0441\\u0442\\u0432\\u043e \\u043f\\u0440\\u043e\\u0434\\u0443\\u043a\\u0442\\u043e\\u0432 \\u043d\\u0435 \\u043e\\u0447\\u0435\\u043d\\u044c. \\u0420\\u0430\\u043d\\u044c\\u0448\\u0435 \\u043a\\u043e\\u0433\\u0434\\u0430 \\u0446\\u0435\\u043d\\u044b \\u0432\\u044b\\u0440\\u043e\\u0441\\u043b\\u0438 \\u043a\\u0430\\u0447\\u0435\\u0441\\u0442\\u0432\\u043e \\u0443\\u043f\\u0430\\u043b\\u043e \\u0438 \\u0441\\u0442\\u0430\\u043b\\u043e \\u043e\\u0447\\u0435\\u043d\\u044c \\u043d\\u0435 \\u0438\\u043d\\u0442\\u0435\\u0440\\u0435\\u0441\\u043d\\u043e \\u043f\\u043e\\u043a\\u0443\\u043f\\u0430\\u0442\\u044c. \\u041d\\u0443 \\u0442\\u0430\\u043a \\u0438 \\u043a\\u0430\\u043a \\u043e\\u043a\\u0430\\u0437\\u0430\\u043b\\u043e\\u0441\\u044c \\u043f\\u043e\\u0441\\u043b\\u0435 \\u0441\\u043c\\u0435\\u043d\\u044b \\u043f\\u0435\\u0440\\u0441\\u043e\\u043d\\u0430\\u043b\\u0430 \\u044f \\u043c\\u043e\\u0433\\u0443 \\u0441\\u0435\\u0431\\u0435 \\u043f\\u0440\\u0435\\u0434\\u0441\\u0442\\u0430\\u0432\\u0438\\u0442\\u044c \\u0447\\u0442\\u043e \\u0432 \\u044d\\u0442\\u043e\\u043c \\u043c\\u0430\\u0433\\u0430\\u0437\\u0438\\u043d\\u0435 \\u0435\\u0441\\u0442\\u044c \\u0445\\u043e\\u0440\\u043e\\u0448\\u0438\\u0435 \\u043f\\u0440\\u043e\\u0434\\u0443\\u043a\\u0442\\u044b \\u0432 \\u043a\\u043e\\u0442\\u043e\\u0440\\u044b\\u0445 \\u0446\\u0435\\u043d\\u0430 \\u0437\\u0430\\u0432\\u044b\\u0448\\u0435\\u043d\\u0430. \\u042f \\u043a\\u0430\\u043a \\u0431\\u044b \\u0432 \\u0441\\u0442\\u043e\\u0440\\u043e\\u043d\\u0435 \\u043e\\u0442 \\u044d\\u0442\\u043e\\u0433\\u043e \\u0438 \\u043d\\u0435 \\u0445\\u043e\\u0442\\u0435\\u043b. \\u041d\\u043e \\u043a\\u043e\\u0433\\u0434\\u0430 \\u0443\\u0432\\u0438\\u0434\\u0435\\u043b \\u044d\\u0442\\u043e\\u0442 \\u043c\\u0430\\u0433\\u0430\\u0437\\u0438\\u043d \\u043f\\u043e\\u043d\\u044f\\u043b \\u0447\\u0442\\u043e \\u043d\\u0435 \\u043d\\u0430\\u0434\\u043e \\u0435\\u043c\\u0443 \\u043f\\u0440\\u043e\\u0434\\u0430\\u0432\\u0430\\u0442\\u044c. \\u0418 \\u044d\\u0442\\u043e \\u043d\\u0435 \\u0443\\u0434\\u0438\\u0432\\u0438\\u0442\\u0435\\u043b\\u044c\\u043d\\u043e. \\u041d\\u0430 \\u044d\\u0442\\u043e\\u043c \\u0432\\u0441\\u0451. \\u0412 \\u043e\\u0431\\u0449\\u0435\\u043c \\u0432\\u043f\\u0435\\u0447\\u0430\\u0442\\u043b\\u0435\\u043d\\u0438\\u044f \\u043e\\u0442 \\u043f\\u043e\\u0441\\u0435\\u0449\\u0435\\u043d\\u0438\\u044f \\u043c\\u0430\\u0433\\u0430\\u0437\\u0438\\u043d\\u0430 \\u043f\\u043e\\u043b\\u043e\\u0436\\u0438\\u0442\\u0435\\u043b\\u044c\\u043d\\u044b\\u0435 \\u0442\\u0430\\u043a \\u043a\\u0430\\u043a \\u043a\\u0430\\u0447\\u0435\\u0441\\u0442\\u0432\\u043e \\u043f\\u0440\\u043e\\u0434\\u0443\\u043a\\u0442\\u044b \\u043d\\u0430\\u043c\\u043d\\u043e\\u0433\\u043e \\u043b\\u0443\\u0447\\u0448\\u0435 \\u0447\\u0435\\u043c \\u0432. \\u0412 \\u0446\\u0435\\u043b\\u043e\\u043c \\u043c\\u0435\\u0441\\u0442\\u043e \\u043f\\u0440\\u0438\\u043b\\u0438\\u0447\\u043d\\u043e\\u0435. \\u041e\\u0447\\u0435\\u043d\\u044c \\u0431\\u043e\\u043b\\u044c\\u0448\\u043e\\u0439 \\u0430\\u0441\\u0441\\u043e\\u0440\\u0442\\u0438\\u043c\\u0435\\u043d\\u0442. \\u0424\\u0440\\u0443\\u043a\\u0442\\u044b \\u0438 \\u043e\\u0432\\u043e\\u0449\\u0438 \\u0435\\u0441\\u0442\\u044c \\u043d\\u0430 \\u043b\\u044e\\u0431\\u043e\\u0439 \\u0432\\u043a\\u0443\\u0441. \\u041e\\u0441\\u043e\\u0431\\u0435\\u043d\\u043d\\u043e \\u043f\\u043e\\u043d\\u0440\\u0430\\u0432\\u0438\\u043b\\u0438\\u0441\\u044c \\u0430\\u0440\\u0431\\u0443\\u0437\\u044b \\u043e\\u0441\\u043e\\u0431\\u0435\\u043d\\u043d\\u043e \\u0430\\u0431\\u0440\\u0438\\u043a\\u043e\\u0441\\u043e\\u0432\\u044b\\u0439. \\u0412\\u0441\\u0435\\u0433\\u0434\\u0430 \\u0432 \\u043d\\u0430\\u043b\\u0438\\u0447\\u0438\\u0438 \\u0440\\u0430\\u0437\\u043d\\u044b\\u0435 \\u0432\\u0438\\u0434\\u044b \\u0430\\u0440\\u0431\\u0443\\u0437\\u0430 \\u044f\\u0431\\u043b\\u043e\\u043a\\u0438 \\u0447\\u0435\\u0440\\u0451\\u043c\\u0443\\u0445\\u0430 \\u0433\\u0440\\u0443\\u0448\\u0438 \\u0440\\u043e\\u0437\\u0430 \\u0433\\u043e\\u0440\\u0442\\u0435\\u043d\\u0437\\u0438\\u044f \\u0438 \\u043d\\u0435\\u0441\\u043a\\u043e\\u043b\\u044c\\u043a\\u043e \\u0434\\u0440\\u0443\\u0433\\u0438\\u0445. \\u0423 \\u043c\\u0435\\u043d\\u044f \\u043d\\u0435\\u0441\\u043a\\u043e\\u043b\\u044c\\u043a\\u043e \\u0440\\u0430\\u0437 \\u0441\\u043b\\u0443\\u0447\\u0430\\u043b\\u043e\\u0441\\u044c \\u0441\\u0431\\u043e\\u0439 \\u043f\\u0440\\u0438 \\u043e\\u0442\\u043a\\u0440\\u044b\\u0442\\u0438\\u0438 \\u043c\\u0430\\u0433\\u0430\\u0437\\u0438\\u043d\\u0430 \\u043d\\u043e \\u044d\\u0442\\u043e \\u043d\\u0435 \\u0432\\u0441\\u0435\\u0433\\u0434\\u0430 \\u0441\\u0432\\u044f\\u0437\\u0430\\u043d\\u043e \\u0441 \\u043d\\u0435\\u043a\\u0430\\u0447\\u0435\\u0441\\u0442\\u0432\\u0435\\u043d\\u043d\\u044b\\u043c \\u0442\\u043e\\u0432\\u0430\\u0440\\u043e\\u043c. \\u0412 \\u043e\\u0441\\u043d\\u043e\\u0432\\u043d\\u043e\\u043c \\u044d\\u0442\\u043e \\u0441\\u0432\\u044f\\u0437\\u0430\\u043d\\u043e \\u0441\\u043e \\u0441\\u043b\\u043e\\u0436\\u043d\\u044b\\u043c\\u0438 \\u0442\\u043e\\u0440\\u0433\\u043e\\u0432\\u044b\\u043c\\u0438 \\u043c\\u0435\\u0441\\u0442\\u0430\\u043c\\u0438 \\u0438 \\u0431\\u043e\\u043b\\u044c\\u0448\\u0438\\u043c\\u0438 \\u043f\\u0440\\u043e\\u0445\\u043e\\u0434\\u0430\\u043c\\u0438. \\u0411\\u044b\\u0432\\u0430\\u044e\\u0442 \\u043d\\u0430\\u043a\\u043b\\u0430\\u0434\\u043a\\u0438 \\u0441 \\u0430\\u043a\\u0446\\u0438\\u0435\\u0439 \\u0438\\u043b\\u0438 \\u043d\\u0430 \\u043f\\u043e\\u043a\\u0443\\u043f\\u043a\\u0443 \\u0431\\u043e\\u043b\\u0435\\u0435 \\u0434\\u043e\\u0440\\u043e\\u0433\\u0438\\u0445 \\u043f\\u043e\\u0437\\u0438\\u0446\\u0438\\u0439. \\u041d\\u043e \\u044f \\u0431\\u044b \\u043d\\u0435 \\u0440\\u0435\\u043a\\u043e\\u043c\\u0435\\u043d\\u0434\\u043e\\u0432\\u0430\\u043b \\u0442\\u0443\\u0434\\u0430 \\u0445\\u043e\\u0434\\u0438\\u0442\\u044c. \\u0415\\u0441\\u0442\\u044c \\u043e\\u0442\\u0434\\u0435\\u043b \\u0433\\u0434\\u0435 \\u043c\\u043e\\u0436\\u043d\\u043e \\u043a\\u0443\\u043f\\u0438\\u0442\\u044c \\u0442\\u043e\\u0432\\u0430\\u0440. \\u0412 \\u044d\\u0442\\u043e\\u043c \\u0433\\u043e\\u0434\\u0443 \\u0431\\u044b\\u043b\\u0430 \\u043f\\u0440\\u043e\\u0435\\u0437\\u0434\\u043e\\u043c \\u0432 \\u0440\\u043e\\u0441\\u0442\\u043e\\u0432\\u0435-\\u043d\\u0430-\\u0434\\u043e\\u043d\\u0443. \\u0417\\u0430\\u0433\\u043b\\u044f\\u043d\\u0443\\u043b\\u0430 \\u0432 \\u044d\\u0442\\u043e\\u0442 \\u043c\\u0430\\u0433\\u0430\\u0437\\u0438\\u043d \\u043a\\u0443\\u043f\\u0438\\u0442\\u044c \\u0432\\u043a\\u0443\\u0441\\u043d\\u044f\\u0448\\u043a\\u0438 \\u043a \\u043f\\u0435\\u043b\\u044c\\u043c\\u0435\\u043d\\u044f\\u043c. \\u0412 \\u043c\\u0430\\u0433\\u0430\\u0437\\u0438\\u043d\\u0447\\u0438\\u043a\\u0435 \\u0432\\u0441\\u0442\\u0440\\u0435\\u0442\\u0438\\u043b\\u0430 \\u043f\\u0440\\u043e\\u0434\\u0430\\u0432\\u0435\\u0446 \\u043e\\u043a\\u0441\\u0430\\u043d\\u0430. \\u0412\\u0435\\u0436\\u043b\\u0438\\u0432\\u0430\\u044f \\u0438 \\u043f\\u043e\\u0437\\u0438\\u0442\\u0438\\u0432\\u043d\\u0430\\u044f \\u0434\\u0435\\u0432\\u0443\\u0448\\u043a\\u0430. \\u041d\\u0430 \\u043a\\u0430\\u0441\\u0441\\u0435 \\u044f \\u0432\\u0437\\u044f\\u043b\\u0430 \\u0441 \\u0441\\u043e\\u0431\\u043e\\u0439 \\u043f\\u0430\\u0440\\u0443 \\u043f\\u0430\\u043a\\u0435\\u0442\\u043e\\u0432. \\u041a \\u0441\\u043e\\u0436\\u0430\\u043b\\u0435\\u043d\\u0438\\u044e \\u043d\\u0435 \\u043d\\u0430\\u0448\\u043b\\u0430 \\u043a\\u0430\\u0441\\u0441\\u0438\\u0440\\u0430 \\u0434\\u043b\\u044f \\u043f\\u043e\\u043a\\u0443\\u043f\\u0430\\u0442\\u0435\\u043b\\u044f. \\u041e\\u043d\\u0430 \\u043d\\u0435 \\u043f\\u0440\\u0435\\u0434\\u0441\\u0442\\u0430\\u0432\\u0438\\u043b\\u0430\\u0441\\u044c. \\u041d\\u043e \\u0432\\u0441\\u0451 \\u0436\\u0435 \\u043c\\u044b \\u043f\\u043e\\u0434\\u043e\\u0448\\u043b\\u0438 \\u043a \\u043a\\u0430\\u0441\\u0441\\u0443 \\u0438 \\u044f \\u0441\\u043f\\u0440\\u043e\\u0441\\u0438\\u043b\\u0430 \\u043a\\u043e\\u0433\\u0434\\u0430 \\u043e\\u043d\\u0430 \\u0431\\u0443\\u0434\\u0435\\u0442 \\u043e\\u0442\\u043a\\u0440\\u044b\\u0432\\u0430\\u0442\\u044c \\u043a\\u0430\\u0432\\u0435\\u0440\\u0437\\u043d\\u0443\\u044e \\u0434\\u0432\\u0435\\u0440\\u044c. \\u041e\\u043a\\u0441\\u0430\\u043d\\u0430 \\u0441\\u043a\\u0430\\u0437\\u0430\\u043b\\u0430 \\u0447\\u0442\\u043e \\u043c\\u043d\\u0435 \\u043d\\u0443\\u0436\\u0435\\u043d \\u0442\\u043e\\u043b\\u044c\\u043a\\u043e \\u043f\\u0430\\u043a\\u0435\\u0442 \\u0438 \\u0434\\u0430\\u043b\\u0430 \\u043f\\u0430\\u043a\\u0435\\u0442. \\u042f \\u043e\\u0442\\u043a\\u0440\\u044b\\u043b\\u0430 \\u043f\\u0430\\u043a\\u0435\\u0442 \\u043e\\u0442\\u043a\\u0440\\u044b\\u043b\\u0430 \\u0438 \\u043e\\u043a\\u0430\\u0437\\u0430\\u043b\\u043e\\u0441\\u044c \\u0447\\u0442\\u043e \\u043a\\u0430\\u0441\\u0441\\u0438\\u0440 \\u043d\\u0430\\u0445\\u043e\\u0434\\u0438\\u0442\\u0441\\u044f \\u0432 \\u043e\\u0442\\u0434\\u0435\\u043b\\u044c. \\u0425\\u043e\\u0440\\u043e\\u0448\\u0438\\u0439 \\u0432\\u044b\\u0431\\u043e\\u0440 \\u043f\\u0440\\u043e\\u0434\\u0443\\u043a\\u0442\\u043e\\u0432. \\u0412 \\u0432\\u044b\\u0445\\u043e\\u0434\\u043d\\u044b\\u0435 \\u0432\\u0441\\u0435\\u0433\\u0434\\u0430 \\u0432\\u044b\\u0431\\u043e\\u0440 \\u0434\\u043e\\u0441\\u0442\\u0430\\u0442\\u043e\\u0447\\u043d\\u043e \\u0431\\u043e\\u043b\\u044c\\u0448\\u043e\\u0439 \\u043d\\u043e \\u0446\\u0435\\u043d\\u044b \\u043d\\u0430 \\u043e\\u0432\\u043e\\u0449\\u0438 \\u0438 \\u0444\\u0440\\u0443\\u043a\\u0442\\u044b \\u043a\\u0443\\u0441\\u0430\\u044e\\u0442\\u0441\\u044f. \\u0427\\u0430\\u0441\\u0442\\u043e \\u043d\\u0435 \\u0432\\u0441\\u0435\\u0433\\u0434\\u0430 \\u0431\\u044b\\u0432\\u0430\\u0435\\u0442 \\u043d\\u0443\\u0436\\u043d\\u044b\\u0439 \\u0432\\u0430\\u043c \\u0442\\u043e\\u0432\\u0430\\u0440. \\u041d\\u0430 \\u043f\\u0440\\u0438\\u043b\\u0430\\u0432\\u043a\\u0430\\u0445 \\u0432\\u0441\\u0435\\u0433\\u0434\\u0430 \\u0447\\u0438\\u0441\\u0442\\u043e \\u0438 \\u0441\\u0432\\u0435\\u0442\\u043b\\u043e. \\u041e\\u0447\\u0435\\u043d\\u044c \\u0445\\u043e\\u0440\\u043e\\u0448\\u043e \\u0441\\u0434\\u0435\\u043b\\u0430\\u043d \\u0441\\u0430\\u043d\\u0443\\u0437\\u0435\\u043b. \\u041c\\u043e\\u0436\\u043d\\u043e \\u043a\\u0443\\u043f\\u0438\\u0442\\u044c \\u0441\\u0432\\u0435\\u0436\\u0438\\u0435 \\u0444\\u0440\\u0443\\u043a\\u0442\\u044b \\u043a\\u043e\\u0442\\u043e\\u0440\\u044b\\u0435 \\u0435\\u0449\\u0435 \\u043d\\u0438\\u043a\\u0442\\u043e \\u043d\\u0435 \\u043e\\u0442\\u043c\\u0435\\u043d\\u044f\\u043b \\u0438 \\u0432 \\u0434\\u0430\\u043b\\u044c\\u043d\\u0435\\u0439\\u0448\\u0435\\u043c \\u043c\\u043e\\u0436\\u043d\\u043e \\u0432\\u044b\\u0431\\u0438\\u0440\\u0430\\u0442\\u044c \\u0438\\u0445 \\u043d\\u0430 \\u043c\\u0435\\u0441\\u0442\\u0435. \\u0410\\u0441\\u0441\\u043e\\u0440\\u0442\\u0438\\u043c\\u0435\\u043d\\u0442 \\u0434\\u043e\\u0432\\u043e\\u043b\\u044c\\u043d\\u043e \\u0431\\u043e\\u043b\\u044c\\u0448\\u043e\\u0439. \\u0415\\u0441\\u0442\\u044c \\u0442\\u043e\\u0432\\u0430\\u0440\\u044b \\u0441 \\u043d\\u0438\\u0437\\u043a\\u0438\\u043c \\u0446\\u0435\\u043d\\u043d\\u0438\\u043a\\u043e\\u043c \\u0438\\u043b\\u0438 \\u043d\\u0438\\u0436\\u0435 \\u0446\\u0435\\u043d. \\u0412\\u0441\\u0435\\u0433\\u0434\\u0430 \\u043c\\u043e\\u0436\\u043d\\u043e \\u043d\\u0430\\u0439\\u0442\\u0438 \\u0447\\u0442\\u043e-\\u0442\\u043e \\u043d\\u043e\\u0432\\u043e\\u0435. \\u0422\\u0430\\u043a\\u0436\\u0435 \\u043c\\u043e\\u0436\\u043d\\u043e \\u043f\\u0440\\u0438\\u043e\\u0431\\u0440\\u0435\\u0441\\u0442\\u0438 \\u043e\\u0432\\u043e\\u0449\\u0438 \\u043d\\u0430 \\u0433\\u0440\\u0438\\u043b\\u0435 \\u0438 \\u043a\\u043e\\u043b\\u0431\\u0430\\u0441\\u0443. \\u0426\\u0435\\u043d\\u044b \\u0437\\u0434\\u0435\\u0441\\u044c \\u043d\\u0438\\u0436\\u0435 \\u0447\\u0435\\u043c \\u043d\\u0430 \\u043c\\u043d\\u043e\\u0433\\u0438\\u0435 \\u0430\\u043d\\u0430\\u043b\\u043e\\u0433\\u0438\\u0447\\u043d\\u044b\\u0435 \\u043c\\u0430\\u0433\\u0430\\u0437\\u0438\\u043d\\u044b. \\u0427\\u0442\\u043e \\u043a\\u0430\\u0441\\u0430\\u0435\\u0442\\u0441\\u044f \\u0435\\u0434\\u044b \\u0442\\u043e \\u0432 \\u043c\\u0430\\u0433\\u0430\\u0437\\u0438\\u043d\\u0435 \\u0435\\u0441\\u0442\\u044c \\u0438 \\u0432\\u043a\\u0443\\u0441\\u043d\\u044b\\u0435 \\u0438 \\u043a\\u0430\\u0447\\u0435\\u0441\\u0442\\u0432\\u0435\\u043d\\u043d\\u044b\\u0435.\"\n        ],\n        \"semantic_type\": \"\",\n        \"description\": \"\"\n      }\n    },\n    {\n      \"column\": \"average_perplexity\",\n      \"properties\": {\n        \"dtype\": \"number\",\n        \"std\": 2.6767820773042286,\n        \"min\": 27.37643966674805,\n        \"max\": 33.96641540527344,\n        \"num_unique_values\": 5,\n        \"samples\": [\n          29.673904037475587,\n          32.817635726928714,\n          32.40573616027832\n        ],\n        \"semantic_type\": \"\",\n        \"description\": \"\"\n      }\n    },\n    {\n      \"column\": \"key_words\",\n      \"properties\": {\n        \"dtype\": \"string\",\n        \"num_unique_values\": 5,\n        \"samples\": [\n          \"\\u0446\\u0435\\u043d\\u0430, \\u043f\\u0435\\u0440\\u0441\\u043e\\u043d\\u0430\\u043b, \\u043e\\u0431\\u0441\\u043b\\u0443\\u0436\\u0438\\u0432\\u0430\\u043d\\u0438\\u0435, \\u043c\\u0435\\u0441\\u0442\\u043e, \\u043c\\u0435\\u043d\\u044e, \\u043a\\u0443\\u0445\\u043d\\u044f, \\u043a\\u0430\\u0444\\u0435, \\u0437\\u0430\\u0432\\u0435\\u0434\\u0435\\u043d\\u0438\\u0435, \\u0435\\u0434\\u0430, \\u0431\\u043b\\u044e\\u0434\\u043e, \\u0430\\u0442\\u043c\\u043e\\u0441\\u0444\\u0435\\u0440\\u0430\",\n          \"\\u0446\\u0435\\u043d\\u0430, \\u0442\\u043e\\u0432\\u0430\\u0440, \\u043f\\u0440\\u043e\\u0434\\u0443\\u043a\\u0442, \\u043f\\u0435\\u0440\\u0441\\u043e\\u043d\\u0430\\u043b, \\u043e\\u0447\\u0435\\u0440\\u0435\\u0434\\u044c, \\u043c\\u0430\\u0433\\u0430\\u0437\\u0438\\u043d, \\u043a\\u0430\\u0447\\u0435\\u0441\\u0442\\u0432\\u043e, \\u043a\\u0430\\u0441\\u0441\\u0430, \\u0432\\u044b\\u0431\\u043e\\u0440, \\u0430\\u0441\\u0441\\u043e\\u0440\\u0442\\u0438\\u043c\\u0435\\u043d\\u0442\",\n          \"\\u0446\\u0435\\u043d\\u0430, \\u0442\\u043e\\u0432\\u0430\\u0440, \\u043f\\u0440\\u043e\\u0434\\u0443\\u043a\\u0442, \\u043f\\u0435\\u0440\\u0441\\u043e\\u043d\\u0430\\u043b, \\u043c\\u0430\\u0433\\u0430\\u0437\\u0438\\u043d, \\u043a\\u0430\\u0441\\u0441\\u0430, \\u0432\\u044b\\u0431\\u043e\\u0440, \\u0430\\u0441\\u0441\\u043e\\u0440\\u0442\\u0438\\u043c\\u0435\\u043d\\u0442\"\n        ],\n        \"semantic_type\": \"\",\n        \"description\": \"\"\n      }\n    }\n  ]\n}"
            }
          },
          "metadata": {},
          "execution_count": 134
        }
      ]
    },
    {
      "cell_type": "code",
      "source": [
        "# Вычислим процент ключевых слов из списка, которые присутствуют в тексте отзыва\n",
        "def calculate_keyword_percentage(row):\n",
        "    text = row['combined_text'].lower()\n",
        "    keywords = row['key_words'].lower().split(', ')\n",
        "    keyword_count = sum(1 for keyword in keywords if keyword in text)\n",
        "    total_keywords = len(keywords)\n",
        "    return (keyword_count / total_keywords * 100) if total_keywords > 0 else 0\n",
        "\n",
        "grouped['keyword_percentage'] = grouped.apply(calculate_keyword_percentage, axis=1)"
      ],
      "metadata": {
        "id": "2BkJmrVarGO0"
      },
      "execution_count": null,
      "outputs": []
    },
    {
      "cell_type": "code",
      "source": [
        "grouped"
      ],
      "metadata": {
        "colab": {
          "base_uri": "https://localhost:8080/",
          "height": 206
        },
        "id": "RluDTORRrjmA",
        "outputId": "17aaae61-6b30-4560-c464-584645bcd0c9"
      },
      "execution_count": null,
      "outputs": [
        {
          "output_type": "execute_result",
          "data": {
            "text/plain": [
              "            category                                      combined_text  average_perplexity                                          key_words  keyword_percentage\n",
              "0          Гостиница  Останавливались семьей на сутки. Остановились ...           27.376440  этаж, место, вид, вода, гостиница, день, еда, ...           40.000000\n",
              "1               Кафе  Были с мужем проездом в г. В челябинск. Посети...           29.673904  цена, персонал, обслуживание, место, меню, кух...           63.636364\n",
              "2  Магазин продуктов  Были в магазине вчера купили кингстайл молочны...           32.405736  цена, товар, продукт, персонал, магазин, касса...           87.500000\n",
              "3           Ресторан  Еда. . На улице жара а в доме - жара. - были в...           33.966415  цена, ресторан, персонал, обслуживание, музыка...           46.153846\n",
              "4        Супермаркет  Я бы хотела поделиться отзывом об этом магазин...           32.817636  цена, товар, продукт, персонал, очередь, магаз...           70.000000"
            ],
            "text/html": [
              "\n",
              "  <div id=\"df-0fb9d1cd-3cb6-47ed-88c2-47cdcf43c551\" class=\"colab-df-container\">\n",
              "    <div>\n",
              "<style scoped>\n",
              "    .dataframe tbody tr th:only-of-type {\n",
              "        vertical-align: middle;\n",
              "    }\n",
              "\n",
              "    .dataframe tbody tr th {\n",
              "        vertical-align: top;\n",
              "    }\n",
              "\n",
              "    .dataframe thead th {\n",
              "        text-align: right;\n",
              "    }\n",
              "</style>\n",
              "<table border=\"1\" class=\"dataframe\">\n",
              "  <thead>\n",
              "    <tr style=\"text-align: right;\">\n",
              "      <th></th>\n",
              "      <th>category</th>\n",
              "      <th>combined_text</th>\n",
              "      <th>average_perplexity</th>\n",
              "      <th>key_words</th>\n",
              "      <th>keyword_percentage</th>\n",
              "    </tr>\n",
              "  </thead>\n",
              "  <tbody>\n",
              "    <tr>\n",
              "      <th>0</th>\n",
              "      <td>Гостиница</td>\n",
              "      <td>Останавливались семьей на сутки. Остановились ...</td>\n",
              "      <td>27.376440</td>\n",
              "      <td>этаж, место, вид, вода, гостиница, день, еда, ...</td>\n",
              "      <td>40.000000</td>\n",
              "    </tr>\n",
              "    <tr>\n",
              "      <th>1</th>\n",
              "      <td>Кафе</td>\n",
              "      <td>Были с мужем проездом в г. В челябинск. Посети...</td>\n",
              "      <td>29.673904</td>\n",
              "      <td>цена, персонал, обслуживание, место, меню, кух...</td>\n",
              "      <td>63.636364</td>\n",
              "    </tr>\n",
              "    <tr>\n",
              "      <th>2</th>\n",
              "      <td>Магазин продуктов</td>\n",
              "      <td>Были в магазине вчера купили кингстайл молочны...</td>\n",
              "      <td>32.405736</td>\n",
              "      <td>цена, товар, продукт, персонал, магазин, касса...</td>\n",
              "      <td>87.500000</td>\n",
              "    </tr>\n",
              "    <tr>\n",
              "      <th>3</th>\n",
              "      <td>Ресторан</td>\n",
              "      <td>Еда. . На улице жара а в доме - жара. - были в...</td>\n",
              "      <td>33.966415</td>\n",
              "      <td>цена, ресторан, персонал, обслуживание, музыка...</td>\n",
              "      <td>46.153846</td>\n",
              "    </tr>\n",
              "    <tr>\n",
              "      <th>4</th>\n",
              "      <td>Супермаркет</td>\n",
              "      <td>Я бы хотела поделиться отзывом об этом магазин...</td>\n",
              "      <td>32.817636</td>\n",
              "      <td>цена, товар, продукт, персонал, очередь, магаз...</td>\n",
              "      <td>70.000000</td>\n",
              "    </tr>\n",
              "  </tbody>\n",
              "</table>\n",
              "</div>\n",
              "    <div class=\"colab-df-buttons\">\n",
              "\n",
              "  <div class=\"colab-df-container\">\n",
              "    <button class=\"colab-df-convert\" onclick=\"convertToInteractive('df-0fb9d1cd-3cb6-47ed-88c2-47cdcf43c551')\"\n",
              "            title=\"Convert this dataframe to an interactive table.\"\n",
              "            style=\"display:none;\">\n",
              "\n",
              "  <svg xmlns=\"http://www.w3.org/2000/svg\" height=\"24px\" viewBox=\"0 -960 960 960\">\n",
              "    <path d=\"M120-120v-720h720v720H120Zm60-500h600v-160H180v160Zm220 220h160v-160H400v160Zm0 220h160v-160H400v160ZM180-400h160v-160H180v160Zm440 0h160v-160H620v160ZM180-180h160v-160H180v160Zm440 0h160v-160H620v160Z\"/>\n",
              "  </svg>\n",
              "    </button>\n",
              "\n",
              "  <style>\n",
              "    .colab-df-container {\n",
              "      display:flex;\n",
              "      gap: 12px;\n",
              "    }\n",
              "\n",
              "    .colab-df-convert {\n",
              "      background-color: #E8F0FE;\n",
              "      border: none;\n",
              "      border-radius: 50%;\n",
              "      cursor: pointer;\n",
              "      display: none;\n",
              "      fill: #1967D2;\n",
              "      height: 32px;\n",
              "      padding: 0 0 0 0;\n",
              "      width: 32px;\n",
              "    }\n",
              "\n",
              "    .colab-df-convert:hover {\n",
              "      background-color: #E2EBFA;\n",
              "      box-shadow: 0px 1px 2px rgba(60, 64, 67, 0.3), 0px 1px 3px 1px rgba(60, 64, 67, 0.15);\n",
              "      fill: #174EA6;\n",
              "    }\n",
              "\n",
              "    .colab-df-buttons div {\n",
              "      margin-bottom: 4px;\n",
              "    }\n",
              "\n",
              "    [theme=dark] .colab-df-convert {\n",
              "      background-color: #3B4455;\n",
              "      fill: #D2E3FC;\n",
              "    }\n",
              "\n",
              "    [theme=dark] .colab-df-convert:hover {\n",
              "      background-color: #434B5C;\n",
              "      box-shadow: 0px 1px 3px 1px rgba(0, 0, 0, 0.15);\n",
              "      filter: drop-shadow(0px 1px 2px rgba(0, 0, 0, 0.3));\n",
              "      fill: #FFFFFF;\n",
              "    }\n",
              "  </style>\n",
              "\n",
              "    <script>\n",
              "      const buttonEl =\n",
              "        document.querySelector('#df-0fb9d1cd-3cb6-47ed-88c2-47cdcf43c551 button.colab-df-convert');\n",
              "      buttonEl.style.display =\n",
              "        google.colab.kernel.accessAllowed ? 'block' : 'none';\n",
              "\n",
              "      async function convertToInteractive(key) {\n",
              "        const element = document.querySelector('#df-0fb9d1cd-3cb6-47ed-88c2-47cdcf43c551');\n",
              "        const dataTable =\n",
              "          await google.colab.kernel.invokeFunction('convertToInteractive',\n",
              "                                                    [key], {});\n",
              "        if (!dataTable) return;\n",
              "\n",
              "        const docLinkHtml = 'Like what you see? Visit the ' +\n",
              "          '<a target=\"_blank\" href=https://colab.research.google.com/notebooks/data_table.ipynb>data table notebook</a>'\n",
              "          + ' to learn more about interactive tables.';\n",
              "        element.innerHTML = '';\n",
              "        dataTable['output_type'] = 'display_data';\n",
              "        await google.colab.output.renderOutput(dataTable, element);\n",
              "        const docLink = document.createElement('div');\n",
              "        docLink.innerHTML = docLinkHtml;\n",
              "        element.appendChild(docLink);\n",
              "      }\n",
              "    </script>\n",
              "  </div>\n",
              "\n",
              "\n",
              "<div id=\"df-21b93e2b-d271-41b3-b9b8-a7ac7fee3185\">\n",
              "  <button class=\"colab-df-quickchart\" onclick=\"quickchart('df-21b93e2b-d271-41b3-b9b8-a7ac7fee3185')\"\n",
              "            title=\"Suggest charts\"\n",
              "            style=\"display:none;\">\n",
              "\n",
              "<svg xmlns=\"http://www.w3.org/2000/svg\" height=\"24px\"viewBox=\"0 0 24 24\"\n",
              "     width=\"24px\">\n",
              "    <g>\n",
              "        <path d=\"M19 3H5c-1.1 0-2 .9-2 2v14c0 1.1.9 2 2 2h14c1.1 0 2-.9 2-2V5c0-1.1-.9-2-2-2zM9 17H7v-7h2v7zm4 0h-2V7h2v10zm4 0h-2v-4h2v4z\"/>\n",
              "    </g>\n",
              "</svg>\n",
              "  </button>\n",
              "\n",
              "<style>\n",
              "  .colab-df-quickchart {\n",
              "      --bg-color: #E8F0FE;\n",
              "      --fill-color: #1967D2;\n",
              "      --hover-bg-color: #E2EBFA;\n",
              "      --hover-fill-color: #174EA6;\n",
              "      --disabled-fill-color: #AAA;\n",
              "      --disabled-bg-color: #DDD;\n",
              "  }\n",
              "\n",
              "  [theme=dark] .colab-df-quickchart {\n",
              "      --bg-color: #3B4455;\n",
              "      --fill-color: #D2E3FC;\n",
              "      --hover-bg-color: #434B5C;\n",
              "      --hover-fill-color: #FFFFFF;\n",
              "      --disabled-bg-color: #3B4455;\n",
              "      --disabled-fill-color: #666;\n",
              "  }\n",
              "\n",
              "  .colab-df-quickchart {\n",
              "    background-color: var(--bg-color);\n",
              "    border: none;\n",
              "    border-radius: 50%;\n",
              "    cursor: pointer;\n",
              "    display: none;\n",
              "    fill: var(--fill-color);\n",
              "    height: 32px;\n",
              "    padding: 0;\n",
              "    width: 32px;\n",
              "  }\n",
              "\n",
              "  .colab-df-quickchart:hover {\n",
              "    background-color: var(--hover-bg-color);\n",
              "    box-shadow: 0 1px 2px rgba(60, 64, 67, 0.3), 0 1px 3px 1px rgba(60, 64, 67, 0.15);\n",
              "    fill: var(--button-hover-fill-color);\n",
              "  }\n",
              "\n",
              "  .colab-df-quickchart-complete:disabled,\n",
              "  .colab-df-quickchart-complete:disabled:hover {\n",
              "    background-color: var(--disabled-bg-color);\n",
              "    fill: var(--disabled-fill-color);\n",
              "    box-shadow: none;\n",
              "  }\n",
              "\n",
              "  .colab-df-spinner {\n",
              "    border: 2px solid var(--fill-color);\n",
              "    border-color: transparent;\n",
              "    border-bottom-color: var(--fill-color);\n",
              "    animation:\n",
              "      spin 1s steps(1) infinite;\n",
              "  }\n",
              "\n",
              "  @keyframes spin {\n",
              "    0% {\n",
              "      border-color: transparent;\n",
              "      border-bottom-color: var(--fill-color);\n",
              "      border-left-color: var(--fill-color);\n",
              "    }\n",
              "    20% {\n",
              "      border-color: transparent;\n",
              "      border-left-color: var(--fill-color);\n",
              "      border-top-color: var(--fill-color);\n",
              "    }\n",
              "    30% {\n",
              "      border-color: transparent;\n",
              "      border-left-color: var(--fill-color);\n",
              "      border-top-color: var(--fill-color);\n",
              "      border-right-color: var(--fill-color);\n",
              "    }\n",
              "    40% {\n",
              "      border-color: transparent;\n",
              "      border-right-color: var(--fill-color);\n",
              "      border-top-color: var(--fill-color);\n",
              "    }\n",
              "    60% {\n",
              "      border-color: transparent;\n",
              "      border-right-color: var(--fill-color);\n",
              "    }\n",
              "    80% {\n",
              "      border-color: transparent;\n",
              "      border-right-color: var(--fill-color);\n",
              "      border-bottom-color: var(--fill-color);\n",
              "    }\n",
              "    90% {\n",
              "      border-color: transparent;\n",
              "      border-bottom-color: var(--fill-color);\n",
              "    }\n",
              "  }\n",
              "</style>\n",
              "\n",
              "  <script>\n",
              "    async function quickchart(key) {\n",
              "      const quickchartButtonEl =\n",
              "        document.querySelector('#' + key + ' button');\n",
              "      quickchartButtonEl.disabled = true;  // To prevent multiple clicks.\n",
              "      quickchartButtonEl.classList.add('colab-df-spinner');\n",
              "      try {\n",
              "        const charts = await google.colab.kernel.invokeFunction(\n",
              "            'suggestCharts', [key], {});\n",
              "      } catch (error) {\n",
              "        console.error('Error during call to suggestCharts:', error);\n",
              "      }\n",
              "      quickchartButtonEl.classList.remove('colab-df-spinner');\n",
              "      quickchartButtonEl.classList.add('colab-df-quickchart-complete');\n",
              "    }\n",
              "    (() => {\n",
              "      let quickchartButtonEl =\n",
              "        document.querySelector('#df-21b93e2b-d271-41b3-b9b8-a7ac7fee3185 button');\n",
              "      quickchartButtonEl.style.display =\n",
              "        google.colab.kernel.accessAllowed ? 'block' : 'none';\n",
              "    })();\n",
              "  </script>\n",
              "</div>\n",
              "    </div>\n",
              "  </div>\n"
            ],
            "application/vnd.google.colaboratory.intrinsic+json": {
              "type": "dataframe",
              "variable_name": "grouped",
              "summary": "{\n  \"name\": \"grouped\",\n  \"rows\": 5,\n  \"fields\": [\n    {\n      \"column\": \"category\",\n      \"properties\": {\n        \"dtype\": \"string\",\n        \"num_unique_values\": 5,\n        \"samples\": [\n          \"\\u041a\\u0430\\u0444\\u0435\",\n          \"\\u0421\\u0443\\u043f\\u0435\\u0440\\u043c\\u0430\\u0440\\u043a\\u0435\\u0442\",\n          \"\\u041c\\u0430\\u0433\\u0430\\u0437\\u0438\\u043d \\u043f\\u0440\\u043e\\u0434\\u0443\\u043a\\u0442\\u043e\\u0432\"\n        ],\n        \"semantic_type\": \"\",\n        \"description\": \"\"\n      }\n    },\n    {\n      \"column\": \"combined_text\",\n      \"properties\": {\n        \"dtype\": \"string\",\n        \"num_unique_values\": 5,\n        \"samples\": [\n          \"\\u0411\\u044b\\u043b\\u0438 \\u0441 \\u043c\\u0443\\u0436\\u0435\\u043c \\u043f\\u0440\\u043e\\u0435\\u0437\\u0434\\u043e\\u043c \\u0432 \\u0433. \\u0412 \\u0447\\u0435\\u043b\\u044f\\u0431\\u0438\\u043d\\u0441\\u043a. \\u041f\\u043e\\u0441\\u0435\\u0442\\u0438\\u043b\\u0438 \\u043a\\u0430\\u0444\\u0435 \\u0443\\u0440\\u0430\\u043b \\u0438 \\u0432\\u044b\\u0431\\u0440\\u0430\\u043b\\u0438 \\u044d\\u0442\\u043e \\u043a\\u0430\\u0444\\u0435 \\u043f\\u043e \\u043e\\u0442\\u0437\\u044b\\u0432\\u0430\\u043c. \\u0417\\u0430\\u043a\\u0430\\u0437\\u0430\\u043b\\u0438 \\u043f\\u043b\\u043e\\u0432. \\u041f\\u043b\\u043e\\u0432 \\u0431\\u044b\\u043b \\u0438\\u0437 \\u0433\\u043e\\u0432\\u044f\\u0434\\u0438\\u043d\\u044b \\u0438 \\u0441\\u0432\\u0438\\u043d\\u0438\\u043d\\u044b. \\u041d\\u043e \\u043e\\u043d \\u0431\\u044b\\u043b \\u043d\\u0435 \\u0442\\u043e\\u0442 \\u043a \\u043a\\u043e\\u0442\\u043e\\u0440\\u043e\\u043c\\u0443 \\u043f\\u0440\\u0438\\u0432\\u044b\\u043a\\u043b\\u0438 \\u0441 \\u043c\\u043e\\u043c\\u0435\\u043d\\u0442\\u0430 \\u043e\\u0442\\u043a\\u0440\\u044b\\u0442\\u0438\\u044f. \\u041d\\u0430\\u043c \\u0434\\u0430\\u043b\\u0438 \\u043f\\u043b\\u043e\\u0432 \\u043d\\u0430 \\u0447\\u0442\\u043e \\u0430\\u0434\\u043c\\u0438\\u043d\\u0438\\u0441\\u0442\\u0440\\u0430\\u0442\\u043e\\u0440 \\u0441\\u043a\\u0430\\u0437\\u0430\\u043b\\u0430 \\u0447\\u0442\\u043e \\u0442\\u0430\\u043a\\u043e\\u0433\\u043e \\u043d\\u0435\\u0442 \\u043c\\u043e\\u0436\\u0435\\u0442 \\u043f\\u0440\\u043e\\u0441\\u0442\\u043e \\u043f\\u043b\\u043e\\u0432 \\u043d\\u0435 \\u0431\\u0440\\u0430\\u043b\\u0438 \\u043d\\u0435 \\u043f\\u0440\\u0435\\u0434\\u0443\\u043f\\u0440\\u0435\\u0434\\u0438\\u043b\\u0438. \\u0423 \\u043d\\u0430\\u0441 \\u0431\\u044b\\u043b \\u0441\\u0432\\u043e\\u0439 \\u043c\\u0430\\u043b\\u0435\\u043d\\u044c\\u043a\\u0438\\u0439 \\u0440\\u0435\\u0431\\u0435\\u043d\\u043e\\u043a \\u043a\\u043e\\u0442\\u043e\\u0440\\u043e\\u043c\\u0443 \\u043e\\u0447\\u0435\\u043d\\u044c \\u043d\\u0435 \\u0445\\u0432\\u0430\\u0442\\u0430\\u043b\\u043e \\u043c\\u044f\\u0441\\u0430 \\u043d\\u043e \\u043d\\u0430\\u0448 \\u043e\\u0444\\u0438\\u0446\\u0438\\u0430\\u043d\\u0442 \\u0441\\u043a\\u0430\\u0437\\u0430\\u043b \\u0447\\u0442\\u043e \\u043e\\u043d \\u043d\\u0435 \\u0435\\u0441\\u0442 \\u043f\\u043b\\u043e\\u0432 \\u0441 \\u0433\\u043e\\u0432\\u044f\\u0434\\u0438\\u043d\\u043e\\u0439. \\u041c\\u044b \\u043f\\u043e\\u043f\\u0440\\u043e\\u0441\\u0438\\u043b\\u0438 \\u0435\\u0433\\u043e \\u0432\\u0437\\u044f\\u0442\\u044c \\u043d\\u0430\\u043c \\u0431\\u044b\\u043b\\u043e \\u0441\\u043a\\u0430\\u0437\\u0430\\u043d\\u043e \\u0447\\u0442\\u043e \\u0442\\u0430\\u043a\\u043e\\u0439 \\u043d\\u0435 \\u0431\\u044b\\u0432\\u0430\\u0435\\u0442. \\u041d\\u0430 \\u043d\\u0430\\u0448\\u0443 \\u043f\\u0440\\u043e\\u0441\\u044c\\u0431\\u0443 \\u043f\\u0440\\u0438\\u043d\\u0435\\u0441\\u0442\\u0438. \\u0411\\u044b\\u043b \\u043f\\u0440\\u043e\\u0435\\u0437\\u0434\\u043e\\u043c \\u0432 \\u043c\\u043e\\u0441\\u043a\\u0432\\u0435 \\u043f\\u043e\\u0441\\u0435\\u0442\\u0438\\u043b\\u0438 \\u044d\\u0442\\u043e \\u0437\\u0430\\u0432\\u0435\\u0434\\u0435\\u043d\\u0438\\u0435. \\u041c\\u044b \\u0441 \\u0441\\u0443\\u043f\\u0440\\u0443\\u0433\\u043e\\u0439 \\u0438 \\u0442\\u0440\\u0435\\u043c\\u044f \\u0434\\u0435\\u0442\\u044c\\u043c\\u0438. \\u041e\\u0447\\u0435\\u043d\\u044c \\u043f\\u043e\\u043d\\u0440\\u0430\\u0432\\u0438\\u043b\\u0441\\u044f \\u0438\\u043d\\u0442\\u0435\\u0440\\u044c\\u0435\\u0440 \\u043e\\u0431\\u0441\\u0442\\u0430\\u043d\\u043e\\u0432\\u043a\\u0430 \\u0438 \\u043e\\u0431\\u0441\\u0442\\u0430\\u043d\\u043e\\u0432\\u043a\\u0430 \\u0437\\u0430\\u0432\\u0435\\u0434\\u0435\\u043d\\u0438\\u044f \\u0432\\u0441\\u0435 \\u043e\\u0447\\u0435\\u043d\\u044c \\u043a\\u0440\\u0430\\u0441\\u0438\\u0432\\u043e \\u0438 \\u043a\\u0430\\u0447\\u0435\\u0441\\u0442\\u0432\\u0435\\u043d\\u043d\\u043e \\u0441\\u0435\\u0440\\u0432\\u0438\\u0440\\u043e\\u0432\\u0430\\u043d\\u043d\\u044b\\u0435 \\u0441\\u0442\\u043e\\u043b\\u044b. \\u0412\\u0441\\u0435 \\u0431\\u043b\\u044e\\u0434\\u0430 \\u043e\\u0447\\u0435\\u043d\\u044c \\u0432\\u043a\\u0443\\u0441\\u043d\\u044b\\u0435 \\u043a\\u0430\\u043a \\u0434\\u043e\\u043c\\u0430\\u0448\\u043d\\u0438\\u0435 \\u0442\\u0430\\u043a \\u0438 \\u043f\\u0440\\u0438\\u0432\\u044b\\u0447\\u043d\\u044b\\u0435 \\u0434\\u043b\\u044f \\u043d\\u0430\\u0441 \\u0441\\u0443\\u043f\\u044b \\u0441\\u0430\\u043b\\u0430\\u0442\\u044b. \\u041f\\u043e\\u0440\\u0446\\u0438\\u0438 \\u0434\\u043e\\u0432\\u043e\\u043b\\u044c\\u043d\\u043e \\u0431\\u043e\\u043b\\u044c\\u0448\\u0438\\u0435 \\u043e\\u0447\\u0435\\u043d\\u044c \\u0441\\u044b\\u0442\\u043d\\u043e \\u0438 \\u0432\\u043a\\u0443\\u0441\\u043d\\u043e. \\u0418\\u0437 \\u043c\\u0438\\u043d\\u0443\\u0441\\u043e\\u0432 \\u043f\\u0440\\u0438 \\u0432\\u044b\\u0431\\u043e\\u0440\\u0435 \\u0431\\u043b\\u044e\\u0434\\u0430 \\u043d\\u0443\\u0436\\u043d\\u043e \\u0443\\u0447\\u0438\\u0442\\u044b\\u0432\\u0430\\u0442\\u044c \\u0447\\u0442\\u043e \\u0443 \\u043d\\u0430\\u0441 \\u0431\\u044b\\u043b \\u043e\\u0434\\u0438\\u043d \\u0431\\u043e\\u043b\\u044c\\u0448\\u043e\\u0439 \\u0441\\u0442\\u043e\\u043b \\u0438 \\u043c\\u0430\\u043b\\u0435\\u043d\\u044c\\u043a\\u0438\\u0439 \\u0440\\u0435\\u0431\\u0435\\u043d\\u043e\\u043a \\u0441 \\u043c\\u0430\\u043b\\u0435\\u043d\\u044c\\u043a\\u0438\\u043c \\u0441\\u0442\\u043e\\u043b\\u0438\\u043a\\u043e\\u043c. \\u0411\\u044b\\u043b\\u043e \\u043a\\u0440\\u0430\\u0439\\u043d\\u0435 \\u043d\\u0435\\u043a\\u043e\\u043c\\u0444\\u043e\\u0440\\u0442\\u043d\\u043e \\u0432 \\u0434\\u0435\\u0442\\u0441\\u043a\\u043e\\u0439 \\u043a\\u043e\\u043c\\u043d\\u0430\\u0442\\u0435 \\u043d\\u0430 \\u0443\\u043b\\u0438\\u0446\\u0435 \\u0442\\u0435\\u043c \\u043d\\u0435 \\u043c\\u0435\\u043d\\u0435\\u0435 \\u0440\\u0435\\u0431\\u0451\\u043d\\u043e\\u043a \\u043d\\u0430\\u0447\\u0430\\u043b \\u043a\\u0443\\u0448\\u0430\\u0442\\u044c \\u0438 \\u0441\\u0440\\u0430\\u0437\\u0443 \\u043d\\u0430\\u0447\\u0430\\u043b\\u0438 \\u043a\\u0443\\u0448\\u0430\\u0442\\u044c. \\u041f\\u043e \\u043f\\u0440\\u0438\\u0445\\u043e\\u0434\\u0443 \\u043a \\u043d\\u0430\\u043c \\u043e\\u0444\\u0438\\u0446\\u0438\\u0430\\u043d\\u0442 \\u0431\\u044b\\u043b \\u0443\\u0436\\u0435. \\u0415\\u0441\\u043b\\u0438 \\u0445\\u043e\\u0442\\u0438\\u0442\\u0435 \\u0447\\u0442\\u043e\\u0431\\u044b \\u0432\\u0430\\u0441 \\u043d\\u0430\\u043a\\u043e\\u0440\\u043c\\u0438\\u043b\\u0438 \\u0440\\u0430\\u0437\\u043d\\u043e\\u043e\\u0431\\u0440\\u0430\\u0437\\u043d\\u043e \\u0438 \\u0432\\u043a\\u0443\\u0441\\u043d\\u043e - \\u044d\\u0442\\u043e \\u043d\\u0435 \\u0441\\u044e\\u0434\\u0430. \\u041c\\u0435\\u043d\\u044e. \\u041f\\u0435\\u0440\\u0432\\u043e\\u0435. \\u0428\\u0430\\u0448\\u043b\\u044b\\u043a \\u043e\\u0432\\u043e\\u0449\\u0438 \\u0438 \\u043f\\u043e\\u043c\\u0438\\u0434\\u043e\\u0440\\u044b - \\u0442\\u043e\\u043b\\u044c\\u043a\\u043e \\u0432 \\u043e\\u0434\\u043d\\u043e\\u043c \\u043c\\u0435\\u0441\\u0442\\u0435. \\u0412\\u0442\\u043e\\u0440\\u043e\\u0435. \\u0421\\u0443\\u043f\\u044b \\u0438\\u0437 \\u0431\\u0430\\u0440\\u0430\\u043d\\u0438\\u043d\\u044b \\u043e\\u0432\\u043e\\u0449\\u0438 \\u0432 \\u0441\\u0443\\u043f\\u0435 \\u0438 \\u043f\\u044e\\u0440\\u0435 \\u0438\\u0437 \\u043a\\u0430\\u0440\\u0442\\u043e\\u0448\\u043a\\u0438 \\u0444\\u0440\\u0438. \\u0412\\u0441\\u0435 - \\u043f\\u043e\\u0440\\u0446\\u0438\\u044f \\u0431\\u043e\\u043b\\u044c\\u0448\\u0430\\u044f. \\u041f\\u0435\\u043b\\u044c\\u043c\\u0435\\u043d\\u0438 \\u0438\\u0437 \\u043a\\u0443\\u0440\\u0438\\u043d\\u043e\\u0439 \\u043f\\u0435\\u0447\\u0435\\u043d\\u0438 \\u043e\\u0447\\u0435\\u043d\\u044c \\u043d\\u0435 \\u043f\\u043b\\u043e\\u0445\\u0438\\u0435. \\u0411\\u0443\\u043b\\u044c\\u043e\\u043d \\u043a\\u0443\\u0440\\u0438\\u043d\\u044b\\u0439 \\u0441 \\u0441\\u044b\\u0440\\u043e\\u043c - \\u0442\\u043e\\u0436\\u0435. \\u041a\\u043e\\u0442\\u043b\\u0435\\u0442\\u043a\\u0438 \\u043a\\u043e\\u0442\\u043b\\u0435\\u0442\\u044b \\u0441 \\u0433\\u043e\\u0432\\u044f\\u0434\\u0438\\u043d\\u043e\\u0439 - \\u043e\\u0447\\u0435\\u043d\\u044c \\u0432\\u043a\\u0443\\u0441\\u043d\\u044b\\u0435. \\u041b\\u044e\\u043b\\u044f \\u043a\\u0435\\u0431\\u0430\\u0431 - \\u043e\\u0433\\u043e\\u043d\\u044c. \\u041d\\u043e \\u0432\\u043e\\u0442 \\u043b\\u044e\\u043b\\u044e \\u0441 \\u043a\\u0443\\u0440\\u0438\\u0446\\u0435\\u0439 - \\u0440\\u0430\\u0437\\u043e\\u0447\\u0430\\u0440\\u043e\\u0432\\u0430\\u043b\\u043e. \\u041a\\u0430\\u0440\\u0442\\u043e\\u0448\\u043a\\u0430 \\u0444\\u0440\\u0438 \\u043d\\u0430. \\u0421\\u0435\\u0433\\u043e\\u0434\\u043d\\u044f \\u0431\\u044b\\u043b \\u0441\\u0432\\u0438\\u0434\\u0435\\u0442\\u0435\\u043b\\u0435\\u043c \\u044d\\u0442\\u043e\\u0439 \\u0441\\u0432\\u0430\\u0434\\u044c\\u0431\\u044b. \\u042d\\u0442\\u043e \\u0437\\u0430\\u0432\\u0435\\u0434\\u0435\\u043d\\u0438\\u0435 - \\u043e\\u0433\\u043e\\u043d\\u044c. \\u041a\\u043e\\u0433\\u0434\\u0430 \\u0432 \\u043c\\u0430\\u0435 \\u044f \\u0431\\u044b\\u043b \\u043d\\u0430 \\u043c\\u0430\\u0441\\u043b\\u0435\\u043d\\u0438\\u0446\\u0443 \\u0438 \\u0431\\u044b\\u043b \\u043d\\u0435 \\u043e\\u0434\\u0438\\u043d \\u0440\\u0430\\u0437 \\u0442\\u043e \\u0432\\u0441\\u0435\\u0433\\u0434\\u0430 \\u0437\\u0430\\u0445\\u0430\\u0436\\u0438\\u0432\\u0430\\u043b \\u0441\\u044e\\u0434\\u0430 \\u0441 \\u0436\\u0435\\u043d\\u043e\\u0439 \\u0438 \\u0434\\u0440\\u0443\\u0437\\u044c\\u044f\\u043c\\u0438. \\u0422\\u0430\\u043c \\u043f\\u0440\\u0435\\u043a\\u0440\\u0430\\u0441\\u043d\\u043e \\u0432\\u0441\\u0451 \\u043d\\u0430\\u0447\\u0438\\u043d\\u0430\\u044f \\u043e\\u0442 \\u043f\\u043e\\u0434\\u0430\\u0447\\u0438 \\u0431\\u043b\\u044e\\u0434 \\u0438 \\u0437\\u0430\\u043a\\u0430\\u043d\\u0447\\u0438\\u0432\\u0430\\u044f \\u043e\\u0431\\u0441\\u043b\\u0443\\u0436\\u0438\\u0432\\u0430\\u043d\\u0438\\u0435\\u043c. \\u041a\\u0443\\u0445\\u043d\\u044f \\u0448\\u0438\\u043a\\u0430\\u0440\\u043d\\u0430 \\u0432\\u0441\\u0435 \\u0431\\u043b\\u044e\\u0434\\u0430 \\u043a\\u043e\\u0442\\u043e\\u0440\\u044b\\u0435 \\u044f \\u043f\\u0440\\u043e\\u0431\\u043e\\u0432\\u0430\\u043b \\u0432\\u043a\\u0443\\u0441\\u043d\\u044b \\u0438 \\u043a\\u0440\\u0430\\u0441\\u0438\\u0432\\u043e \\u043e\\u0444\\u043e\\u0440\\u043c\\u043b\\u0435\\u043d\\u044b. \\u041f\\u043e \\u0441\\u0440\\u0430\\u0432\\u043d\\u0435\\u043d\\u0438\\u044e \\u0441 \\u0434\\u0440\\u0443\\u0433\\u0438\\u043c\\u0438 \\u043c\\u0435\\u0441\\u0442\\u0430\\u043c\\u0438 \\u0432 \\u0434\\u0440\\u0443\\u0433\\u0438\\u0445 \\u043c\\u0435\\u0441\\u0442\\u0430\\u0445 \\u0432 \\u043c\\u0435\\u043d\\u044e \\u0435\\u0441\\u0442\\u044c \\u0447\\u0442\\u043e \\u0442\\u043e \\u043d\\u0435\\u043f\\u043e\\u043d\\u044f\\u0442\\u043d\\u043e\\u0435 \\u0438 \\u043d\\u0435\\u043f\\u043e\\u043d\\u044f\\u0442\\u043d\\u043e\\u0435 \\u044f \\u0442\\u0430\\u043c \\u0431\\u044b\\u043b \\u0432\\u043f\\u0435\\u0440\\u0432\\u044b\\u0435 \\u0438 \\u044d\\u0442\\u043e \\u0431\\u044b\\u043b\\u043e \\u043d\\u0435\\u043f\\u0440\\u0438\\u044f\\u0442\\u043d\\u043e \\u0438 \\u043e\\u0433\\u043e\\u0440\\u0447\\u0438\\u043b\\u043e. \\u0415\\u0434\\u0430 \\u043a\\u043e\\u043d\\u0435\\u0447\\u043d\\u043e \\u0445\\u043e\\u0440\\u043e\\u0448\\u0430 \\u043d\\u043e \\u043d\\u0435 \\u0441\\u043a\\u0430\\u0436\\u0443 \\u0447\\u0442\\u043e \\u043e\\u043d\\u0430 \\u043d\\u0430\\u0441\\u0442\\u043e\\u043b\\u044c\\u043a\\u043e \\u0440\\u0430\\u0437\\u043d\\u043e\\u043e\\u0431\\u0440\\u0430\\u0437\\u043d\\u0430 \\u0432 \\u0435\\u0451 \\u043f\\u043e\\u0440\\u0446\\u0438\\u0438. \\u041d\\u043e \\u044f. \\u0412 \\u043e\\u0441\\u043d\\u043e\\u0432\\u043d\\u043e\\u043c \\u044d\\u0442\\u043e \\u043a\\u0430\\u0444\\u0435 \\u043d\\u0430 \\u043f\\u0435\\u0440\\u0432\\u043e\\u043c \\u044d\\u0442\\u0430\\u0436\\u0435. \\u041c\\u044b \\u043e\\u0441\\u0442\\u0430\\u043d\\u0430\\u0432\\u043b\\u0438\\u0432\\u0430\\u043b\\u0438\\u0441\\u044c \\u043d\\u0430 \\u043e\\u0434\\u043d\\u0443 \\u043d\\u043e\\u0447\\u044c \\u0432 \\u044d\\u0442\\u043e\\u043c \\u043e\\u0442\\u0435\\u043b\\u0435. \\u041c\\u0435\\u0441\\u0442\\u043e \\u0443\\u0434\\u043e\\u0431\\u043d\\u043e\\u0435 \\u043d\\u0435\\u0434\\u0430\\u043b\\u0435\\u043a\\u043e \\u043e\\u0442 \\u043d\\u0430\\u0431\\u0435\\u0440\\u0435\\u0436\\u043d\\u043e\\u0439. \\u041f\\u043e \\u043a\\u0443\\u0445\\u043d\\u0435 \\u0438 \\u043e\\u0431\\u0441\\u043b\\u0443\\u0436\\u0438\\u0432\\u0430\\u043d\\u0438\\u044e \\u0432\\u0441\\u0451 \\u0445\\u043e\\u0440\\u043e\\u0448\\u043e. \\u041f\\u043e\\u0440\\u0446\\u0438\\u0438 \\u0434\\u043e\\u0441\\u0442\\u0430\\u0442\\u043e\\u0447\\u043d\\u044b\\u0435 \\u0435\\u0441\\u0442\\u044c \\u0447\\u0442\\u043e \\u0432\\u044b\\u0431\\u0440\\u0430\\u0442\\u044c \\u043d\\u0430 \\u0441\\u0432\\u043e\\u0439 \\u0432\\u043a\\u0443\\u0441. \\u0418\\u0437 \\u043c\\u0438\\u043d\\u0443\\u0441\\u043e\\u0432 \\u0442\\u043e \\u0447\\u0442\\u043e \\u0434\\u043b\\u044f \\u0434\\u0435\\u0442\\u0435\\u0439 \\u0435\\u0441\\u0442\\u044c \\u0434\\u0435\\u0442\\u0441\\u043a\\u0430\\u044f \\u043a\\u043e\\u043c\\u043d\\u0430\\u0442\\u0430 \\u0433\\u0434\\u0435 \\u0438\\u043c \\u043c\\u043e\\u0436\\u043d\\u043e \\u043f\\u043e\\u043a\\u0430\\u0447\\u0430\\u0442\\u044c\\u0441\\u044f \\u0432 \\u0433\\u0430\\u043c\\u0430\\u043a\\u0435. \\u0422\\u0430\\u043a\\u0436\\u0435 \\u0443 \\u043a\\u0430\\u0444\\u0435 \\u0433\\u0440\\u044f\\u0437\\u043d\\u043e. \\u0412 \\u0434\\u0435\\u0442\\u0441\\u043a\\u043e\\u0439 \\u043a\\u043e\\u043c\\u043d\\u0430\\u0442\\u0435 \\u043e\\u0447\\u0435\\u043d\\u044c \\u043c\\u043d\\u043e\\u0433\\u043e \\u0434\\u0435\\u0442\\u0435\\u0439. \\u0414\\u0435\\u0442\\u0438 \\u0432\\u0441\\u0435 \\u0432 \\u043e\\u0434\\u043d\\u043e\\u043c - \\u043c\\u0435\\u0441\\u0442\\u0435. \\u0418 \\u043d\\u0430 \\u0441\\u0442\\u043e\\u043b\\u0435 \\u0438 \\u0432 \\u0448\\u043a\\u0430\\u0444\\u0443. \\u041a \\u0441\\u0430\\u043c\\u043e\\u043c\\u0443 \\u043a\\u0430\\u0444\\u0435 \\u043f\\u0440\\u0435\\u0442\\u0435\\u043d\\u0437\\u0438\\u0439 \\u043d\\u0435\\u0442 \\u0432\\u0441\\u0435 \\u0447\\u0438\\u0441\\u0442\\u043e \\u0438 \\u0430\\u043a\\u043a\\u0443\\u0440\\u0430\\u0442\\u043d\\u043e \\u0435\\u0441\\u0442\\u044c \\u0434\\u0430\\u0436\\u0435 \\u0432\\u043e\\u0434\\u0430 \\u0447\\u0430\\u0439 \\u0438 \\u043f\\u0435\\u0447\\u0435\\u043d\\u044c\\u0435 \\u0432 \\u043a\\u0430\\u0447\\u0435\\u0441\\u0442\\u0432\\u0435 \\u043f\\u043e\\u0434\\u0430\\u0440\\u043a\\u043e\\u0432 \\u043d\\u0430 \\u0432\\u044b\\u0431\\u043e\\u0440. \\u0418\\u043d\\u0442\\u0435\\u0440\\u044c\\u0435\\u0440.\",\n          \"\\u042f \\u0431\\u044b \\u0445\\u043e\\u0442\\u0435\\u043b\\u0430 \\u043f\\u043e\\u0434\\u0435\\u043b\\u0438\\u0442\\u044c\\u0441\\u044f \\u043e\\u0442\\u0437\\u044b\\u0432\\u043e\\u043c \\u043e\\u0431 \\u044d\\u0442\\u043e\\u043c \\u043c\\u0430\\u0433\\u0430\\u0437\\u0438\\u043d\\u0435. \\u0412\\u043e-\\u043f\\u0435\\u0440\\u0432\\u044b\\u0445 \\u044f \\u0434\\u0430\\u0432\\u043d\\u043e \\u0445\\u043e\\u0442\\u0435\\u043b\\u0430 \\u0441\\u044e\\u0434\\u0430 \\u0437\\u0430\\u0439\\u0442\\u0438 \\u0447\\u0442\\u043e\\u0431\\u044b \\u043a\\u0443\\u043f\\u0438\\u0442\\u044c \\u0432\\u043a\\u0443\\u0441\\u043d\\u044b\\u0435 \\u0444\\u0440\\u0443\\u043a\\u0442\\u044b \\u0438 \\u043e\\u0432\\u043e\\u0449\\u0438. \\u0418 \\u0432\\u043e\\u0442 \\u0441\\u0435\\u0433\\u043e\\u0434\\u043d\\u044f \\u043a\\u0443\\u043f\\u0438\\u043b\\u0430. \\u041d\\u0435 \\u043e\\u0436\\u0438\\u0434\\u0430\\u043b\\u0430. \\u041e\\u0447\\u0435\\u043d\\u044c \\u0432\\u043a\\u0443\\u0441\\u043d\\u043e \\u0438 \\u043d\\u0435 \\u0442\\u043e\\u043b\\u044c\\u043a\\u043e \\u044f. \\u041d\\u043e \\u0441\\u0430\\u043c\\u043e\\u0435 \\u0438\\u043d\\u0442\\u0435\\u0440\\u0435\\u0441\\u043d\\u043e\\u0435 \\u0447\\u0442\\u043e \\u043f\\u0440\\u043e\\u0434\\u0430\\u0432\\u0435\\u0446 \\u043d\\u0430 \\u043a\\u0430\\u0441\\u0441\\u0435 \\u0431\\u044b\\u043b \\u0441\\u043e\\u0432\\u0435\\u0440\\u0448\\u0435\\u043d\\u043d\\u043e \\u043d\\u0435 \\u043e\\u0441\\u0432\\u0435\\u0434\\u043e\\u043c\\u043b\\u0451\\u043d \\u0432 \\u0430\\u0441\\u0441\\u043e\\u0440\\u0442\\u0438\\u043c\\u0435\\u043d\\u0442\\u0435 \\u0442\\u043e\\u0432\\u0430\\u0440\\u043e\\u0432. \\u0410 \\u043a\\u043e\\u0433\\u0434\\u0430 \\u044f \\u0441\\u043f\\u0440\\u043e\\u0441\\u0438\\u043b\\u0430 \\u0433\\u0434\\u0435 \\u043c\\u043e\\u0439 \\u0442\\u043e\\u0432\\u0430\\u0440 \\u043e\\u043d \\u043f\\u043e\\u043a\\u0430\\u0437\\u0430\\u043b \\u043c\\u043d\\u0435 \\u0447\\u0442\\u043e \\u0435\\u0433\\u043e \\u043d\\u0435 \\u0434\\u043e\\u0441\\u0442\\u0430\\u0451\\u0442. \\u041e\\u043d \\u043f\\u0440\\u043e\\u0441\\u0442\\u043e \\u0434\\u043e\\u0441\\u0442\\u0430\\u043b \\u0441\\u0432\\u043e\\u0439 \\u0442\\u043e\\u0432\\u0430\\u0440 \\u0432 \\u043a\\u043e\\u043d\\u0446\\u0435 \\u0440\\u0430\\u0431\\u043e\\u0447\\u0435\\u0433\\u043e \\u0434\\u043d\\u044f. \\u042f \\u0443\\u0436\\u0435 \\u0431\\u044b\\u043b\\u0430 \\u043f\\u043e\\u0434\\u0433\\u043e\\u0442\\u043e\\u0432\\u043b\\u0435\\u043d\\u0430 \\u043a \\u0442\\u043e\\u043c\\u0443 \\u0447\\u0442\\u043e\\u0431\\u044b \\u043d\\u0430 \\u043c\\u0435\\u043d\\u044f \\u043d\\u0430\\u043b\\u0435\\u0442\\u0435\\u043b\\u043e \\u0442\\u0430\\u043a\\u043e\\u0435 \\u043e\\u0442\\u043d\\u043e\\u0448\\u0435\\u043d\\u0438\\u0435 \\u0438 \\u0432 \\u0438\\u0442\\u043e\\u0433\\u0435 \\u044f \\u043f\\u0440\\u043e\\u0441\\u0442\\u043e \\u0440\\u0430\\u0437\\u0432\\u0435\\u0440\\u043d\\u0443\\u043b\\u0430\\u0441\\u044c \\u0438 \\u0443\\u0448\\u043b\\u0430. \\u0414\\u0430 \\u0438 \\u043b\\u0430\\u0434\\u043d\\u043e. \\u0422\\u0430\\u043a. \\u042d\\u0442\\u043e \\u043f\\u0440\\u043e\\u0441\\u0442\\u043e \\u0443\\u0436\\u0430\\u0441 \\u043a\\u0430\\u043a\\u043e\\u0439-\\u0442\\u043e. \\u041a\\u0430\\u043a \\u043d\\u0430 \\u043f\\u043e\\u0445\\u043e\\u0440\\u043e\\u043d\\u0430\\u0445 \\u0431\\u044b\\u043b\\u0438 \\u0432\\u0441\\u0435\\u0433\\u0434\\u0430 \\u0441 \\u0440\\u0435\\u0431\\u0451\\u043d\\u043a\\u043e\\u043c \\u0438 \\u0442\\u0430\\u043a \\u0432\\u0441\\u0435 \\u0438 \\u0434\\u043e \\u043c\\u0435\\u043b\\u043e\\u0447\\u0435\\u0439. \\u041d\\u043e \\u0441\\u0435\\u0433\\u043e\\u0434\\u043d\\u044f \\u0440\\u0435\\u0448\\u0438\\u043b\\u0430 \\u043a\\u0443\\u043f\\u0438\\u0442\\u044c \\u0440\\u0435\\u0431\\u0435\\u043d\\u043a\\u0443 \\u043d\\u0430\\u0431\\u043e\\u0440 \\u043f\\u043e \\u0440\\u0435\\u043a\\u043e\\u043c\\u0435\\u043d\\u0434\\u0430\\u0446\\u0438\\u0438. \\u0412 \\u043e\\u0434\\u043d\\u043e\\u043c \\u0438\\u0437 \\u043c\\u0430\\u0433\\u0430\\u0437\\u0438\\u043d\\u0447\\u0438\\u043a\\u043e\\u0432 \\u0437\\u0430\\u0431\\u0435\\u0436\\u0430\\u043b\\u0430 \\u0432 \\u044d\\u0442\\u043e\\u0442 \\u043c\\u0430\\u0433\\u0430\\u0437\\u0438\\u043d \\u0441 \\u043f\\u043e\\u043a\\u0443\\u043f\\u043a\\u043e\\u0439 \\u043f\\u0440\\u043e\\u0434\\u0443\\u043a\\u0442\\u043e\\u0432. \\u0412\\u044b\\u0431\\u043e\\u0440 \\u0442\\u043e\\u0432\\u0430\\u0440\\u0430 \\u0431\\u044b\\u043b \\u043e\\u0447\\u0435\\u043d\\u044c \\u0438 \\u043e\\u0447\\u0435\\u043d\\u044c \\u0431\\u043e\\u043b\\u044c\\u0448\\u043e\\u0439. \\u0410 \\u0446\\u0435\\u043d\\u0430 \\u043a\\u0430\\u043a \\u0440\\u0430\\u0437 \\u0432 \\u0440\\u0430\\u0437 \\u043e\\u0447\\u0435\\u043d\\u044c \\u0432\\u044b\\u0441\\u043e\\u043a\\u0430\\u044f. \\u041a\\u0443\\u043f\\u0438\\u043b\\u0430 \\u0434\\u043b\\u044f \\u0441\\u0435\\u0431\\u044f \\u0432 \\u044d\\u0442\\u043e\\u043c \\u043c\\u0430\\u0433\\u0430\\u0437\\u0438\\u043d\\u0435 \\u0432\\u0441\\u0435 \\u0447\\u0442\\u043e \\u043f\\u043e\\u043f\\u0440\\u043e\\u0441\\u0438\\u043b\\u0430. \\u0418 \\u044d\\u0442\\u043e \\u0443\\u0436\\u0435 \\u043d\\u0435 \\u043f\\u0435\\u0440\\u0432\\u044b\\u0439 \\u0440\\u0430\\u0437. \\u041f\\u043e \\u043f\\u0443\\u0442\\u0438 \\u0434\\u043e\\u043c\\u043e\\u0439 \\u0432 \\u0434\\u0440\\u0443\\u0433\\u043e\\u0439 \\u0440\\u0430\\u0439\\u043e\\u043d \\u0437\\u0430\\u0448\\u043b\\u0430 \\u0432 \\u043f\\u0440\\u043e\\u0434\\u0443\\u043a\\u0442\\u043e\\u0432\\u044b\\u0439. \\u0423\\u0432\\u0438\\u0434\\u0435\\u043b\\u0430 \\u0447\\u0442\\u043e \\u0432 \\u0434\\u0440\\u0443\\u0433\\u043e\\u043c \\u043c\\u0430\\u0433\\u0430\\u0437\\u0438\\u043d\\u0435 \\u044d\\u0442\\u043e\\u0442 \\u0436\\u0435 \\u043c\\u0430\\u0433\\u0430\\u0437\\u0438\\u043d\\u0447\\u0438\\u043a \\u0433\\u0434\\u0435 \\u044f \\u043f\\u043e\\u043a\\u0443\\u043f\\u0430\\u043b\\u0430 \\u043c\\u044f\\u0441\\u043e. \\u0421\\u043f\\u0440\\u043e\\u0441\\u0438\\u043b\\u0430 \\u0443 \\u043f\\u0440\\u043e\\u0434\\u0430\\u0432\\u0446\\u0430 \\u0447\\u0442\\u043e \\u043c\\u043d\\u0435. \\u0415\\u0441\\u043b\\u0438 \\u0431\\u044b \\u043c\\u043e\\u0436\\u043d\\u043e \\u0431\\u044b\\u043b\\u043e \\u043f\\u043e\\u0441\\u0442\\u0430\\u0432\\u0438\\u0442\\u044c \\u0447\\u0435\\u0442\\u044b\\u0440\\u0435 \\u0437\\u0432\\u0435\\u0437\\u0434\\u044b \\u043c\\u043d\\u0435 \\u043d\\u0435 \\u0441\\u043a\\u0430\\u0437\\u0430\\u043b\\u0430 \\u0431\\u044b \\u043d\\u0438\\u043a\\u043e\\u0433\\u0434\\u0430 \\u0432 \\u044d\\u0442\\u043e\\u043c \\u043c\\u0430\\u0433\\u0430\\u0437\\u0438\\u043d\\u0435. \\u0422\\u0430\\u043c \\u043e\\u0447\\u0435\\u043d\\u044c \\u0447\\u0438\\u0441\\u0442\\u043e \\u043f\\u0440\\u043e\\u0441\\u0442\\u043e\\u0440\\u043d\\u043e \\u0446\\u0435\\u043d\\u044b \\u043d\\u0438\\u0436\\u0435 \\u0447\\u0435\\u043c \\u0432 \\u043f\\u044f\\u0442\\u0435\\u0440\\u043e\\u0447\\u043a\\u0435. \\u0418 \\u0432\\u0441\\u0435\\u0433\\u0434\\u0430 \\u0435\\u0441\\u0442\\u044c \\u043e\\u0447\\u0435\\u0440\\u0435\\u0434\\u0438 \\u0447\\u0442\\u043e \\u043a\\u0430\\u0441\\u0430\\u0435\\u0442\\u0441\\u044f \\u0446\\u0435\\u043d\\u043e\\u0432\\u043e\\u0433\\u043e \\u0441\\u0435\\u0433\\u043c\\u0435\\u043d\\u0442\\u0430. \\u041d\\u0430 \\u043d\\u0435\\u043a\\u043e\\u0442\\u043e\\u0440\\u044b\\u0435 \\u0442\\u043e\\u0432\\u0430\\u0440\\u044b \\u0446\\u0435\\u043d\\u044b \\u043d\\u0435 \\u0441\\u043e\\u0432\\u043f\\u0430\\u0434\\u0430\\u044e\\u0442 \\u0430 \\u0437\\u0430\\u0447\\u0430\\u0441\\u0442\\u0443\\u044e \\u0435\\u0441\\u0442\\u044c \\u043a\\u0430\\u043a\\u0438\\u0435-\\u0442\\u043e \\u0441\\u044e\\u0440\\u043f\\u0440\\u0438\\u0437\\u044b. \\u041d\\u0435\\u043a\\u043e\\u0442\\u043e\\u0440\\u044b\\u0435 \\u0431\\u043b\\u044e\\u0434\\u0430 \\u0431\\u044b\\u0432\\u0430\\u044e\\u0442 \\u0434\\u0430\\u0436\\u0435 \\u0441\\u043b\\u0438\\u0448\\u043a\\u043e\\u043c \\u0441\\u043b\\u0430\\u0434\\u043a\\u0438\\u043c\\u0438 \\u043f\\u043e\\u0442\\u043e\\u043c\\u0443 \\u0447\\u0442\\u043e \\u0432 \\u044d\\u0442\\u043e\\u0439 \\u0441\\u0435\\u0442\\u0438 \\u0447\\u0430\\u0441\\u0442\\u043e \\u043d\\u0435 \\u0432\\u043a\\u0443\\u0441\\u043d\\u043e \\u043f\\u043e \\u0441\\u0443\\u0442\\u0438. \\u0426\\u0435\\u043d\\u044b \\u043d\\u0430 \\u0440\\u044f\\u0434 \\u043f\\u0440\\u043e\\u0434\\u0443\\u043a\\u0442\\u043e\\u0432 \\u043d\\u0438\\u0436\\u0435 \\u0438 \\u0438\\u043d\\u043e\\u0433\\u0434\\u0430 \\u0434\\u0430\\u0436\\u0435 \\u0432\\u044b\\u0448\\u0435 \\u0447\\u0435\\u043c \\u043d\\u0430 \\u043a\\u0430\\u0441\\u0441\\u0435 \\u043f\\u044f\\u0442\\u0451\\u0440\\u043e\\u0447\\u043a\\u0438. \\u041d\\u0443 \\u0438 \\u0435\\u0449\\u0451 \\u043c\\u043d\\u0435 \\u043a\\u0430\\u0436\\u0435\\u0442\\u0441\\u044f \\u0447\\u0442\\u043e \\u0434\\u0430\\u0436\\u0435 \\u0435\\u0441\\u043b\\u0438 \\u0437\\u0430\\u0441\\u0442\\u0430\\u0442\\u044c \\u0441\\u0432\\u043e\\u0439 \\u0432\\u044b\\u0431\\u043e\\u0440 \\u043d\\u0430 \\u043e\\u0434\\u043d\\u043e\\u043c \\u0442\\u043e\\u0432\\u0430\\u0440\\u0435 - \\u0442\\u043e \\u043c\\u043e\\u0436\\u043d\\u043e \\u0432\\u044b\\u0431\\u0440\\u0430\\u0442\\u044c \\u0438 \\u0442\\u043e \\u0447\\u0442\\u043e. \\u0425\\u043e\\u0440\\u043e\\u0448\\u0438\\u0439 \\u043c\\u0430\\u0433\\u0430\\u0437\\u0438\\u043d \\u0435\\u0441\\u043b\\u0438 \\u0445\\u043e\\u0447\\u0435\\u0448\\u044c \\u0447\\u0442\\u043e \\u0442\\u043e \\u043f\\u0440\\u0438\\u043e\\u0431\\u0440\\u0435\\u0441\\u0442\\u0438 \\u0432\\u0441\\u0435\\u0433\\u0434\\u0430 \\u043c\\u043e\\u0436\\u043d\\u043e \\u043a\\u0443\\u043f\\u0438\\u0442\\u044c. \\u041d\\u043e \\u043d\\u0435 \\u0432\\u0441\\u0435\\u0433\\u0434\\u0430 \\u0435\\u0441\\u0442\\u044c \\u043d\\u0435\\u043e\\u0431\\u0445\\u043e\\u0434\\u0438\\u043c\\u043e\\u0435 \\u043d\\u0430 \\u043a\\u0430\\u0441\\u0441\\u0435 \\u0438 \\u0430\\u0441\\u0441\\u043e\\u0440\\u0442\\u0438\\u043c\\u0435\\u043d\\u0442 \\u043d\\u0435 \\u043e\\u0447\\u0435\\u043d\\u044c. \\u041a \\u0441\\u043e\\u0436\\u0430\\u043b\\u0435\\u043d\\u0438\\u044e \\u043f\\u0440\\u0438\\u0445\\u043e\\u0434\\u0438\\u0442\\u0441\\u044f \\u0436\\u0434\\u0430\\u0442\\u044c. \\u042f \\u043d\\u0435 \\u0445\\u043e\\u0447\\u0443 \\u0440\\u0443\\u0433\\u0430\\u0442\\u044c\\u0441\\u044f \\u0437\\u0430 \\u043a\\u0430\\u0447\\u0435\\u0441\\u0442\\u0432\\u043e \\u043f\\u0440\\u043e\\u0434\\u0443\\u043a\\u0442\\u043e\\u0432 \\u043d\\u043e \\u0441 \\u043a\\u0430\\u0436\\u0434\\u044b\\u043c \\u0440\\u0430\\u0437\\u043e\\u043c \\u0432 \\u043b\\u0443\\u0447\\u0448\\u0443\\u044e \\u0441\\u0442\\u043e\\u0440\\u043e\\u043d\\u0443. \\u0412 \\u043f\\u043e\\u0441\\u043b\\u0435\\u0434\\u043d\\u0438\\u0439 \\u0440\\u0430\\u0437 \\u043c\\u043d\\u0435 \\u043d\\u0435 \\u043f\\u043e\\u043d\\u0440\\u0430\\u0432\\u0438\\u043b\\u043e\\u0441\\u044c. \\u041d\\u0435 \\u0431\\u044b\\u043b\\u043e \\u0446\\u0435\\u043d\\u043d\\u0438\\u043a\\u0430 \\u043d\\u0430 \\u043f\\u0440\\u043e\\u0434\\u0443\\u043a\\u0442\\u044b \\u043f\\u0440\\u0438 \\u043c\\u043d\\u0435 \\u043f\\u0440\\u043e\\u0434\\u0430\\u0432\\u0435\\u0446 \\u043d\\u0435 \\u0432\\u0437\\u044f\\u043b\\u0430 \\u0434\\u0430\\u0436\\u0435 \\u043f\\u0440\\u043e\\u0431\\u0443 \\u0430 \\u043f\\u0440\\u0438\\u043d\\u0435\\u0441\\u043b\\u0430 \\u043f\\u0440\\u043e\\u0431\\u043d\\u0443\\u044e \\u0442\\u043e \\u0435\\u0441\\u0442\\u044c \\u0432 \\u0438\\u0442\\u043e\\u0433\\u0435 \\u043f\\u0440\\u0438\\u0448\\u043b\\u043e\\u0441\\u044c \\u0435\\u0439 \\u0433\\u043e\\u0432\\u043e\\u0440\\u0438\\u0442\\u044c \\u0447\\u0442\\u043e \\u0431\\u044b \\u043e\\u043d\\u0430 \\u043d\\u0430\\u043c \\u043f\\u0440\\u043e\\u0431\\u0438\\u043b\\u0430 \\u0430 \\u044f \\u0432\\u0441\\u0435 \\u0440\\u0430\\u0432\\u043d\\u043e \\u0432\\u0437\\u044f\\u043b\\u0430 \\u0430 \\u043e\\u043d\\u0430 \\u043f\\u0440\\u043e\\u0431\\u0438\\u0432\\u0430\\u0435\\u0442 \\u0430 \\u043f\\u043e \\u043f\\u0440\\u0438\\u0445\\u043e\\u0434\\u0443 \\u0432\\u0441\\u0435 \\u0434\\u043e\\u0440\\u043e\\u0436\\u0435 \\u043f\\u043e \\u0446\\u0435\\u043d\\u0435. \\u042d\\u0442\\u043e \\u043a\\u043e\\u0433\\u0434\\u0430 \\u043c\\u044b \\u0432 \\u043c\\u0430\\u0433\\u0430\\u0437\\u0438\\u043d\\u0435 \\u043f\\u043e\\u043a\\u0443\\u043f\\u0430\\u043b\\u0438 \\u0432 \\u043e\\u0434\\u043d\\u043e\\u043c \\u0446\\u0435\\u043d\\u043d\\u0438\\u043a\\u0435. \\u041c\\u043d\\u0435 \\u043d\\u0440\\u0430\\u0432\\u0438\\u0442\\u044c\\u0441\\u044f \\u043c\\u0430\\u0433\\u0430\\u0437\\u0438\\u043d \\u043f\\u043e \\u043c\\u043e\\u0435\\u043c\\u0443 \\u043c\\u043d\\u0435\\u043d\\u0438\\u044e. \\u0417\\u0434\\u0435\\u0441\\u044c \\u044f \\u043a\\u0443\\u043f\\u0438\\u043b\\u0430 \\u043f\\u043e \\u0440\\u0430\\u0437\\u043d\\u044b\\u043c \\u043f\\u0440\\u0438\\u0447\\u0438\\u043d\\u0430\\u043c \\u043d\\u0435\\u0441\\u043a\\u043e\\u043b\\u044c\\u043a\\u043e \\u0432\\u0430\\u0440\\u0438\\u0430\\u043d\\u0442\\u043e\\u0432 \\u0445\\u043e\\u0437\\u0442\\u043e\\u0432\\u0430\\u0440\\u043e\\u0432 \\u043d\\u0430 \\u043b\\u044e\\u0431\\u043e\\u0439 \\u0432\\u043a\\u0443\\u0441 \\u0438 \\u043a\\u043e\\u0448\\u0435\\u043b\\u0451\\u043a. \\u0425\\u043e\\u0447\\u0443 \\u043e\\u0441\\u0442\\u0430\\u0432\\u0438\\u0442\\u044c \\u043f\\u043e\\u043b\\u043e\\u0436\\u0438\\u0442\\u0435\\u043b\\u044c\\u043d\\u044b\\u0439 \\u043e\\u0442\\u0437\\u044b\\u0432 \\u043e\\u0431 \\u044d\\u0442\\u043e\\u043c \\u043c\\u0430\\u0433\\u0430\\u0437\\u0438\\u043d\\u0447\\u0438\\u043a\\u0435. \\u0422\\u0430\\u043a \\u043a\\u0430\\u043a \\u0431\\u044b\\u043b\\u0430 \\u043f\\u0440\\u043e\\u0435\\u0437\\u0434\\u043e\\u043c \\u0432 \\u0442\\u0432\\u0435\\u0440\\u0438. \\u042d\\u0442\\u043e\\u0442 \\u043c\\u0430\\u0433\\u0430\\u0437\\u0438\\u043d\\u0447\\u0438\\u043a \\u0443 \\u043c\\u0435\\u043d\\u044f \\u0441\\u0442\\u0430\\u043b \\u043b\\u044e\\u0431\\u0438\\u043c\\u044b\\u043c \\u0438 \\u0440\\u043e\\u0434\\u043d\\u044b\\u043c. \\u042f \\u043f\\u043e\\u043a\\u0443\\u043f\\u0430\\u044e \\u0442\\u0430\\u043c \\u0438 \\u043f\\u0440\\u043e\\u0434\\u0443\\u043a\\u0442\\u044b \\u0438 \\u043e\\u0434\\u0435\\u0436\\u0434\\u0443. \\u0412\\u0441\\u0435\\u0433\\u0434\\u0430 \\u0447\\u0438\\u0441\\u0442\\u043e \\u0430\\u043a\\u043a\\u0443\\u0440\\u0430\\u0442\\u043d\\u043e \\u0438 \\u0430\\u043a\\u043a\\u0443\\u0440\\u0430\\u0442\\u043d\\u043e. \\u041f\\u0440\\u043e\\u0434\\u0430\\u0432\\u0446\\u044b \\u0432\\u0441\\u0435\\u0433\\u0434\\u0430 \\u0437\\u0434\\u043e\\u0440\\u043e\\u0432\\u0430\\u044e\\u0442\\u0441\\u044f \\u0432\\u0435\\u0436\\u043b\\u0438\\u0432\\u043e \\u0438 \\u0432\\u043d\\u0438\\u043c\\u0430\\u0442\\u0435\\u043b\\u044c\\u043d\\u043e. \\u041a \\u0441\\u043e\\u0436\\u0430\\u043b\\u0435\\u043d\\u0438\\u044e \\u043c\\u0430\\u0433\\u0430\\u0437\\u0438\\u043d \\u043c\\u043d\\u0435 \\u043d\\u0435 \\u043d\\u0440\\u0430\\u0432\\u0438\\u0442\\u0441\\u044f \\u044f \\u0432 \\u043d\\u0435\\u043c \\u0440\\u0430\\u0431\\u043e\\u0442\\u0430\\u044e \\u043f\\u043e\\u0447\\u0442\\u0438 \\u043f\\u043e\\u0441\\u0442\\u043e\\u044f\\u043d\\u043d\\u043e \\u0430 \\u0431\\u044b\\u0432\\u0430\\u0435\\u0442 \\u0438 \\u0440\\u0430\\u043d\\u044c\\u0448\\u0435 \\u043f\\u0440\\u0438\\u0445\\u043e\\u0434\\u0438\\u043b\\u043e\\u0441\\u044c \\u0437\\u0430\\u0434\\u0435\\u0440\\u0436\\u0438\\u0432\\u0430\\u0442\\u044c\\u0441\\u044f \\u043d\\u0430 \\u0440\\u0430\\u0431\\u043e\\u0442\\u0435 \\u0442. \\u0415. \\u041d\\u0430 \\u043d\\u0435\\u0441\\u043a\\u043e\\u043b\\u044c\\u043a\\u043e \\u0434\\u043d\\u0435\\u0439 \\u0430 \\u044d\\u0442\\u043e \\u043e\\u0447\\u0435\\u043d\\u044c \\u043f\\u0440\\u0438\\u044f\\u0442\\u043d\\u043e.\",\n          \"\\u0411\\u044b\\u043b\\u0438 \\u0432 \\u043c\\u0430\\u0433\\u0430\\u0437\\u0438\\u043d\\u0435 \\u0432\\u0447\\u0435\\u0440\\u0430 \\u043a\\u0443\\u043f\\u0438\\u043b\\u0438 \\u043a\\u0438\\u043d\\u0433\\u0441\\u0442\\u0430\\u0439\\u043b \\u043c\\u043e\\u043b\\u043e\\u0447\\u043d\\u044b\\u0439 \\u043a\\u043e\\u043a\\u0442\\u0435\\u0439\\u043b\\u044c \\u043d\\u0430 \\u0440\\u0443\\u0431 \\u0434\\u0435\\u0448\\u0435\\u0432\\u043b\\u0435 \\u0447\\u0435\\u043c \\u0432 \\u0441\\u043e\\u0441\\u0435\\u0434\\u043d\\u0438\\u0445 \\u043c\\u0430\\u0433\\u0430\\u0437\\u0438\\u043d\\u0447\\u0438\\u043a\\u0430\\u0445. \\u042f \\u0443\\u0442\\u043e\\u0447\\u043d\\u0438\\u043b\\u0430 \\u0446\\u0435\\u043d\\u0443 \\u043d\\u0430 \\u043a\\u0438\\u043c\\u0447\\u0438 \\u043d\\u043e \\u043e\\u043d \\u043e\\u043a\\u0430\\u0437\\u0430\\u043b\\u0441\\u044f \\u0434\\u043e\\u0440\\u043e\\u0436\\u0435 \\u0447\\u0435\\u043c \\u0443 \\u043a\\u043e\\u043d\\u043a\\u0443\\u0440\\u0435\\u043d\\u0442\\u043e\\u0432 \\u043d\\u0435 \\u043f\\u043e \\u043a\\u0430\\u0447\\u0435\\u0441\\u0442\\u0432\\u0443 \\u0438 \\u043d\\u0435 \\u0432\\u043a\\u0443\\u0441\\u0443. \\u0421\\u043f\\u0440\\u043e\\u0441\\u0438\\u043b\\u0430 \\u0446\\u0435\\u043d\\u0443 \\u0432 \\u0438\\u043d\\u0442\\u0435\\u0440\\u043d\\u0435\\u0442 \\u043c\\u0430\\u0433\\u0430\\u0437\\u0438\\u043d\\u0435 \\u0442\\u0430\\u043a \\u043a\\u0430\\u043a \\u044d\\u0442\\u043e \\u0434\\u0435\\u0439\\u0441\\u0442\\u0432\\u0438\\u0442\\u0435\\u043b\\u044c\\u043d\\u043e \\u0431\\u044b\\u043b \\u043a\\u0435\\u043d\\u0441\\u0442\\u043e\\u043d \\u043c\\u043e\\u043b\\u043e\\u0447\\u043d\\u044b\\u0435 \\u043a\\u043e\\u043a\\u0442\\u0435\\u0439\\u043b\\u0438 \\u043e\\u0442 \\u0444\\u0438\\u0440\\u043c\\u044b \\u0447\\u0442\\u043e \\u043c\\u043d\\u0435 \\u0441\\u0434\\u0435\\u043b\\u0430\\u043b\\u0438 \\u0441\\u043a\\u0438\\u0434\\u043a\\u0443 \\u0432 \\u043a\\u0430\\u0447\\u0435\\u0441\\u0442\\u0432\\u0435 \\u043a\\u043e\\u043c\\u043f\\u043b\\u0438\\u043c\\u0435\\u043d\\u0442\\u0430. \\u041a\\u0430\\u043a \\u043e\\u043a\\u0430\\u0437\\u0430\\u043b\\u043e\\u0441\\u044c \\u0441\\u043a\\u0438\\u0434\\u043a\\u0443 \\u0441\\u0434\\u0435\\u043b\\u0430\\u043b\\u0438 \\u0437\\u0430 \\u0434\\u043e\\u0441\\u0442\\u0430\\u0432\\u043a\\u0443 \\u043e\\u0442 \\u043a\\u0438\\u043d\\u0433\\u0430 \\u043c\\u043e\\u043b\\u043e\\u0447\\u043d\\u043e\\u0433\\u043e \\u043a\\u043e\\u043a\\u0442\\u0435\\u0439\\u043b\\u044f \\u0432 \\u0434\\u0440\\u0443\\u0433\\u043e\\u0439 \\u043c\\u0430\\u0433\\u0430\\u0437\\u0438\\u043d \\u0438 \\u0437\\u0430 \\u0442\\u043e\\u0432\\u0430\\u0440 \\u043a\\u043e\\u0442\\u043e\\u0440\\u044b\\u0439 \\u044f \\u043d\\u0435 \\u0437\\u0430\\u043a\\u0430\\u0437\\u044b\\u0432\\u0430\\u043b\\u0430. \\u041c\\u0430\\u0433\\u0430\\u0437\\u0438\\u043d \\u0433\\u0434\\u0435 \\u044f \\u0435\\u0433\\u043e \\u043a\\u0443\\u043f\\u0438\\u043b\\u0430 \\u0440\\u0430\\u0431\\u043e\\u0442\\u0430\\u0435\\u0442 \\u043d\\u0435 \\u0432 \\u044d\\u0442\\u043e\\u043c \\u043c\\u0430\\u0433\\u0430\\u0437\\u0438\\u043d\\u0435 \\u0430 \\u0432 \\u0441\\u043d\\u0442. \\u0410 \\u043a\\u044d\\u043c\\u043f. \\u041c\\u0430\\u0433\\u0430\\u0437\\u0438\\u043d \\u043a\\u0430\\u043a \\u043c\\u0430\\u0433\\u0430\\u0437\\u0438\\u043d. \\u041f\\u0440\\u043e\\u0434\\u0430\\u0432\\u0446\\u044b \\u0432 \\u043c\\u0430\\u0433\\u0430\\u0437\\u0438\\u043d\\u0435 \\u043d\\u0438\\u0447\\u0435\\u0433\\u043e \\u043e\\u0441\\u043e\\u0431\\u0435\\u043d\\u043d\\u043e\\u0433\\u043e \\u043d\\u0435 \\u0437\\u043d\\u0430\\u044e\\u0442 \\u043d\\u043e \\u044d\\u0442\\u043e \\u0432 \\u043f\\u0440\\u0438\\u043d\\u0446\\u0438\\u043f\\u0435 \\u043f\\u043e\\u043d\\u044f\\u0442\\u043d\\u043e \\u043f\\u043e \\u0442\\u043e\\u043c\\u0443 \\u0447\\u0442\\u043e \\u0446\\u0435\\u043d\\u044b \\u0435\\u0441\\u0442\\u044c \\u0430 \\u0432\\u043e\\u0442 \\u043a\\u0430\\u0447\\u0435\\u0441\\u0442\\u0432\\u043e \\u043f\\u0440\\u043e\\u0434\\u0443\\u043a\\u0442\\u043e\\u0432 \\u043d\\u0435 \\u043e\\u0447\\u0435\\u043d\\u044c. \\u0420\\u0430\\u043d\\u044c\\u0448\\u0435 \\u043a\\u043e\\u0433\\u0434\\u0430 \\u0446\\u0435\\u043d\\u044b \\u0432\\u044b\\u0440\\u043e\\u0441\\u043b\\u0438 \\u043a\\u0430\\u0447\\u0435\\u0441\\u0442\\u0432\\u043e \\u0443\\u043f\\u0430\\u043b\\u043e \\u0438 \\u0441\\u0442\\u0430\\u043b\\u043e \\u043e\\u0447\\u0435\\u043d\\u044c \\u043d\\u0435 \\u0438\\u043d\\u0442\\u0435\\u0440\\u0435\\u0441\\u043d\\u043e \\u043f\\u043e\\u043a\\u0443\\u043f\\u0430\\u0442\\u044c. \\u041d\\u0443 \\u0442\\u0430\\u043a \\u0438 \\u043a\\u0430\\u043a \\u043e\\u043a\\u0430\\u0437\\u0430\\u043b\\u043e\\u0441\\u044c \\u043f\\u043e\\u0441\\u043b\\u0435 \\u0441\\u043c\\u0435\\u043d\\u044b \\u043f\\u0435\\u0440\\u0441\\u043e\\u043d\\u0430\\u043b\\u0430 \\u044f \\u043c\\u043e\\u0433\\u0443 \\u0441\\u0435\\u0431\\u0435 \\u043f\\u0440\\u0435\\u0434\\u0441\\u0442\\u0430\\u0432\\u0438\\u0442\\u044c \\u0447\\u0442\\u043e \\u0432 \\u044d\\u0442\\u043e\\u043c \\u043c\\u0430\\u0433\\u0430\\u0437\\u0438\\u043d\\u0435 \\u0435\\u0441\\u0442\\u044c \\u0445\\u043e\\u0440\\u043e\\u0448\\u0438\\u0435 \\u043f\\u0440\\u043e\\u0434\\u0443\\u043a\\u0442\\u044b \\u0432 \\u043a\\u043e\\u0442\\u043e\\u0440\\u044b\\u0445 \\u0446\\u0435\\u043d\\u0430 \\u0437\\u0430\\u0432\\u044b\\u0448\\u0435\\u043d\\u0430. \\u042f \\u043a\\u0430\\u043a \\u0431\\u044b \\u0432 \\u0441\\u0442\\u043e\\u0440\\u043e\\u043d\\u0435 \\u043e\\u0442 \\u044d\\u0442\\u043e\\u0433\\u043e \\u0438 \\u043d\\u0435 \\u0445\\u043e\\u0442\\u0435\\u043b. \\u041d\\u043e \\u043a\\u043e\\u0433\\u0434\\u0430 \\u0443\\u0432\\u0438\\u0434\\u0435\\u043b \\u044d\\u0442\\u043e\\u0442 \\u043c\\u0430\\u0433\\u0430\\u0437\\u0438\\u043d \\u043f\\u043e\\u043d\\u044f\\u043b \\u0447\\u0442\\u043e \\u043d\\u0435 \\u043d\\u0430\\u0434\\u043e \\u0435\\u043c\\u0443 \\u043f\\u0440\\u043e\\u0434\\u0430\\u0432\\u0430\\u0442\\u044c. \\u0418 \\u044d\\u0442\\u043e \\u043d\\u0435 \\u0443\\u0434\\u0438\\u0432\\u0438\\u0442\\u0435\\u043b\\u044c\\u043d\\u043e. \\u041d\\u0430 \\u044d\\u0442\\u043e\\u043c \\u0432\\u0441\\u0451. \\u0412 \\u043e\\u0431\\u0449\\u0435\\u043c \\u0432\\u043f\\u0435\\u0447\\u0430\\u0442\\u043b\\u0435\\u043d\\u0438\\u044f \\u043e\\u0442 \\u043f\\u043e\\u0441\\u0435\\u0449\\u0435\\u043d\\u0438\\u044f \\u043c\\u0430\\u0433\\u0430\\u0437\\u0438\\u043d\\u0430 \\u043f\\u043e\\u043b\\u043e\\u0436\\u0438\\u0442\\u0435\\u043b\\u044c\\u043d\\u044b\\u0435 \\u0442\\u0430\\u043a \\u043a\\u0430\\u043a \\u043a\\u0430\\u0447\\u0435\\u0441\\u0442\\u0432\\u043e \\u043f\\u0440\\u043e\\u0434\\u0443\\u043a\\u0442\\u044b \\u043d\\u0430\\u043c\\u043d\\u043e\\u0433\\u043e \\u043b\\u0443\\u0447\\u0448\\u0435 \\u0447\\u0435\\u043c \\u0432. \\u0412 \\u0446\\u0435\\u043b\\u043e\\u043c \\u043c\\u0435\\u0441\\u0442\\u043e \\u043f\\u0440\\u0438\\u043b\\u0438\\u0447\\u043d\\u043e\\u0435. \\u041e\\u0447\\u0435\\u043d\\u044c \\u0431\\u043e\\u043b\\u044c\\u0448\\u043e\\u0439 \\u0430\\u0441\\u0441\\u043e\\u0440\\u0442\\u0438\\u043c\\u0435\\u043d\\u0442. \\u0424\\u0440\\u0443\\u043a\\u0442\\u044b \\u0438 \\u043e\\u0432\\u043e\\u0449\\u0438 \\u0435\\u0441\\u0442\\u044c \\u043d\\u0430 \\u043b\\u044e\\u0431\\u043e\\u0439 \\u0432\\u043a\\u0443\\u0441. \\u041e\\u0441\\u043e\\u0431\\u0435\\u043d\\u043d\\u043e \\u043f\\u043e\\u043d\\u0440\\u0430\\u0432\\u0438\\u043b\\u0438\\u0441\\u044c \\u0430\\u0440\\u0431\\u0443\\u0437\\u044b \\u043e\\u0441\\u043e\\u0431\\u0435\\u043d\\u043d\\u043e \\u0430\\u0431\\u0440\\u0438\\u043a\\u043e\\u0441\\u043e\\u0432\\u044b\\u0439. \\u0412\\u0441\\u0435\\u0433\\u0434\\u0430 \\u0432 \\u043d\\u0430\\u043b\\u0438\\u0447\\u0438\\u0438 \\u0440\\u0430\\u0437\\u043d\\u044b\\u0435 \\u0432\\u0438\\u0434\\u044b \\u0430\\u0440\\u0431\\u0443\\u0437\\u0430 \\u044f\\u0431\\u043b\\u043e\\u043a\\u0438 \\u0447\\u0435\\u0440\\u0451\\u043c\\u0443\\u0445\\u0430 \\u0433\\u0440\\u0443\\u0448\\u0438 \\u0440\\u043e\\u0437\\u0430 \\u0433\\u043e\\u0440\\u0442\\u0435\\u043d\\u0437\\u0438\\u044f \\u0438 \\u043d\\u0435\\u0441\\u043a\\u043e\\u043b\\u044c\\u043a\\u043e \\u0434\\u0440\\u0443\\u0433\\u0438\\u0445. \\u0423 \\u043c\\u0435\\u043d\\u044f \\u043d\\u0435\\u0441\\u043a\\u043e\\u043b\\u044c\\u043a\\u043e \\u0440\\u0430\\u0437 \\u0441\\u043b\\u0443\\u0447\\u0430\\u043b\\u043e\\u0441\\u044c \\u0441\\u0431\\u043e\\u0439 \\u043f\\u0440\\u0438 \\u043e\\u0442\\u043a\\u0440\\u044b\\u0442\\u0438\\u0438 \\u043c\\u0430\\u0433\\u0430\\u0437\\u0438\\u043d\\u0430 \\u043d\\u043e \\u044d\\u0442\\u043e \\u043d\\u0435 \\u0432\\u0441\\u0435\\u0433\\u0434\\u0430 \\u0441\\u0432\\u044f\\u0437\\u0430\\u043d\\u043e \\u0441 \\u043d\\u0435\\u043a\\u0430\\u0447\\u0435\\u0441\\u0442\\u0432\\u0435\\u043d\\u043d\\u044b\\u043c \\u0442\\u043e\\u0432\\u0430\\u0440\\u043e\\u043c. \\u0412 \\u043e\\u0441\\u043d\\u043e\\u0432\\u043d\\u043e\\u043c \\u044d\\u0442\\u043e \\u0441\\u0432\\u044f\\u0437\\u0430\\u043d\\u043e \\u0441\\u043e \\u0441\\u043b\\u043e\\u0436\\u043d\\u044b\\u043c\\u0438 \\u0442\\u043e\\u0440\\u0433\\u043e\\u0432\\u044b\\u043c\\u0438 \\u043c\\u0435\\u0441\\u0442\\u0430\\u043c\\u0438 \\u0438 \\u0431\\u043e\\u043b\\u044c\\u0448\\u0438\\u043c\\u0438 \\u043f\\u0440\\u043e\\u0445\\u043e\\u0434\\u0430\\u043c\\u0438. \\u0411\\u044b\\u0432\\u0430\\u044e\\u0442 \\u043d\\u0430\\u043a\\u043b\\u0430\\u0434\\u043a\\u0438 \\u0441 \\u0430\\u043a\\u0446\\u0438\\u0435\\u0439 \\u0438\\u043b\\u0438 \\u043d\\u0430 \\u043f\\u043e\\u043a\\u0443\\u043f\\u043a\\u0443 \\u0431\\u043e\\u043b\\u0435\\u0435 \\u0434\\u043e\\u0440\\u043e\\u0433\\u0438\\u0445 \\u043f\\u043e\\u0437\\u0438\\u0446\\u0438\\u0439. \\u041d\\u043e \\u044f \\u0431\\u044b \\u043d\\u0435 \\u0440\\u0435\\u043a\\u043e\\u043c\\u0435\\u043d\\u0434\\u043e\\u0432\\u0430\\u043b \\u0442\\u0443\\u0434\\u0430 \\u0445\\u043e\\u0434\\u0438\\u0442\\u044c. \\u0415\\u0441\\u0442\\u044c \\u043e\\u0442\\u0434\\u0435\\u043b \\u0433\\u0434\\u0435 \\u043c\\u043e\\u0436\\u043d\\u043e \\u043a\\u0443\\u043f\\u0438\\u0442\\u044c \\u0442\\u043e\\u0432\\u0430\\u0440. \\u0412 \\u044d\\u0442\\u043e\\u043c \\u0433\\u043e\\u0434\\u0443 \\u0431\\u044b\\u043b\\u0430 \\u043f\\u0440\\u043e\\u0435\\u0437\\u0434\\u043e\\u043c \\u0432 \\u0440\\u043e\\u0441\\u0442\\u043e\\u0432\\u0435-\\u043d\\u0430-\\u0434\\u043e\\u043d\\u0443. \\u0417\\u0430\\u0433\\u043b\\u044f\\u043d\\u0443\\u043b\\u0430 \\u0432 \\u044d\\u0442\\u043e\\u0442 \\u043c\\u0430\\u0433\\u0430\\u0437\\u0438\\u043d \\u043a\\u0443\\u043f\\u0438\\u0442\\u044c \\u0432\\u043a\\u0443\\u0441\\u043d\\u044f\\u0448\\u043a\\u0438 \\u043a \\u043f\\u0435\\u043b\\u044c\\u043c\\u0435\\u043d\\u044f\\u043c. \\u0412 \\u043c\\u0430\\u0433\\u0430\\u0437\\u0438\\u043d\\u0447\\u0438\\u043a\\u0435 \\u0432\\u0441\\u0442\\u0440\\u0435\\u0442\\u0438\\u043b\\u0430 \\u043f\\u0440\\u043e\\u0434\\u0430\\u0432\\u0435\\u0446 \\u043e\\u043a\\u0441\\u0430\\u043d\\u0430. \\u0412\\u0435\\u0436\\u043b\\u0438\\u0432\\u0430\\u044f \\u0438 \\u043f\\u043e\\u0437\\u0438\\u0442\\u0438\\u0432\\u043d\\u0430\\u044f \\u0434\\u0435\\u0432\\u0443\\u0448\\u043a\\u0430. \\u041d\\u0430 \\u043a\\u0430\\u0441\\u0441\\u0435 \\u044f \\u0432\\u0437\\u044f\\u043b\\u0430 \\u0441 \\u0441\\u043e\\u0431\\u043e\\u0439 \\u043f\\u0430\\u0440\\u0443 \\u043f\\u0430\\u043a\\u0435\\u0442\\u043e\\u0432. \\u041a \\u0441\\u043e\\u0436\\u0430\\u043b\\u0435\\u043d\\u0438\\u044e \\u043d\\u0435 \\u043d\\u0430\\u0448\\u043b\\u0430 \\u043a\\u0430\\u0441\\u0441\\u0438\\u0440\\u0430 \\u0434\\u043b\\u044f \\u043f\\u043e\\u043a\\u0443\\u043f\\u0430\\u0442\\u0435\\u043b\\u044f. \\u041e\\u043d\\u0430 \\u043d\\u0435 \\u043f\\u0440\\u0435\\u0434\\u0441\\u0442\\u0430\\u0432\\u0438\\u043b\\u0430\\u0441\\u044c. \\u041d\\u043e \\u0432\\u0441\\u0451 \\u0436\\u0435 \\u043c\\u044b \\u043f\\u043e\\u0434\\u043e\\u0448\\u043b\\u0438 \\u043a \\u043a\\u0430\\u0441\\u0441\\u0443 \\u0438 \\u044f \\u0441\\u043f\\u0440\\u043e\\u0441\\u0438\\u043b\\u0430 \\u043a\\u043e\\u0433\\u0434\\u0430 \\u043e\\u043d\\u0430 \\u0431\\u0443\\u0434\\u0435\\u0442 \\u043e\\u0442\\u043a\\u0440\\u044b\\u0432\\u0430\\u0442\\u044c \\u043a\\u0430\\u0432\\u0435\\u0440\\u0437\\u043d\\u0443\\u044e \\u0434\\u0432\\u0435\\u0440\\u044c. \\u041e\\u043a\\u0441\\u0430\\u043d\\u0430 \\u0441\\u043a\\u0430\\u0437\\u0430\\u043b\\u0430 \\u0447\\u0442\\u043e \\u043c\\u043d\\u0435 \\u043d\\u0443\\u0436\\u0435\\u043d \\u0442\\u043e\\u043b\\u044c\\u043a\\u043e \\u043f\\u0430\\u043a\\u0435\\u0442 \\u0438 \\u0434\\u0430\\u043b\\u0430 \\u043f\\u0430\\u043a\\u0435\\u0442. \\u042f \\u043e\\u0442\\u043a\\u0440\\u044b\\u043b\\u0430 \\u043f\\u0430\\u043a\\u0435\\u0442 \\u043e\\u0442\\u043a\\u0440\\u044b\\u043b\\u0430 \\u0438 \\u043e\\u043a\\u0430\\u0437\\u0430\\u043b\\u043e\\u0441\\u044c \\u0447\\u0442\\u043e \\u043a\\u0430\\u0441\\u0441\\u0438\\u0440 \\u043d\\u0430\\u0445\\u043e\\u0434\\u0438\\u0442\\u0441\\u044f \\u0432 \\u043e\\u0442\\u0434\\u0435\\u043b\\u044c. \\u0425\\u043e\\u0440\\u043e\\u0448\\u0438\\u0439 \\u0432\\u044b\\u0431\\u043e\\u0440 \\u043f\\u0440\\u043e\\u0434\\u0443\\u043a\\u0442\\u043e\\u0432. \\u0412 \\u0432\\u044b\\u0445\\u043e\\u0434\\u043d\\u044b\\u0435 \\u0432\\u0441\\u0435\\u0433\\u0434\\u0430 \\u0432\\u044b\\u0431\\u043e\\u0440 \\u0434\\u043e\\u0441\\u0442\\u0430\\u0442\\u043e\\u0447\\u043d\\u043e \\u0431\\u043e\\u043b\\u044c\\u0448\\u043e\\u0439 \\u043d\\u043e \\u0446\\u0435\\u043d\\u044b \\u043d\\u0430 \\u043e\\u0432\\u043e\\u0449\\u0438 \\u0438 \\u0444\\u0440\\u0443\\u043a\\u0442\\u044b \\u043a\\u0443\\u0441\\u0430\\u044e\\u0442\\u0441\\u044f. \\u0427\\u0430\\u0441\\u0442\\u043e \\u043d\\u0435 \\u0432\\u0441\\u0435\\u0433\\u0434\\u0430 \\u0431\\u044b\\u0432\\u0430\\u0435\\u0442 \\u043d\\u0443\\u0436\\u043d\\u044b\\u0439 \\u0432\\u0430\\u043c \\u0442\\u043e\\u0432\\u0430\\u0440. \\u041d\\u0430 \\u043f\\u0440\\u0438\\u043b\\u0430\\u0432\\u043a\\u0430\\u0445 \\u0432\\u0441\\u0435\\u0433\\u0434\\u0430 \\u0447\\u0438\\u0441\\u0442\\u043e \\u0438 \\u0441\\u0432\\u0435\\u0442\\u043b\\u043e. \\u041e\\u0447\\u0435\\u043d\\u044c \\u0445\\u043e\\u0440\\u043e\\u0448\\u043e \\u0441\\u0434\\u0435\\u043b\\u0430\\u043d \\u0441\\u0430\\u043d\\u0443\\u0437\\u0435\\u043b. \\u041c\\u043e\\u0436\\u043d\\u043e \\u043a\\u0443\\u043f\\u0438\\u0442\\u044c \\u0441\\u0432\\u0435\\u0436\\u0438\\u0435 \\u0444\\u0440\\u0443\\u043a\\u0442\\u044b \\u043a\\u043e\\u0442\\u043e\\u0440\\u044b\\u0435 \\u0435\\u0449\\u0435 \\u043d\\u0438\\u043a\\u0442\\u043e \\u043d\\u0435 \\u043e\\u0442\\u043c\\u0435\\u043d\\u044f\\u043b \\u0438 \\u0432 \\u0434\\u0430\\u043b\\u044c\\u043d\\u0435\\u0439\\u0448\\u0435\\u043c \\u043c\\u043e\\u0436\\u043d\\u043e \\u0432\\u044b\\u0431\\u0438\\u0440\\u0430\\u0442\\u044c \\u0438\\u0445 \\u043d\\u0430 \\u043c\\u0435\\u0441\\u0442\\u0435. \\u0410\\u0441\\u0441\\u043e\\u0440\\u0442\\u0438\\u043c\\u0435\\u043d\\u0442 \\u0434\\u043e\\u0432\\u043e\\u043b\\u044c\\u043d\\u043e \\u0431\\u043e\\u043b\\u044c\\u0448\\u043e\\u0439. \\u0415\\u0441\\u0442\\u044c \\u0442\\u043e\\u0432\\u0430\\u0440\\u044b \\u0441 \\u043d\\u0438\\u0437\\u043a\\u0438\\u043c \\u0446\\u0435\\u043d\\u043d\\u0438\\u043a\\u043e\\u043c \\u0438\\u043b\\u0438 \\u043d\\u0438\\u0436\\u0435 \\u0446\\u0435\\u043d. \\u0412\\u0441\\u0435\\u0433\\u0434\\u0430 \\u043c\\u043e\\u0436\\u043d\\u043e \\u043d\\u0430\\u0439\\u0442\\u0438 \\u0447\\u0442\\u043e-\\u0442\\u043e \\u043d\\u043e\\u0432\\u043e\\u0435. \\u0422\\u0430\\u043a\\u0436\\u0435 \\u043c\\u043e\\u0436\\u043d\\u043e \\u043f\\u0440\\u0438\\u043e\\u0431\\u0440\\u0435\\u0441\\u0442\\u0438 \\u043e\\u0432\\u043e\\u0449\\u0438 \\u043d\\u0430 \\u0433\\u0440\\u0438\\u043b\\u0435 \\u0438 \\u043a\\u043e\\u043b\\u0431\\u0430\\u0441\\u0443. \\u0426\\u0435\\u043d\\u044b \\u0437\\u0434\\u0435\\u0441\\u044c \\u043d\\u0438\\u0436\\u0435 \\u0447\\u0435\\u043c \\u043d\\u0430 \\u043c\\u043d\\u043e\\u0433\\u0438\\u0435 \\u0430\\u043d\\u0430\\u043b\\u043e\\u0433\\u0438\\u0447\\u043d\\u044b\\u0435 \\u043c\\u0430\\u0433\\u0430\\u0437\\u0438\\u043d\\u044b. \\u0427\\u0442\\u043e \\u043a\\u0430\\u0441\\u0430\\u0435\\u0442\\u0441\\u044f \\u0435\\u0434\\u044b \\u0442\\u043e \\u0432 \\u043c\\u0430\\u0433\\u0430\\u0437\\u0438\\u043d\\u0435 \\u0435\\u0441\\u0442\\u044c \\u0438 \\u0432\\u043a\\u0443\\u0441\\u043d\\u044b\\u0435 \\u0438 \\u043a\\u0430\\u0447\\u0435\\u0441\\u0442\\u0432\\u0435\\u043d\\u043d\\u044b\\u0435.\"\n        ],\n        \"semantic_type\": \"\",\n        \"description\": \"\"\n      }\n    },\n    {\n      \"column\": \"average_perplexity\",\n      \"properties\": {\n        \"dtype\": \"number\",\n        \"std\": 2.6767820773042286,\n        \"min\": 27.37643966674805,\n        \"max\": 33.96641540527344,\n        \"num_unique_values\": 5,\n        \"samples\": [\n          29.673904037475587,\n          32.817635726928714,\n          32.40573616027832\n        ],\n        \"semantic_type\": \"\",\n        \"description\": \"\"\n      }\n    },\n    {\n      \"column\": \"key_words\",\n      \"properties\": {\n        \"dtype\": \"string\",\n        \"num_unique_values\": 5,\n        \"samples\": [\n          \"\\u0446\\u0435\\u043d\\u0430, \\u043f\\u0435\\u0440\\u0441\\u043e\\u043d\\u0430\\u043b, \\u043e\\u0431\\u0441\\u043b\\u0443\\u0436\\u0438\\u0432\\u0430\\u043d\\u0438\\u0435, \\u043c\\u0435\\u0441\\u0442\\u043e, \\u043c\\u0435\\u043d\\u044e, \\u043a\\u0443\\u0445\\u043d\\u044f, \\u043a\\u0430\\u0444\\u0435, \\u0437\\u0430\\u0432\\u0435\\u0434\\u0435\\u043d\\u0438\\u0435, \\u0435\\u0434\\u0430, \\u0431\\u043b\\u044e\\u0434\\u043e, \\u0430\\u0442\\u043c\\u043e\\u0441\\u0444\\u0435\\u0440\\u0430\",\n          \"\\u0446\\u0435\\u043d\\u0430, \\u0442\\u043e\\u0432\\u0430\\u0440, \\u043f\\u0440\\u043e\\u0434\\u0443\\u043a\\u0442, \\u043f\\u0435\\u0440\\u0441\\u043e\\u043d\\u0430\\u043b, \\u043e\\u0447\\u0435\\u0440\\u0435\\u0434\\u044c, \\u043c\\u0430\\u0433\\u0430\\u0437\\u0438\\u043d, \\u043a\\u0430\\u0447\\u0435\\u0441\\u0442\\u0432\\u043e, \\u043a\\u0430\\u0441\\u0441\\u0430, \\u0432\\u044b\\u0431\\u043e\\u0440, \\u0430\\u0441\\u0441\\u043e\\u0440\\u0442\\u0438\\u043c\\u0435\\u043d\\u0442\",\n          \"\\u0446\\u0435\\u043d\\u0430, \\u0442\\u043e\\u0432\\u0430\\u0440, \\u043f\\u0440\\u043e\\u0434\\u0443\\u043a\\u0442, \\u043f\\u0435\\u0440\\u0441\\u043e\\u043d\\u0430\\u043b, \\u043c\\u0430\\u0433\\u0430\\u0437\\u0438\\u043d, \\u043a\\u0430\\u0441\\u0441\\u0430, \\u0432\\u044b\\u0431\\u043e\\u0440, \\u0430\\u0441\\u0441\\u043e\\u0440\\u0442\\u0438\\u043c\\u0435\\u043d\\u0442\"\n        ],\n        \"semantic_type\": \"\",\n        \"description\": \"\"\n      }\n    },\n    {\n      \"column\": \"keyword_percentage\",\n      \"properties\": {\n        \"dtype\": \"number\",\n        \"std\": 19.04310692265166,\n        \"min\": 40.0,\n        \"max\": 87.5,\n        \"num_unique_values\": 5,\n        \"samples\": [\n          63.63636363636363,\n          70.0,\n          87.5\n        ],\n        \"semantic_type\": \"\",\n        \"description\": \"\"\n      }\n    }\n  ]\n}"
            }
          },
          "metadata": {},
          "execution_count": 136
        }
      ]
    },
    {
      "cell_type": "markdown",
      "source": [
        " Визуализируем процент ключевых слов и среднее значение perplexity для каждой категории"
      ],
      "metadata": {
        "id": "22wM-C0nsXsP"
      }
    },
    {
      "cell_type": "code",
      "source": [
        "# Устанавливаем стиль графиков\n",
        "sns.set(style=\"whitegrid\")\n",
        "\n",
        "# Создаем фигуру и оси\n",
        "fig, ax1 = plt.subplots(figsize=(12, 6))\n",
        "\n",
        "# Столбчатая диаграмма для процента ключевых слов\n",
        "sns.barplot(x='category', y='keyword_percentage', data=grouped, ax=ax1, color='b', alpha=0.6, label='Процент ключевых слов')\n",
        "ax1.set_ylabel('Процент ключевых слов (%)', color='b')\n",
        "ax1.tick_params(axis='y', labelcolor='b')\n",
        "ax1.set_xticklabels(ax1.get_xticklabels(), rotation=45)\n",
        "\n",
        "# Создаем вторую ось для среднего perplexity\n",
        "ax2 = ax1.twinx()\n",
        "sns.lineplot(x='category', y='average_perplexity', data=grouped, ax=ax2, color='r', marker='o', label='Средний perplexity')\n",
        "ax2.set_ylabel('Средний perplexity', color='r')\n",
        "ax2.tick_params(axis='y', labelcolor='r')\n",
        "\n",
        "# Добавляем заголовок и легенду\n",
        "plt.title('Визуализация процента ключевых слов и среднего perplexity по категориям')\n",
        "ax1.legend(loc='upper left')\n",
        "ax2.legend(loc='upper right')\n",
        "\n",
        "# Показываем график\n",
        "plt.tight_layout()\n",
        "plt.show()"
      ],
      "metadata": {
        "colab": {
          "base_uri": "https://localhost:8080/",
          "height": 636
        },
        "id": "rFfFz4PMr7ib",
        "outputId": "8c8347bd-4fce-4b74-df66-d5437a47c967"
      },
      "execution_count": null,
      "outputs": [
        {
          "output_type": "stream",
          "name": "stderr",
          "text": [
            "<ipython-input-138-ee08f5db0318>:11: UserWarning: set_ticklabels() should only be used with a fixed number of ticks, i.e. after set_ticks() or using a FixedLocator.\n",
            "  ax1.set_xticklabels(ax1.get_xticklabels(), rotation=45)\n"
          ]
        },
        {
          "output_type": "display_data",
          "data": {
            "text/plain": [
              "<Figure size 1200x600 with 2 Axes>"
            ],
            "image/png": "[encoded data removed]"
          },
          "metadata": {}
        }
      ]
    },
    {
      "cell_type": "code",
      "source": [
        "# Сохраняем результат\n",
        "df_eval.to_csv('/content/drive/MyDrive/Проектный практикум 3/metrics.csv', index=False)"
      ],
      "metadata": {
        "id": "k7b9wcsIro4w"
      },
      "execution_count": null,
      "outputs": []
    },
    {
      "cell_type": "markdown",
      "source": [
        "Можно сделать следующие выводы о качестве генерирования отзывов:\n",
        "\n",
        "Высокий процент ключевых слов указывает на значительную релевантность контента. Например, категория \"Магазин продуктов\" демонстрирует 87.5% ключевых слов, что свидетельствует о фокусе на основных аспектах темы.\n",
        "\n",
        "Значения перплексии, варьирующиеся от 27.37 до 33.97, указывают на различную сложность текста. Низкая перплексия в категории \"Гостиница\" может отражать более простую и прямую структуру отзывов, что улучшает читаемость.\n",
        "\n",
        " Разнообразие ключевых слов по различным категориям (например, \"цена\", \"персонал\") предполагает способность модели охватить основные аспекты каждой темы, способствуя созданию содержательного отзыва.\n",
        "\n",
        "Эти указывает на способность нейронной сети генерировать содержательные и тематически релевантные отзывы, отражающие основные аспекты каждой категории."
      ],
      "metadata": {
        "id": "Xt_bneLr4kfT"
      }
    }
  ]
}